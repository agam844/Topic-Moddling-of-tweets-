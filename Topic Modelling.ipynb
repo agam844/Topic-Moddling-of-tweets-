{
  "cells": [
    {
      "cell_type": "code",
      "execution_count": null,
      "id": "46b76c84",
      "metadata": {
        "id": "46b76c84",
        "colab": {
          "base_uri": "https://localhost:8080/"
        },
        "outputId": "33d9c331-9c87-49a1-8d9e-25e59770b1e4"
      },
      "outputs": [
        {
          "output_type": "stream",
          "name": "stderr",
          "text": [
            "/usr/local/lib/python3.9/dist-packages/torch/cuda/__init__.py:497: UserWarning: Can't initialize NVML\n",
            "  warnings.warn(\"Can't initialize NVML\")\n",
            "[nltk_data] Downloading package stopwords to /root/nltk_data...\n",
            "[nltk_data]   Unzipping corpora/stopwords.zip.\n",
            "[nltk_data] Downloading package punkt to /root/nltk_data...\n",
            "[nltk_data]   Unzipping tokenizers/punkt.zip.\n"
          ]
        },
        {
          "output_type": "execute_result",
          "data": {
            "text/plain": [
              "True"
            ]
          },
          "metadata": {},
          "execution_count": 1
        }
      ],
      "source": [
        "import pandas as pd\n",
        "import numpy as np\n",
        "import matplotlib.pyplot as plt\n",
        "import re\n",
        "import nltk\n",
        "import spacy\n",
        "from nltk.corpus import stopwords\n",
        "from sklearn.feature_extraction.text import TfidfVectorizer\n",
        "from sklearn.decomposition import NMF\n",
        "import gensim\n",
        "import nltk\n",
        "from nltk.corpus import stopwords\n",
        "from gensim import corpora\n",
        "from gensim.corpora import Dictionary\n",
        "from gensim.models.ldamodel import LdaModel\n",
        "from gensim.models.coherencemodel import CoherenceModel\n",
        "import matplotlib.pyplot as plt\n",
        "import seaborn as sns\n",
        "from sklearn.manifold import TSNE\n",
        "from sklearn.preprocessing import StandardScaler\n",
        "\n",
        "nltk.download('stopwords')  \n",
        "nlp = spacy.load(\"en_core_web_sm\")\n",
        "nltk.download('punkt')"
      ]
    },
    {
      "cell_type": "code",
      "source": [
        "# from google.colab import drive\n",
        "# drive.mount('/content/drive')"
      ],
      "metadata": {
        "colab": {
          "base_uri": "https://localhost:8080/"
        },
        "id": "weIy_3o27hnq",
        "outputId": "b002aa30-c8b1-4b79-f7df-ff7e45fa6d92"
      },
      "id": "weIy_3o27hnq",
      "execution_count": null,
      "outputs": [
        {
          "output_type": "stream",
          "name": "stdout",
          "text": [
            "Mounted at /content/drive\n"
          ]
        }
      ]
    },
    {
      "cell_type": "code",
      "source": [
        "# import os\n",
        "# os.chdir('/content/drive/MyDrive/Colab Notebooks')"
      ],
      "metadata": {
        "id": "WowcQ33N7iYF"
      },
      "id": "WowcQ33N7iYF",
      "execution_count": null,
      "outputs": []
    },
    {
      "cell_type": "code",
      "execution_count": null,
      "id": "c0989ec8",
      "metadata": {
        "id": "c0989ec8"
      },
      "outputs": [],
      "source": [
        "doc = pd.read_csv(\"tweets.csv\")"
      ]
    },
    {
      "cell_type": "code",
      "execution_count": null,
      "id": "c3f0caae",
      "metadata": {
        "colab": {
          "base_uri": "https://localhost:8080/"
        },
        "id": "c3f0caae",
        "outputId": "f3ab3782-e8b7-4655-a933-3b173708acc0"
      },
      "outputs": [
        {
          "output_type": "stream",
          "name": "stdout",
          "text": [
            "<class 'pandas.core.frame.DataFrame'>\n",
            "RangeIndex: 10001 entries, 0 to 10000\n",
            "Data columns (total 5 columns):\n",
            " #   Column    Non-Null Count  Dtype  \n",
            "---  ------    --------------  -----  \n",
            " 0   _id       10001 non-null  int64  \n",
            " 1   username  10001 non-null  object \n",
            " 2   text      10001 non-null  object \n",
            " 3   qScore    10001 non-null  float64\n",
            " 4   nScore    10001 non-null  float64\n",
            "dtypes: float64(2), int64(1), object(2)\n",
            "memory usage: 390.8+ KB\n"
          ]
        }
      ],
      "source": [
        "doc.info()"
      ]
    },
    {
      "cell_type": "markdown",
      "id": "ea542e57",
      "metadata": {
        "id": "ea542e57"
      },
      "source": [
        "## Cleaning"
      ]
    },
    {
      "cell_type": "code",
      "execution_count": null,
      "id": "d08a6fbf",
      "metadata": {
        "colab": {
          "base_uri": "https://localhost:8080/",
          "height": 206
        },
        "id": "d08a6fbf",
        "outputId": "eca1f6ae-44cf-4e00-df69-823c66f57bc1"
      },
      "outputs": [
        {
          "output_type": "execute_result",
          "data": {
            "text/plain": [
              "                   _id         username  \\\n",
              "0  1621600585291014145    realJackEason   \n",
              "1  1621600584360153088  ManojKu40226010   \n",
              "2  1621600585358233600       TansyWatts   \n",
              "3  1621600585391783943    Green_Man1984   \n",
              "4  1621600586020933632   bruis3pristin3   \n",
              "\n",
              "                                                text    qScore    nScore  \n",
              "0  @pansexualflower Criterion certainly have US r...  0.613271  2.934114  \n",
              "1  🇨🇳 🇺🇸 #China\\n#Chinese #Foreign #Ministry said...  0.446642 -2.994406  \n",
              "2  “As they began to understand the children’s op...  0.609156  1.772004  \n",
              "3  Excess Deaths Skyrocket Again In England And W...  0.608929 -1.639187  \n",
              "4  @altgirlalterego scotland, seychelles, syria, ...  0.608089 -0.254614  "
            ],
            "text/html": [
              "\n",
              "  <div id=\"df-90b34aa7-9f4e-4f7d-a92e-7c8c842c89e9\">\n",
              "    <div class=\"colab-df-container\">\n",
              "      <div>\n",
              "<style scoped>\n",
              "    .dataframe tbody tr th:only-of-type {\n",
              "        vertical-align: middle;\n",
              "    }\n",
              "\n",
              "    .dataframe tbody tr th {\n",
              "        vertical-align: top;\n",
              "    }\n",
              "\n",
              "    .dataframe thead th {\n",
              "        text-align: right;\n",
              "    }\n",
              "</style>\n",
              "<table border=\"1\" class=\"dataframe\">\n",
              "  <thead>\n",
              "    <tr style=\"text-align: right;\">\n",
              "      <th></th>\n",
              "      <th>_id</th>\n",
              "      <th>username</th>\n",
              "      <th>text</th>\n",
              "      <th>qScore</th>\n",
              "      <th>nScore</th>\n",
              "    </tr>\n",
              "  </thead>\n",
              "  <tbody>\n",
              "    <tr>\n",
              "      <th>0</th>\n",
              "      <td>1621600585291014145</td>\n",
              "      <td>realJackEason</td>\n",
              "      <td>@pansexualflower Criterion certainly have US r...</td>\n",
              "      <td>0.613271</td>\n",
              "      <td>2.934114</td>\n",
              "    </tr>\n",
              "    <tr>\n",
              "      <th>1</th>\n",
              "      <td>1621600584360153088</td>\n",
              "      <td>ManojKu40226010</td>\n",
              "      <td>🇨🇳 🇺🇸 #China\\n#Chinese #Foreign #Ministry said...</td>\n",
              "      <td>0.446642</td>\n",
              "      <td>-2.994406</td>\n",
              "    </tr>\n",
              "    <tr>\n",
              "      <th>2</th>\n",
              "      <td>1621600585358233600</td>\n",
              "      <td>TansyWatts</td>\n",
              "      <td>“As they began to understand the children’s op...</td>\n",
              "      <td>0.609156</td>\n",
              "      <td>1.772004</td>\n",
              "    </tr>\n",
              "    <tr>\n",
              "      <th>3</th>\n",
              "      <td>1621600585391783943</td>\n",
              "      <td>Green_Man1984</td>\n",
              "      <td>Excess Deaths Skyrocket Again In England And W...</td>\n",
              "      <td>0.608929</td>\n",
              "      <td>-1.639187</td>\n",
              "    </tr>\n",
              "    <tr>\n",
              "      <th>4</th>\n",
              "      <td>1621600586020933632</td>\n",
              "      <td>bruis3pristin3</td>\n",
              "      <td>@altgirlalterego scotland, seychelles, syria, ...</td>\n",
              "      <td>0.608089</td>\n",
              "      <td>-0.254614</td>\n",
              "    </tr>\n",
              "  </tbody>\n",
              "</table>\n",
              "</div>\n",
              "      <button class=\"colab-df-convert\" onclick=\"convertToInteractive('df-90b34aa7-9f4e-4f7d-a92e-7c8c842c89e9')\"\n",
              "              title=\"Convert this dataframe to an interactive table.\"\n",
              "              style=\"display:none;\">\n",
              "        \n",
              "  <svg xmlns=\"http://www.w3.org/2000/svg\" height=\"24px\"viewBox=\"0 0 24 24\"\n",
              "       width=\"24px\">\n",
              "    <path d=\"M0 0h24v24H0V0z\" fill=\"none\"/>\n",
              "    <path d=\"M18.56 5.44l.94 2.06.94-2.06 2.06-.94-2.06-.94-.94-2.06-.94 2.06-2.06.94zm-11 1L8.5 8.5l.94-2.06 2.06-.94-2.06-.94L8.5 2.5l-.94 2.06-2.06.94zm10 10l.94 2.06.94-2.06 2.06-.94-2.06-.94-.94-2.06-.94 2.06-2.06.94z\"/><path d=\"M17.41 7.96l-1.37-1.37c-.4-.4-.92-.59-1.43-.59-.52 0-1.04.2-1.43.59L10.3 9.45l-7.72 7.72c-.78.78-.78 2.05 0 2.83L4 21.41c.39.39.9.59 1.41.59.51 0 1.02-.2 1.41-.59l7.78-7.78 2.81-2.81c.8-.78.8-2.07 0-2.86zM5.41 20L4 18.59l7.72-7.72 1.47 1.35L5.41 20z\"/>\n",
              "  </svg>\n",
              "      </button>\n",
              "      \n",
              "  <style>\n",
              "    .colab-df-container {\n",
              "      display:flex;\n",
              "      flex-wrap:wrap;\n",
              "      gap: 12px;\n",
              "    }\n",
              "\n",
              "    .colab-df-convert {\n",
              "      background-color: #E8F0FE;\n",
              "      border: none;\n",
              "      border-radius: 50%;\n",
              "      cursor: pointer;\n",
              "      display: none;\n",
              "      fill: #1967D2;\n",
              "      height: 32px;\n",
              "      padding: 0 0 0 0;\n",
              "      width: 32px;\n",
              "    }\n",
              "\n",
              "    .colab-df-convert:hover {\n",
              "      background-color: #E2EBFA;\n",
              "      box-shadow: 0px 1px 2px rgba(60, 64, 67, 0.3), 0px 1px 3px 1px rgba(60, 64, 67, 0.15);\n",
              "      fill: #174EA6;\n",
              "    }\n",
              "\n",
              "    [theme=dark] .colab-df-convert {\n",
              "      background-color: #3B4455;\n",
              "      fill: #D2E3FC;\n",
              "    }\n",
              "\n",
              "    [theme=dark] .colab-df-convert:hover {\n",
              "      background-color: #434B5C;\n",
              "      box-shadow: 0px 1px 3px 1px rgba(0, 0, 0, 0.15);\n",
              "      filter: drop-shadow(0px 1px 2px rgba(0, 0, 0, 0.3));\n",
              "      fill: #FFFFFF;\n",
              "    }\n",
              "  </style>\n",
              "\n",
              "      <script>\n",
              "        const buttonEl =\n",
              "          document.querySelector('#df-90b34aa7-9f4e-4f7d-a92e-7c8c842c89e9 button.colab-df-convert');\n",
              "        buttonEl.style.display =\n",
              "          google.colab.kernel.accessAllowed ? 'block' : 'none';\n",
              "\n",
              "        async function convertToInteractive(key) {\n",
              "          const element = document.querySelector('#df-90b34aa7-9f4e-4f7d-a92e-7c8c842c89e9');\n",
              "          const dataTable =\n",
              "            await google.colab.kernel.invokeFunction('convertToInteractive',\n",
              "                                                     [key], {});\n",
              "          if (!dataTable) return;\n",
              "\n",
              "          const docLinkHtml = 'Like what you see? Visit the ' +\n",
              "            '<a target=\"_blank\" href=https://colab.research.google.com/notebooks/data_table.ipynb>data table notebook</a>'\n",
              "            + ' to learn more about interactive tables.';\n",
              "          element.innerHTML = '';\n",
              "          dataTable['output_type'] = 'display_data';\n",
              "          await google.colab.output.renderOutput(dataTable, element);\n",
              "          const docLink = document.createElement('div');\n",
              "          docLink.innerHTML = docLinkHtml;\n",
              "          element.appendChild(docLink);\n",
              "        }\n",
              "      </script>\n",
              "    </div>\n",
              "  </div>\n",
              "  "
            ]
          },
          "metadata": {},
          "execution_count": 6
        }
      ],
      "source": [
        "doc.head()"
      ]
    },
    {
      "cell_type": "code",
      "execution_count": null,
      "id": "3ec8fba6",
      "metadata": {
        "id": "3ec8fba6"
      },
      "outputs": [],
      "source": [
        "#remove the twitter handles\n",
        "clean = []\n",
        "for text in doc['text']:\n",
        "  clean_tweet = re.sub(r'@\\w+', '', text)\n",
        "  clean.append(clean_tweet)\n",
        "doc['clean_text'] = clean"
      ]
    },
    {
      "cell_type": "code",
      "execution_count": null,
      "id": "f239bf39",
      "metadata": {
        "colab": {
          "base_uri": "https://localhost:8080/"
        },
        "id": "f239bf39",
        "outputId": "6f6ea55a-0a71-488c-ef22-07c35aee2585"
      },
      "outputs": [
        {
          "output_type": "stream",
          "name": "stderr",
          "text": [
            "<ipython-input-8-3cd66f1f5bd1>:2: FutureWarning: The default value of regex will change from True to False in a future version.\n",
            "  doc['clean_text'] = doc['clean_text'].str.replace(\"[^a-zA-Z]\", \" \")\n"
          ]
        }
      ],
      "source": [
        "#remove special characters, numbers and punctuations\n",
        "doc['clean_text'] = doc['clean_text'].str.replace(\"[^a-zA-Z]\", \" \")"
      ]
    },
    {
      "cell_type": "code",
      "execution_count": null,
      "id": "33fdb6d5",
      "metadata": {
        "id": "33fdb6d5"
      },
      "outputs": [],
      "source": [
        "#using Spacy to remove all the spaces, punctuations and stopwords\n",
        "#removing all the words that have a length less than 3 because tweets contain word such as rt, which is not required\n",
        "def text_cleanup(text):\n",
        "  tokens = []\n",
        "  doc = nlp(text)\n",
        "  for t in doc:\n",
        "    if not t.is_stop and not t.is_punct and not  t.is_space and len(t) > 3:\n",
        "      tokens.append(t.lemma_.lower())\n",
        "  return ' '.join(tokens)"
      ]
    },
    {
      "cell_type": "code",
      "execution_count": null,
      "id": "558de938",
      "metadata": {
        "id": "558de938"
      },
      "outputs": [],
      "source": [
        "filtered = []\n",
        "for d in doc['clean_text']:\n",
        "    processed_text = text_cleanup(d)\n",
        "    filtered.append(processed_text)\n",
        "doc['clean_text'] = filtered"
      ]
    },
    {
      "cell_type": "code",
      "execution_count": null,
      "id": "bac96af1",
      "metadata": {
        "id": "bac96af1"
      },
      "outputs": [],
      "source": [
        "tokenized_text = doc['clean_text'].apply(lambda x: x.split())"
      ]
    },
    {
      "cell_type": "code",
      "source": [
        "# Define a function to tokenize a piece of text\n",
        "def tokenize_text(text):\n",
        "    tokens = nltk.word_tokenize(text)\n",
        "    return tokens"
      ],
      "metadata": {
        "id": "F3Werek1OnQS"
      },
      "id": "F3Werek1OnQS",
      "execution_count": null,
      "outputs": []
    },
    {
      "cell_type": "code",
      "source": [
        "doc['tokens'] = doc['clean_text'].apply(tokenize_text)"
      ],
      "metadata": {
        "id": "HwQflLojPX97"
      },
      "id": "HwQflLojPX97",
      "execution_count": null,
      "outputs": []
    },
    {
      "cell_type": "code",
      "execution_count": null,
      "id": "542bd4eb",
      "metadata": {
        "id": "542bd4eb"
      },
      "outputs": [],
      "source": [
        "# #removing any blank enteries\n",
        "doc = doc[doc.clean_text!=\"\"]\n",
        "doc = doc[doc.clean_text!=\" \"]"
      ]
    },
    {
      "cell_type": "code",
      "execution_count": null,
      "id": "1930ad05",
      "metadata": {
        "id": "1930ad05"
      },
      "outputs": [],
      "source": [
        "num_words = [len(sentence.split()) for sentence in doc['clean_text']]"
      ]
    },
    {
      "cell_type": "code",
      "execution_count": null,
      "id": "6fb91390",
      "metadata": {
        "id": "6fb91390"
      },
      "outputs": [],
      "source": [
        "avg_words = sum(num_words)/len(num_words)"
      ]
    },
    {
      "cell_type": "code",
      "source": [
        "doc.head()"
      ],
      "metadata": {
        "colab": {
          "base_uri": "https://localhost:8080/",
          "height": 285
        },
        "id": "WpTitkQ6Qq4P",
        "outputId": "0750c3be-7ee9-408f-f2d8-6ff99b806a63"
      },
      "id": "WpTitkQ6Qq4P",
      "execution_count": null,
      "outputs": [
        {
          "output_type": "execute_result",
          "data": {
            "text/plain": [
              "                   _id         username  \\\n",
              "0  1621600585291014145    realJackEason   \n",
              "1  1621600584360153088  ManojKu40226010   \n",
              "2  1621600585358233600       TansyWatts   \n",
              "3  1621600585391783943    Green_Man1984   \n",
              "4  1621600586020933632   bruis3pristin3   \n",
              "\n",
              "                                                text    qScore    nScore  \\\n",
              "0  @pansexualflower Criterion certainly have US r...  0.613271  2.934114   \n",
              "1  🇨🇳 🇺🇸 #China\\n#Chinese #Foreign #Ministry said...  0.446642 -2.994406   \n",
              "2  “As they began to understand the children’s op...  0.609156  1.772004   \n",
              "3  Excess Deaths Skyrocket Again In England And W...  0.608929 -1.639187   \n",
              "4  @altgirlalterego scotland, seychelles, syria, ...  0.608089 -0.254614   \n",
              "\n",
              "                                          clean_text  \\\n",
              "0  criterion certainly right restoration unlikely...   \n",
              "1  china chinese foreign ministry say weather bal...   \n",
              "2  begin understand child operational scheme purp...   \n",
              "3  excess deaths skyrocket england wales death ex...   \n",
              "4  scotland seychelle syria south africa south korea   \n",
              "\n",
              "                                              tokens  \n",
              "0  [criterion, certainly, right, restoration, unl...  \n",
              "1  [china, chinese, foreign, ministry, say, weath...  \n",
              "2  [begin, understand, child, operational, scheme...  \n",
              "3  [excess, deaths, skyrocket, england, wales, de...  \n",
              "4  [scotland, seychelle, syria, south, africa, so...  "
            ],
            "text/html": [
              "\n",
              "  <div id=\"df-48657d80-55db-49b6-8b02-9e6c31cdd5b1\">\n",
              "    <div class=\"colab-df-container\">\n",
              "      <div>\n",
              "<style scoped>\n",
              "    .dataframe tbody tr th:only-of-type {\n",
              "        vertical-align: middle;\n",
              "    }\n",
              "\n",
              "    .dataframe tbody tr th {\n",
              "        vertical-align: top;\n",
              "    }\n",
              "\n",
              "    .dataframe thead th {\n",
              "        text-align: right;\n",
              "    }\n",
              "</style>\n",
              "<table border=\"1\" class=\"dataframe\">\n",
              "  <thead>\n",
              "    <tr style=\"text-align: right;\">\n",
              "      <th></th>\n",
              "      <th>_id</th>\n",
              "      <th>username</th>\n",
              "      <th>text</th>\n",
              "      <th>qScore</th>\n",
              "      <th>nScore</th>\n",
              "      <th>clean_text</th>\n",
              "      <th>tokens</th>\n",
              "    </tr>\n",
              "  </thead>\n",
              "  <tbody>\n",
              "    <tr>\n",
              "      <th>0</th>\n",
              "      <td>1621600585291014145</td>\n",
              "      <td>realJackEason</td>\n",
              "      <td>@pansexualflower Criterion certainly have US r...</td>\n",
              "      <td>0.613271</td>\n",
              "      <td>2.934114</td>\n",
              "      <td>criterion certainly right restoration unlikely...</td>\n",
              "      <td>[criterion, certainly, right, restoration, unl...</td>\n",
              "    </tr>\n",
              "    <tr>\n",
              "      <th>1</th>\n",
              "      <td>1621600584360153088</td>\n",
              "      <td>ManojKu40226010</td>\n",
              "      <td>🇨🇳 🇺🇸 #China\\n#Chinese #Foreign #Ministry said...</td>\n",
              "      <td>0.446642</td>\n",
              "      <td>-2.994406</td>\n",
              "      <td>china chinese foreign ministry say weather bal...</td>\n",
              "      <td>[china, chinese, foreign, ministry, say, weath...</td>\n",
              "    </tr>\n",
              "    <tr>\n",
              "      <th>2</th>\n",
              "      <td>1621600585358233600</td>\n",
              "      <td>TansyWatts</td>\n",
              "      <td>“As they began to understand the children’s op...</td>\n",
              "      <td>0.609156</td>\n",
              "      <td>1.772004</td>\n",
              "      <td>begin understand child operational scheme purp...</td>\n",
              "      <td>[begin, understand, child, operational, scheme...</td>\n",
              "    </tr>\n",
              "    <tr>\n",
              "      <th>3</th>\n",
              "      <td>1621600585391783943</td>\n",
              "      <td>Green_Man1984</td>\n",
              "      <td>Excess Deaths Skyrocket Again In England And W...</td>\n",
              "      <td>0.608929</td>\n",
              "      <td>-1.639187</td>\n",
              "      <td>excess deaths skyrocket england wales death ex...</td>\n",
              "      <td>[excess, deaths, skyrocket, england, wales, de...</td>\n",
              "    </tr>\n",
              "    <tr>\n",
              "      <th>4</th>\n",
              "      <td>1621600586020933632</td>\n",
              "      <td>bruis3pristin3</td>\n",
              "      <td>@altgirlalterego scotland, seychelles, syria, ...</td>\n",
              "      <td>0.608089</td>\n",
              "      <td>-0.254614</td>\n",
              "      <td>scotland seychelle syria south africa south korea</td>\n",
              "      <td>[scotland, seychelle, syria, south, africa, so...</td>\n",
              "    </tr>\n",
              "  </tbody>\n",
              "</table>\n",
              "</div>\n",
              "      <button class=\"colab-df-convert\" onclick=\"convertToInteractive('df-48657d80-55db-49b6-8b02-9e6c31cdd5b1')\"\n",
              "              title=\"Convert this dataframe to an interactive table.\"\n",
              "              style=\"display:none;\">\n",
              "        \n",
              "  <svg xmlns=\"http://www.w3.org/2000/svg\" height=\"24px\"viewBox=\"0 0 24 24\"\n",
              "       width=\"24px\">\n",
              "    <path d=\"M0 0h24v24H0V0z\" fill=\"none\"/>\n",
              "    <path d=\"M18.56 5.44l.94 2.06.94-2.06 2.06-.94-2.06-.94-.94-2.06-.94 2.06-2.06.94zm-11 1L8.5 8.5l.94-2.06 2.06-.94-2.06-.94L8.5 2.5l-.94 2.06-2.06.94zm10 10l.94 2.06.94-2.06 2.06-.94-2.06-.94-.94-2.06-.94 2.06-2.06.94z\"/><path d=\"M17.41 7.96l-1.37-1.37c-.4-.4-.92-.59-1.43-.59-.52 0-1.04.2-1.43.59L10.3 9.45l-7.72 7.72c-.78.78-.78 2.05 0 2.83L4 21.41c.39.39.9.59 1.41.59.51 0 1.02-.2 1.41-.59l7.78-7.78 2.81-2.81c.8-.78.8-2.07 0-2.86zM5.41 20L4 18.59l7.72-7.72 1.47 1.35L5.41 20z\"/>\n",
              "  </svg>\n",
              "      </button>\n",
              "      \n",
              "  <style>\n",
              "    .colab-df-container {\n",
              "      display:flex;\n",
              "      flex-wrap:wrap;\n",
              "      gap: 12px;\n",
              "    }\n",
              "\n",
              "    .colab-df-convert {\n",
              "      background-color: #E8F0FE;\n",
              "      border: none;\n",
              "      border-radius: 50%;\n",
              "      cursor: pointer;\n",
              "      display: none;\n",
              "      fill: #1967D2;\n",
              "      height: 32px;\n",
              "      padding: 0 0 0 0;\n",
              "      width: 32px;\n",
              "    }\n",
              "\n",
              "    .colab-df-convert:hover {\n",
              "      background-color: #E2EBFA;\n",
              "      box-shadow: 0px 1px 2px rgba(60, 64, 67, 0.3), 0px 1px 3px 1px rgba(60, 64, 67, 0.15);\n",
              "      fill: #174EA6;\n",
              "    }\n",
              "\n",
              "    [theme=dark] .colab-df-convert {\n",
              "      background-color: #3B4455;\n",
              "      fill: #D2E3FC;\n",
              "    }\n",
              "\n",
              "    [theme=dark] .colab-df-convert:hover {\n",
              "      background-color: #434B5C;\n",
              "      box-shadow: 0px 1px 3px 1px rgba(0, 0, 0, 0.15);\n",
              "      filter: drop-shadow(0px 1px 2px rgba(0, 0, 0, 0.3));\n",
              "      fill: #FFFFFF;\n",
              "    }\n",
              "  </style>\n",
              "\n",
              "      <script>\n",
              "        const buttonEl =\n",
              "          document.querySelector('#df-48657d80-55db-49b6-8b02-9e6c31cdd5b1 button.colab-df-convert');\n",
              "        buttonEl.style.display =\n",
              "          google.colab.kernel.accessAllowed ? 'block' : 'none';\n",
              "\n",
              "        async function convertToInteractive(key) {\n",
              "          const element = document.querySelector('#df-48657d80-55db-49b6-8b02-9e6c31cdd5b1');\n",
              "          const dataTable =\n",
              "            await google.colab.kernel.invokeFunction('convertToInteractive',\n",
              "                                                     [key], {});\n",
              "          if (!dataTable) return;\n",
              "\n",
              "          const docLinkHtml = 'Like what you see? Visit the ' +\n",
              "            '<a target=\"_blank\" href=https://colab.research.google.com/notebooks/data_table.ipynb>data table notebook</a>'\n",
              "            + ' to learn more about interactive tables.';\n",
              "          element.innerHTML = '';\n",
              "          dataTable['output_type'] = 'display_data';\n",
              "          await google.colab.output.renderOutput(dataTable, element);\n",
              "          const docLink = document.createElement('div');\n",
              "          docLink.innerHTML = docLinkHtml;\n",
              "          element.appendChild(docLink);\n",
              "        }\n",
              "      </script>\n",
              "    </div>\n",
              "  </div>\n",
              "  "
            ]
          },
          "metadata": {},
          "execution_count": 17
        }
      ]
    },
    {
      "cell_type": "markdown",
      "id": "d28d6343",
      "metadata": {
        "id": "d28d6343"
      },
      "source": [
        "## Basic Information"
      ]
    },
    {
      "cell_type": "code",
      "execution_count": null,
      "id": "f888cd5f",
      "metadata": {
        "id": "f888cd5f",
        "colab": {
          "base_uri": "https://localhost:8080/"
        },
        "outputId": "b4dc3029-34ce-40c4-8285-c6f5ba20a4ec"
      },
      "outputs": [
        {
          "output_type": "stream",
          "name": "stdout",
          "text": [
            "Total number of words after tokenisation:  109000\n",
            "Average number of words per tweet:  10.91091091091091\n",
            "The maximum number of words in a tweet:  34\n",
            "The minimum number of words in a tweet:  1\n",
            "The number of tweets:  9990\n"
          ]
        }
      ],
      "source": [
        "print(\"Total number of words after tokenisation: \", sum(num_words))\n",
        "print(\"Average number of words per tweet: \", avg_words)\n",
        "print(\"The maximum number of words in a tweet: \", max(num_words))\n",
        "print(\"The minimum number of words in a tweet: \", min(num_words))\n",
        "print(\"The number of tweets: \", len(num_words))"
      ]
    },
    {
      "cell_type": "markdown",
      "id": "ed118b04",
      "metadata": {
        "id": "ed118b04"
      },
      "source": [
        "## Topic modelling of tweets using LDA"
      ]
    },
    {
      "cell_type": "code",
      "source": [
        "token = doc['tokens'].tolist()"
      ],
      "metadata": {
        "id": "hgv8jjEoVj7F"
      },
      "id": "hgv8jjEoVj7F",
      "execution_count": null,
      "outputs": []
    },
    {
      "cell_type": "code",
      "execution_count": null,
      "id": "eeec88cb",
      "metadata": {
        "id": "eeec88cb"
      },
      "outputs": [],
      "source": [
        "dictionary = corpora.Dictionary(token)\n",
        "corpus = [dictionary.doc2bow(doc) for doc in token]"
      ]
    },
    {
      "cell_type": "code",
      "execution_count": null,
      "id": "53c00ba7",
      "metadata": {
        "id": "53c00ba7"
      },
      "outputs": [],
      "source": [
        "def compute_coherence_score(corpus, dictionary, num_topics):\n",
        "    lda_model = LdaModel(corpus=corpus,\n",
        "                         id2word=dictionary,\n",
        "                         num_topics=num_topics,\n",
        "                         random_state=42,\n",
        "                         passes=10,\n",
        "                         )\n",
        "    coherence_model = CoherenceModel(model=lda_model, corpus=corpus, dictionary=dictionary, coherence='c_v', texts = token)\n",
        "    return coherence_model.get_coherence()\n"
      ]
    },
    {
      "cell_type": "code",
      "execution_count": null,
      "id": "25173cbe",
      "metadata": {
        "id": "25173cbe"
      },
      "outputs": [],
      "source": [
        "coherence_scores = []\n",
        "for num_topics in range(2, 21, 1):\n",
        "    score = compute_coherence_score(corpus, dictionary, num_topics)\n",
        "    coherence_scores.append(score)"
      ]
    },
    {
      "cell_type": "code",
      "execution_count": null,
      "id": "dfd5324e",
      "metadata": {
        "id": "dfd5324e",
        "colab": {
          "base_uri": "https://localhost:8080/"
        },
        "outputId": "781fe7a4-6c8f-48d5-b220-470e5377cf04"
      },
      "outputs": [
        {
          "output_type": "stream",
          "name": "stdout",
          "text": [
            "Coherence Scores:\n",
            "Num Topics = 2: Coherence Score = 0.262\n",
            "Num Topics = 3: Coherence Score = 0.1962\n",
            "Num Topics = 4: Coherence Score = 0.2259\n",
            "Num Topics = 5: Coherence Score = 0.2641\n",
            "Num Topics = 6: Coherence Score = 0.3107\n",
            "Num Topics = 7: Coherence Score = 0.2659\n",
            "Num Topics = 8: Coherence Score = 0.3091\n",
            "Num Topics = 9: Coherence Score = 0.2863\n",
            "Num Topics = 10: Coherence Score = 0.3249\n",
            "Num Topics = 11: Coherence Score = 0.2989\n",
            "Num Topics = 12: Coherence Score = 0.3325\n",
            "Num Topics = 13: Coherence Score = 0.3186\n",
            "Num Topics = 14: Coherence Score = 0.3586\n",
            "Num Topics = 15: Coherence Score = 0.3624\n",
            "Num Topics = 16: Coherence Score = 0.3731\n",
            "Num Topics = 17: Coherence Score = 0.331\n",
            "Num Topics = 18: Coherence Score = 0.3322\n",
            "Num Topics = 19: Coherence Score = 0.3777\n",
            "Num Topics = 20: Coherence Score = 0.3339\n"
          ]
        }
      ],
      "source": [
        "print('Coherence Scores:')\n",
        "for num_topics, score in zip(range(2, 21, 1), coherence_scores):\n",
        "    print('Num Topics = {}: Coherence Score = {}'.format(num_topics, round(score, 4))) \n"
      ]
    },
    {
      "cell_type": "code",
      "execution_count": null,
      "id": "eca063ab",
      "metadata": {
        "id": "eca063ab"
      },
      "outputs": [],
      "source": [
        "optimal_num_topics = coherence_scores.index(max(coherence_scores)) + 2"
      ]
    },
    {
      "cell_type": "code",
      "execution_count": null,
      "id": "3f4f82a4",
      "metadata": {
        "id": "3f4f82a4"
      },
      "outputs": [],
      "source": [
        "lda_model = LdaModel(corpus=corpus,\n",
        "                     id2word=dictionary,\n",
        "                     num_topics=optimal_num_topics,\n",
        "                     random_state=42,\n",
        "                     passes=10,\n",
        "                     )"
      ]
    },
    {
      "cell_type": "code",
      "execution_count": null,
      "id": "cad99c93",
      "metadata": {
        "id": "cad99c93",
        "colab": {
          "base_uri": "https://localhost:8080/"
        },
        "outputId": "c33fdfcb-c33c-47db-e55e-ace81e71314a"
      },
      "outputs": [
        {
          "output_type": "stream",
          "name": "stdout",
          "text": [
            "LDA Model Topics:\n",
            "Topic: 0 \n",
            "Words: 0.033*\"https\" + 0.016*\"minister\" + 0.015*\"vote\" + 0.013*\"prime\" + 0.012*\"government\" + 0.009*\"say\" + 0.009*\"election\" + 0.008*\"conservatives\" + 0.008*\"labour\" + 0.008*\"fall\"\n",
            "Topic: 1 \n",
            "Words: 0.035*\"https\" + 0.021*\"long\" + 0.021*\"bear\" + 0.019*\"link\" + 0.017*\"book\" + 0.017*\"flight\" + 0.015*\"london\" + 0.012*\"hell\" + 0.012*\"live\" + 0.010*\"airport\"\n",
            "Topic: 2 \n",
            "Words: 0.029*\"https\" + 0.012*\"question\" + 0.011*\"dublin\" + 0.010*\"song\" + 0.008*\"small\" + 0.008*\"daily\" + 0.008*\"drop\" + 0.007*\"agree\" + 0.006*\"edinburgh\" + 0.006*\"huge\"\n",
            "Topic: 3 \n",
            "Words: 0.036*\"time\" + 0.024*\"united\" + 0.023*\"https\" + 0.020*\"manchester\" + 0.015*\"year\" + 0.013*\"lose\" + 0.011*\"london\" + 0.010*\"play\" + 0.010*\"good\" + 0.009*\"half\"\n",
            "Topic: 4 \n",
            "Words: 0.022*\"right\" + 0.017*\"https\" + 0.015*\"power\" + 0.013*\"happy\" + 0.013*\"go\" + 0.009*\"follow\" + 0.009*\"york\" + 0.009*\"know\" + 0.008*\"like\" + 0.008*\"people\"\n",
            "Topic: 5 \n",
            "Words: 0.036*\"https\" + 0.020*\"ticket\" + 0.014*\"sell\" + 0.014*\"london\" + 0.010*\"face\" + 0.007*\"value\" + 0.006*\"plus\" + 0.006*\"river\" + 0.005*\"starmer\" + 0.005*\"system\"\n",
            "Topic: 6 \n",
            "Words: 0.067*\"https\" + 0.014*\"china\" + 0.012*\"project\" + 0.010*\"york\" + 0.009*\"check\" + 0.009*\"balloon\" + 0.009*\"february\" + 0.009*\"john\" + 0.008*\"times\" + 0.007*\"british\"\n",
            "Topic: 7 \n",
            "Words: 0.031*\"labour\" + 0.020*\"people\" + 0.019*\"think\" + 0.016*\"conservative\" + 0.015*\"tory\" + 0.014*\"party\" + 0.013*\"start\" + 0.013*\"vote\" + 0.012*\"want\" + 0.011*\"know\"\n",
            "Topic: 8 \n",
            "Words: 0.034*\"boris\" + 0.029*\"https\" + 0.018*\"johnson\" + 0.014*\"york\" + 0.009*\"pay\" + 0.008*\"interview\" + 0.008*\"rishi\" + 0.007*\"stop\" + 0.007*\"city\" + 0.007*\"absolutely\"\n",
            "Topic: 9 \n",
            "Words: 0.058*\"https\" + 0.007*\"europe\" + 0.006*\"germany\" + 0.006*\"cover\" + 0.006*\"protect\" + 0.006*\"port\" + 0.006*\"ready\" + 0.005*\"vintage\" + 0.005*\"good\" + 0.005*\"brain\"\n",
            "Topic: 10 \n",
            "Words: 0.032*\"https\" + 0.018*\"look\" + 0.012*\"interested\" + 0.009*\"london\" + 0.008*\"community\" + 0.007*\"woman\" + 0.007*\"forward\" + 0.007*\"bank\" + 0.007*\"good\" + 0.006*\"order\"\n",
            "Topic: 11 \n",
            "Words: 0.072*\"https\" + 0.018*\"live\" + 0.017*\"school\" + 0.017*\"york\" + 0.016*\"date\" + 0.016*\"high\" + 0.015*\"link\" + 0.013*\"click\" + 0.011*\"basketball\" + 0.011*\"london\"\n",
            "Topic: 12 \n",
            "Words: 0.054*\"https\" + 0.010*\"turn\" + 0.007*\"add\" + 0.007*\"size\" + 0.006*\"number\" + 0.006*\"report\" + 0.005*\"york\" + 0.005*\"labour\" + 0.005*\"check\" + 0.005*\"harry\"\n",
            "Topic: 13 \n",
            "Words: 0.055*\"https\" + 0.013*\"sign\" + 0.013*\"free\" + 0.011*\"sunak\" + 0.011*\"save\" + 0.009*\"need\" + 0.009*\"shop\" + 0.008*\"russia\" + 0.007*\"stop\" + 0.007*\"petition\"\n",
            "Topic: 14 \n",
            "Words: 0.019*\"like\" + 0.018*\"story\" + 0.017*\"come\" + 0.016*\"love\" + 0.015*\"london\" + 0.012*\"rest\" + 0.011*\"https\" + 0.011*\"world\" + 0.010*\"serve\" + 0.009*\"price\"\n",
            "Topic: 15 \n",
            "Words: 0.027*\"https\" + 0.020*\"wales\" + 0.020*\"ireland\" + 0.015*\"scotland\" + 0.011*\"humanity\" + 0.009*\"union\" + 0.007*\"stand\" + 0.007*\"public\" + 0.007*\"easy\" + 0.006*\"walk\"\n",
            "Topic: 16 \n",
            "Words: 0.057*\"https\" + 0.021*\"thank\" + 0.011*\"racing\" + 0.010*\"people\" + 0.007*\"want\" + 0.006*\"good\" + 0.006*\"wish\" + 0.006*\"help\" + 0.006*\"trust\" + 0.005*\"care\"\n",
            "Topic: 17 \n",
            "Words: 0.028*\"https\" + 0.013*\"like\" + 0.010*\"london\" + 0.009*\"look\" + 0.008*\"york\" + 0.008*\"go\" + 0.008*\"week\" + 0.008*\"race\" + 0.007*\"team\" + 0.007*\"england\"\n",
            "Topic: 18 \n",
            "Words: 0.046*\"https\" + 0.018*\"post\" + 0.016*\"york\" + 0.016*\"england\" + 0.012*\"wind\" + 0.011*\"hate\" + 0.011*\"photo\" + 0.007*\"job\" + 0.007*\"bristol\" + 0.007*\"hour\"\n"
          ]
        }
      ],
      "source": [
        "print('LDA Model Topics:')\n",
        "for idx, topic in lda_model.print_topics(-1):\n",
        "    print('Topic: {} \\nWords: {}'.format(idx, topic))"
      ]
    },
    {
      "cell_type": "code",
      "source": [
        "doc['topic'] = [max(lda_model.get_document_topics(bow), key=lambda x: x[1])[0] for bow in corpus]"
      ],
      "metadata": {
        "id": "uz3HKFx1rDuY"
      },
      "id": "uz3HKFx1rDuY",
      "execution_count": null,
      "outputs": []
    },
    {
      "cell_type": "code",
      "execution_count": null,
      "id": "9d58c03d",
      "metadata": {
        "id": "9d58c03d",
        "colab": {
          "base_uri": "https://localhost:8080/"
        },
        "outputId": "f78ffc7b-9f8c-474c-fce7-9a57dcf10e81"
      },
      "outputs": [
        {
          "output_type": "stream",
          "name": "stderr",
          "text": [
            "IOPub data rate exceeded.\n",
            "The notebook server will temporarily stop sending output\n",
            "to the client in order to avoid crashing it.\n",
            "To change this limit, set the config variable\n",
            "`--NotebookApp.iopub_data_rate_limit`.\n",
            "\n",
            "Current values:\n",
            "NotebookApp.iopub_data_rate_limit=1000000.0 (bytes/sec)\n",
            "NotebookApp.rate_limit_window=3.0 (secs)\n",
            "\n"
          ]
        }
      ],
      "source": [
        "# Topic Distribution \n",
        "doc_topic_distr = []\n",
        "for i in range(len(corpus)):\n",
        "    bow = corpus[i]\n",
        "    topic_distr = lda_model.get_document_topics(bow, minimum_probability=0.0)\n",
        "    topic_distr = [(topic_id, prob) for topic_id, prob in topic_distr]\n",
        "    doc_topic_distr.append(topic_distr)\n",
        "print(doc_topic_distr)"
      ]
    },
    {
      "cell_type": "code",
      "source": [
        "topic_dist = [lda_model.get_document_topics(doc) for doc in corpus]\n",
        "\n",
        "# Convert topic distribution to a numpy array\n",
        "topic_dist_np = np.zeros((len(topic_dist), lda_model.num_topics))\n",
        "for i, doc_topics in enumerate(topic_dist):\n",
        "    for topic, prob in doc_topics:\n",
        "        topic_dist_np[i, topic] = prob\n",
        "\n",
        "# Generating the heatmap\n",
        "fig, ax = plt.subplots(figsize=(10, 6))\n",
        "sns.heatmap(topic_dist_np, cmap='Blues', ax=ax)\n",
        "ax.set_xlabel('Topic')\n",
        "ax.set_ylabel('Document')\n",
        "ax.set_title('Topic Distribution Heatmap')\n",
        "plt.show()"
      ],
      "metadata": {
        "colab": {
          "base_uri": "https://localhost:8080/",
          "height": 404
        },
        "id": "aYZQe0bbsePK",
        "outputId": "5478135d-ceaa-4ece-c929-1f8c2c4e858e"
      },
      "id": "aYZQe0bbsePK",
      "execution_count": null,
      "outputs": [
        {
          "output_type": "display_data",
          "data": {
            "text/plain": [
              "<Figure size 720x432 with 2 Axes>"
            ],
            "image/png": "[encoded data removed]"
          },
          "metadata": {
            "needs_background": "light"
          }
        }
      ]
    },
    {
      "cell_type": "code",
      "source": [
        "topic_dist_np"
      ],
      "metadata": {
        "colab": {
          "base_uri": "https://localhost:8080/"
        },
        "id": "GOIPKl0Z-B_e",
        "outputId": "3da2b92c-600b-4b3e-821c-9927a777a140"
      },
      "id": "GOIPKl0Z-B_e",
      "execution_count": null,
      "outputs": [
        {
          "output_type": "execute_result",
          "data": {
            "text/plain": [
              "array([[0.12552029, 0.        , 0.        , ..., 0.        , 0.        ,\n",
              "        0.        ],\n",
              "       [0.        , 0.        , 0.        , ..., 0.        , 0.        ,\n",
              "        0.08190462],\n",
              "       [0.        , 0.07700358, 0.        , ..., 0.        , 0.        ,\n",
              "        0.        ],\n",
              "       ...,\n",
              "       [0.07115522, 0.        , 0.        , ..., 0.        , 0.73210949,\n",
              "        0.        ],\n",
              "       [0.35757411, 0.01315789, 0.01315789, ..., 0.01315789, 0.0131579 ,\n",
              "        0.01315789],\n",
              "       [0.        , 0.        , 0.        , ..., 0.        , 0.        ,\n",
              "        0.        ]])"
            ]
          },
          "metadata": {},
          "execution_count": 31
        }
      ]
    },
    {
      "cell_type": "code",
      "source": [
        "#bar graph of topic distribution\n",
        "topic_counts = np.sum(topic_dist_np, axis=0)\n",
        "plt.bar(range(lda_model.num_topics), topic_counts)\n",
        "plt.xticks(rotation=90)\n",
        "plt.xlabel('Topic')\n",
        "plt.ylabel('Number of Tweets')\n",
        "plt.title('Distribution of Topics in Tweets')\n",
        "plt.show()"
      ],
      "metadata": {
        "colab": {
          "base_uri": "https://localhost:8080/",
          "height": 308
        },
        "id": "nXxgGhk49Jka",
        "outputId": "05325866-86cc-4a81-a390-a5b36dd7125b"
      },
      "id": "nXxgGhk49Jka",
      "execution_count": null,
      "outputs": [
        {
          "output_type": "display_data",
          "data": {
            "text/plain": [
              "<Figure size 432x288 with 1 Axes>"
            ],
            "image/png": "[encoded data removed]"
          },
          "metadata": {
            "needs_background": "light"
          }
        }
      ]
    },
    {
      "cell_type": "markdown",
      "id": "81d26269",
      "metadata": {
        "id": "81d26269"
      },
      "source": [
        "## Grouped Tweets"
      ]
    },
    {
      "cell_type": "code",
      "execution_count": null,
      "id": "ecc1f62f",
      "metadata": {
        "id": "ecc1f62f"
      },
      "outputs": [],
      "source": [
        "doc_g = pd.read_csv('groupedTweets.csv')"
      ]
    },
    {
      "cell_type": "markdown",
      "id": "3f4e7358",
      "metadata": {
        "id": "3f4e7358"
      },
      "source": [
        "## Cleaning"
      ]
    },
    {
      "cell_type": "code",
      "execution_count": null,
      "id": "85b6d66f",
      "metadata": {
        "id": "85b6d66f"
      },
      "outputs": [],
      "source": [
        "#remove the twitter handles\n",
        "clean = []\n",
        "for text in doc_g['text']:\n",
        "  clean_tweet = re.sub(r'@\\w+', '', text)\n",
        "  clean.append(clean_tweet)\n",
        "doc_g['clean_text'] = clean"
      ]
    },
    {
      "cell_type": "code",
      "execution_count": null,
      "id": "ea0cacfa",
      "metadata": {
        "id": "ea0cacfa",
        "colab": {
          "base_uri": "https://localhost:8080/"
        },
        "outputId": "c9f3fe90-5231-4bd3-9f71-a7f7b23a7373"
      },
      "outputs": [
        {
          "output_type": "stream",
          "name": "stderr",
          "text": [
            "<ipython-input-35-fcc79520a5e5>:2: FutureWarning: The default value of regex will change from True to False in a future version.\n",
            "  doc_g['clean_text'] = doc_g['clean_text'].str.replace(\"[^a-zA-Z]\", \" \")\n"
          ]
        }
      ],
      "source": [
        "#remove special characters, numbers and punctuations\n",
        "doc_g['clean_text'] = doc_g['clean_text'].str.replace(\"[^a-zA-Z]\", \" \")"
      ]
    },
    {
      "cell_type": "code",
      "source": [
        "filtered = []\n",
        "for d in doc_g['clean_text']:\n",
        "    processed_text = text_cleanup(d)\n",
        "    filtered.append(processed_text)\n",
        "doc_g['clean_text'] = filtered"
      ],
      "metadata": {
        "id": "r8i0KWa8Jo5o"
      },
      "id": "r8i0KWa8Jo5o",
      "execution_count": null,
      "outputs": []
    },
    {
      "cell_type": "code",
      "source": [
        "# Define a function to concatenate text values\n",
        "def concat_texts(texts):\n",
        "    return ' '.join(texts)\n",
        "\n",
        "# Group by 'group' column and apply custom function to concatenate text values\n",
        "grouped_doc = doc_g.groupby('group')['clean_text'].agg(concat_texts).reset_index()"
      ],
      "metadata": {
        "id": "1cbBxnT1VsDh"
      },
      "id": "1cbBxnT1VsDh",
      "execution_count": null,
      "outputs": []
    },
    {
      "cell_type": "code",
      "source": [
        "grouped_doc"
      ],
      "metadata": {
        "colab": {
          "base_uri": "https://localhost:8080/",
          "height": 423
        },
        "id": "S15JFLXrV3hg",
        "outputId": "bb1823f2-325f-4813-df29-565ba795204a"
      },
      "id": "S15JFLXrV3hg",
      "execution_count": null,
      "outputs": [
        {
          "output_type": "execute_result",
          "data": {
            "text/plain": [
              "     group                                         clean_text\n",
              "0        0  criterion certainly right restoration unlikely...\n",
              "1        1  china chinese foreign ministry say weather bal...\n",
              "2        2  begin understand child operational scheme purp...\n",
              "3        3  excess deaths skyrocket england wales death ex...\n",
              "4        4  scotland seychelle syria south africa south ko...\n",
              "..     ...                                                ...\n",
              "466    466                                               cool\n",
              "467    467                                  mean ford ferrari\n",
              "468    468              fucking split terminate cunt contract\n",
              "469    469    graham potter start havertz aubameyang ludacris\n",
              "470    470                        arrangement michael jackson\n",
              "\n",
              "[471 rows x 2 columns]"
            ],
            "text/html": [
              "\n",
              "  <div id=\"df-f7e622ab-bab7-4b59-b04b-3c55e91c3113\">\n",
              "    <div class=\"colab-df-container\">\n",
              "      <div>\n",
              "<style scoped>\n",
              "    .dataframe tbody tr th:only-of-type {\n",
              "        vertical-align: middle;\n",
              "    }\n",
              "\n",
              "    .dataframe tbody tr th {\n",
              "        vertical-align: top;\n",
              "    }\n",
              "\n",
              "    .dataframe thead th {\n",
              "        text-align: right;\n",
              "    }\n",
              "</style>\n",
              "<table border=\"1\" class=\"dataframe\">\n",
              "  <thead>\n",
              "    <tr style=\"text-align: right;\">\n",
              "      <th></th>\n",
              "      <th>group</th>\n",
              "      <th>clean_text</th>\n",
              "    </tr>\n",
              "  </thead>\n",
              "  <tbody>\n",
              "    <tr>\n",
              "      <th>0</th>\n",
              "      <td>0</td>\n",
              "      <td>criterion certainly right restoration unlikely...</td>\n",
              "    </tr>\n",
              "    <tr>\n",
              "      <th>1</th>\n",
              "      <td>1</td>\n",
              "      <td>china chinese foreign ministry say weather bal...</td>\n",
              "    </tr>\n",
              "    <tr>\n",
              "      <th>2</th>\n",
              "      <td>2</td>\n",
              "      <td>begin understand child operational scheme purp...</td>\n",
              "    </tr>\n",
              "    <tr>\n",
              "      <th>3</th>\n",
              "      <td>3</td>\n",
              "      <td>excess deaths skyrocket england wales death ex...</td>\n",
              "    </tr>\n",
              "    <tr>\n",
              "      <th>4</th>\n",
              "      <td>4</td>\n",
              "      <td>scotland seychelle syria south africa south ko...</td>\n",
              "    </tr>\n",
              "    <tr>\n",
              "      <th>...</th>\n",
              "      <td>...</td>\n",
              "      <td>...</td>\n",
              "    </tr>\n",
              "    <tr>\n",
              "      <th>466</th>\n",
              "      <td>466</td>\n",
              "      <td>cool</td>\n",
              "    </tr>\n",
              "    <tr>\n",
              "      <th>467</th>\n",
              "      <td>467</td>\n",
              "      <td>mean ford ferrari</td>\n",
              "    </tr>\n",
              "    <tr>\n",
              "      <th>468</th>\n",
              "      <td>468</td>\n",
              "      <td>fucking split terminate cunt contract</td>\n",
              "    </tr>\n",
              "    <tr>\n",
              "      <th>469</th>\n",
              "      <td>469</td>\n",
              "      <td>graham potter start havertz aubameyang ludacris</td>\n",
              "    </tr>\n",
              "    <tr>\n",
              "      <th>470</th>\n",
              "      <td>470</td>\n",
              "      <td>arrangement michael jackson</td>\n",
              "    </tr>\n",
              "  </tbody>\n",
              "</table>\n",
              "<p>471 rows × 2 columns</p>\n",
              "</div>\n",
              "      <button class=\"colab-df-convert\" onclick=\"convertToInteractive('df-f7e622ab-bab7-4b59-b04b-3c55e91c3113')\"\n",
              "              title=\"Convert this dataframe to an interactive table.\"\n",
              "              style=\"display:none;\">\n",
              "        \n",
              "  <svg xmlns=\"http://www.w3.org/2000/svg\" height=\"24px\"viewBox=\"0 0 24 24\"\n",
              "       width=\"24px\">\n",
              "    <path d=\"M0 0h24v24H0V0z\" fill=\"none\"/>\n",
              "    <path d=\"M18.56 5.44l.94 2.06.94-2.06 2.06-.94-2.06-.94-.94-2.06-.94 2.06-2.06.94zm-11 1L8.5 8.5l.94-2.06 2.06-.94-2.06-.94L8.5 2.5l-.94 2.06-2.06.94zm10 10l.94 2.06.94-2.06 2.06-.94-2.06-.94-.94-2.06-.94 2.06-2.06.94z\"/><path d=\"M17.41 7.96l-1.37-1.37c-.4-.4-.92-.59-1.43-.59-.52 0-1.04.2-1.43.59L10.3 9.45l-7.72 7.72c-.78.78-.78 2.05 0 2.83L4 21.41c.39.39.9.59 1.41.59.51 0 1.02-.2 1.41-.59l7.78-7.78 2.81-2.81c.8-.78.8-2.07 0-2.86zM5.41 20L4 18.59l7.72-7.72 1.47 1.35L5.41 20z\"/>\n",
              "  </svg>\n",
              "      </button>\n",
              "      \n",
              "  <style>\n",
              "    .colab-df-container {\n",
              "      display:flex;\n",
              "      flex-wrap:wrap;\n",
              "      gap: 12px;\n",
              "    }\n",
              "\n",
              "    .colab-df-convert {\n",
              "      background-color: #E8F0FE;\n",
              "      border: none;\n",
              "      border-radius: 50%;\n",
              "      cursor: pointer;\n",
              "      display: none;\n",
              "      fill: #1967D2;\n",
              "      height: 32px;\n",
              "      padding: 0 0 0 0;\n",
              "      width: 32px;\n",
              "    }\n",
              "\n",
              "    .colab-df-convert:hover {\n",
              "      background-color: #E2EBFA;\n",
              "      box-shadow: 0px 1px 2px rgba(60, 64, 67, 0.3), 0px 1px 3px 1px rgba(60, 64, 67, 0.15);\n",
              "      fill: #174EA6;\n",
              "    }\n",
              "\n",
              "    [theme=dark] .colab-df-convert {\n",
              "      background-color: #3B4455;\n",
              "      fill: #D2E3FC;\n",
              "    }\n",
              "\n",
              "    [theme=dark] .colab-df-convert:hover {\n",
              "      background-color: #434B5C;\n",
              "      box-shadow: 0px 1px 3px 1px rgba(0, 0, 0, 0.15);\n",
              "      filter: drop-shadow(0px 1px 2px rgba(0, 0, 0, 0.3));\n",
              "      fill: #FFFFFF;\n",
              "    }\n",
              "  </style>\n",
              "\n",
              "      <script>\n",
              "        const buttonEl =\n",
              "          document.querySelector('#df-f7e622ab-bab7-4b59-b04b-3c55e91c3113 button.colab-df-convert');\n",
              "        buttonEl.style.display =\n",
              "          google.colab.kernel.accessAllowed ? 'block' : 'none';\n",
              "\n",
              "        async function convertToInteractive(key) {\n",
              "          const element = document.querySelector('#df-f7e622ab-bab7-4b59-b04b-3c55e91c3113');\n",
              "          const dataTable =\n",
              "            await google.colab.kernel.invokeFunction('convertToInteractive',\n",
              "                                                     [key], {});\n",
              "          if (!dataTable) return;\n",
              "\n",
              "          const docLinkHtml = 'Like what you see? Visit the ' +\n",
              "            '<a target=\"_blank\" href=https://colab.research.google.com/notebooks/data_table.ipynb>data table notebook</a>'\n",
              "            + ' to learn more about interactive tables.';\n",
              "          element.innerHTML = '';\n",
              "          dataTable['output_type'] = 'display_data';\n",
              "          await google.colab.output.renderOutput(dataTable, element);\n",
              "          const docLink = document.createElement('div');\n",
              "          docLink.innerHTML = docLinkHtml;\n",
              "          element.appendChild(docLink);\n",
              "        }\n",
              "      </script>\n",
              "    </div>\n",
              "  </div>\n",
              "  "
            ]
          },
          "metadata": {},
          "execution_count": 38
        }
      ]
    },
    {
      "cell_type": "code",
      "source": [
        "def tokenize_text(text):\n",
        "    tokens = nltk.word_tokenize(text)\n",
        "    return tokens"
      ],
      "metadata": {
        "id": "SpqfBoTzVshU"
      },
      "id": "SpqfBoTzVshU",
      "execution_count": null,
      "outputs": []
    },
    {
      "cell_type": "code",
      "source": [
        "grouped_doc['tokens'] = grouped_doc['clean_text'].apply(tokenize_text)"
      ],
      "metadata": {
        "id": "-JMyF71aV3DE"
      },
      "id": "-JMyF71aV3DE",
      "execution_count": null,
      "outputs": []
    },
    {
      "cell_type": "code",
      "source": [
        "grouped_doc"
      ],
      "metadata": {
        "colab": {
          "base_uri": "https://localhost:8080/",
          "height": 423
        },
        "id": "z4KXEOlBX1BZ",
        "outputId": "3de0ac0d-79d3-4cea-b128-d6dbb071ca87"
      },
      "id": "z4KXEOlBX1BZ",
      "execution_count": null,
      "outputs": [
        {
          "output_type": "execute_result",
          "data": {
            "text/plain": [
              "     group                                         clean_text  \\\n",
              "0        0  criterion certainly right restoration unlikely...   \n",
              "1        1  china chinese foreign ministry say weather bal...   \n",
              "2        2  begin understand child operational scheme purp...   \n",
              "3        3  excess deaths skyrocket england wales death ex...   \n",
              "4        4  scotland seychelle syria south africa south ko...   \n",
              "..     ...                                                ...   \n",
              "466    466                                               cool   \n",
              "467    467                                  mean ford ferrari   \n",
              "468    468              fucking split terminate cunt contract   \n",
              "469    469    graham potter start havertz aubameyang ludacris   \n",
              "470    470                        arrangement michael jackson   \n",
              "\n",
              "                                                tokens  \n",
              "0    [criterion, certainly, right, restoration, unl...  \n",
              "1    [china, chinese, foreign, ministry, say, weath...  \n",
              "2    [begin, understand, child, operational, scheme...  \n",
              "3    [excess, deaths, skyrocket, england, wales, de...  \n",
              "4    [scotland, seychelle, syria, south, africa, so...  \n",
              "..                                                 ...  \n",
              "466                                             [cool]  \n",
              "467                              [mean, ford, ferrari]  \n",
              "468        [fucking, split, terminate, cunt, contract]  \n",
              "469  [graham, potter, start, havertz, aubameyang, l...  \n",
              "470                    [arrangement, michael, jackson]  \n",
              "\n",
              "[471 rows x 3 columns]"
            ],
            "text/html": [
              "\n",
              "  <div id=\"df-559dc6f2-3527-468f-aafd-19c98fda3f68\">\n",
              "    <div class=\"colab-df-container\">\n",
              "      <div>\n",
              "<style scoped>\n",
              "    .dataframe tbody tr th:only-of-type {\n",
              "        vertical-align: middle;\n",
              "    }\n",
              "\n",
              "    .dataframe tbody tr th {\n",
              "        vertical-align: top;\n",
              "    }\n",
              "\n",
              "    .dataframe thead th {\n",
              "        text-align: right;\n",
              "    }\n",
              "</style>\n",
              "<table border=\"1\" class=\"dataframe\">\n",
              "  <thead>\n",
              "    <tr style=\"text-align: right;\">\n",
              "      <th></th>\n",
              "      <th>group</th>\n",
              "      <th>clean_text</th>\n",
              "      <th>tokens</th>\n",
              "    </tr>\n",
              "  </thead>\n",
              "  <tbody>\n",
              "    <tr>\n",
              "      <th>0</th>\n",
              "      <td>0</td>\n",
              "      <td>criterion certainly right restoration unlikely...</td>\n",
              "      <td>[criterion, certainly, right, restoration, unl...</td>\n",
              "    </tr>\n",
              "    <tr>\n",
              "      <th>1</th>\n",
              "      <td>1</td>\n",
              "      <td>china chinese foreign ministry say weather bal...</td>\n",
              "      <td>[china, chinese, foreign, ministry, say, weath...</td>\n",
              "    </tr>\n",
              "    <tr>\n",
              "      <th>2</th>\n",
              "      <td>2</td>\n",
              "      <td>begin understand child operational scheme purp...</td>\n",
              "      <td>[begin, understand, child, operational, scheme...</td>\n",
              "    </tr>\n",
              "    <tr>\n",
              "      <th>3</th>\n",
              "      <td>3</td>\n",
              "      <td>excess deaths skyrocket england wales death ex...</td>\n",
              "      <td>[excess, deaths, skyrocket, england, wales, de...</td>\n",
              "    </tr>\n",
              "    <tr>\n",
              "      <th>4</th>\n",
              "      <td>4</td>\n",
              "      <td>scotland seychelle syria south africa south ko...</td>\n",
              "      <td>[scotland, seychelle, syria, south, africa, so...</td>\n",
              "    </tr>\n",
              "    <tr>\n",
              "      <th>...</th>\n",
              "      <td>...</td>\n",
              "      <td>...</td>\n",
              "      <td>...</td>\n",
              "    </tr>\n",
              "    <tr>\n",
              "      <th>466</th>\n",
              "      <td>466</td>\n",
              "      <td>cool</td>\n",
              "      <td>[cool]</td>\n",
              "    </tr>\n",
              "    <tr>\n",
              "      <th>467</th>\n",
              "      <td>467</td>\n",
              "      <td>mean ford ferrari</td>\n",
              "      <td>[mean, ford, ferrari]</td>\n",
              "    </tr>\n",
              "    <tr>\n",
              "      <th>468</th>\n",
              "      <td>468</td>\n",
              "      <td>fucking split terminate cunt contract</td>\n",
              "      <td>[fucking, split, terminate, cunt, contract]</td>\n",
              "    </tr>\n",
              "    <tr>\n",
              "      <th>469</th>\n",
              "      <td>469</td>\n",
              "      <td>graham potter start havertz aubameyang ludacris</td>\n",
              "      <td>[graham, potter, start, havertz, aubameyang, l...</td>\n",
              "    </tr>\n",
              "    <tr>\n",
              "      <th>470</th>\n",
              "      <td>470</td>\n",
              "      <td>arrangement michael jackson</td>\n",
              "      <td>[arrangement, michael, jackson]</td>\n",
              "    </tr>\n",
              "  </tbody>\n",
              "</table>\n",
              "<p>471 rows × 3 columns</p>\n",
              "</div>\n",
              "      <button class=\"colab-df-convert\" onclick=\"convertToInteractive('df-559dc6f2-3527-468f-aafd-19c98fda3f68')\"\n",
              "              title=\"Convert this dataframe to an interactive table.\"\n",
              "              style=\"display:none;\">\n",
              "        \n",
              "  <svg xmlns=\"http://www.w3.org/2000/svg\" height=\"24px\"viewBox=\"0 0 24 24\"\n",
              "       width=\"24px\">\n",
              "    <path d=\"M0 0h24v24H0V0z\" fill=\"none\"/>\n",
              "    <path d=\"M18.56 5.44l.94 2.06.94-2.06 2.06-.94-2.06-.94-.94-2.06-.94 2.06-2.06.94zm-11 1L8.5 8.5l.94-2.06 2.06-.94-2.06-.94L8.5 2.5l-.94 2.06-2.06.94zm10 10l.94 2.06.94-2.06 2.06-.94-2.06-.94-.94-2.06-.94 2.06-2.06.94z\"/><path d=\"M17.41 7.96l-1.37-1.37c-.4-.4-.92-.59-1.43-.59-.52 0-1.04.2-1.43.59L10.3 9.45l-7.72 7.72c-.78.78-.78 2.05 0 2.83L4 21.41c.39.39.9.59 1.41.59.51 0 1.02-.2 1.41-.59l7.78-7.78 2.81-2.81c.8-.78.8-2.07 0-2.86zM5.41 20L4 18.59l7.72-7.72 1.47 1.35L5.41 20z\"/>\n",
              "  </svg>\n",
              "      </button>\n",
              "      \n",
              "  <style>\n",
              "    .colab-df-container {\n",
              "      display:flex;\n",
              "      flex-wrap:wrap;\n",
              "      gap: 12px;\n",
              "    }\n",
              "\n",
              "    .colab-df-convert {\n",
              "      background-color: #E8F0FE;\n",
              "      border: none;\n",
              "      border-radius: 50%;\n",
              "      cursor: pointer;\n",
              "      display: none;\n",
              "      fill: #1967D2;\n",
              "      height: 32px;\n",
              "      padding: 0 0 0 0;\n",
              "      width: 32px;\n",
              "    }\n",
              "\n",
              "    .colab-df-convert:hover {\n",
              "      background-color: #E2EBFA;\n",
              "      box-shadow: 0px 1px 2px rgba(60, 64, 67, 0.3), 0px 1px 3px 1px rgba(60, 64, 67, 0.15);\n",
              "      fill: #174EA6;\n",
              "    }\n",
              "\n",
              "    [theme=dark] .colab-df-convert {\n",
              "      background-color: #3B4455;\n",
              "      fill: #D2E3FC;\n",
              "    }\n",
              "\n",
              "    [theme=dark] .colab-df-convert:hover {\n",
              "      background-color: #434B5C;\n",
              "      box-shadow: 0px 1px 3px 1px rgba(0, 0, 0, 0.15);\n",
              "      filter: drop-shadow(0px 1px 2px rgba(0, 0, 0, 0.3));\n",
              "      fill: #FFFFFF;\n",
              "    }\n",
              "  </style>\n",
              "\n",
              "      <script>\n",
              "        const buttonEl =\n",
              "          document.querySelector('#df-559dc6f2-3527-468f-aafd-19c98fda3f68 button.colab-df-convert');\n",
              "        buttonEl.style.display =\n",
              "          google.colab.kernel.accessAllowed ? 'block' : 'none';\n",
              "\n",
              "        async function convertToInteractive(key) {\n",
              "          const element = document.querySelector('#df-559dc6f2-3527-468f-aafd-19c98fda3f68');\n",
              "          const dataTable =\n",
              "            await google.colab.kernel.invokeFunction('convertToInteractive',\n",
              "                                                     [key], {});\n",
              "          if (!dataTable) return;\n",
              "\n",
              "          const docLinkHtml = 'Like what you see? Visit the ' +\n",
              "            '<a target=\"_blank\" href=https://colab.research.google.com/notebooks/data_table.ipynb>data table notebook</a>'\n",
              "            + ' to learn more about interactive tables.';\n",
              "          element.innerHTML = '';\n",
              "          dataTable['output_type'] = 'display_data';\n",
              "          await google.colab.output.renderOutput(dataTable, element);\n",
              "          const docLink = document.createElement('div');\n",
              "          docLink.innerHTML = docLinkHtml;\n",
              "          element.appendChild(docLink);\n",
              "        }\n",
              "      </script>\n",
              "    </div>\n",
              "  </div>\n",
              "  "
            ]
          },
          "metadata": {},
          "execution_count": 41
        }
      ]
    },
    {
      "cell_type": "code",
      "execution_count": null,
      "id": "855efeaa",
      "metadata": {
        "id": "855efeaa"
      },
      "outputs": [],
      "source": [
        "#removing any blank enteries\n",
        "grouped_doc = grouped_doc[grouped_doc.clean_text!=\"\"]\n",
        "grouped_doc = grouped_doc[grouped_doc.clean_text!=\" \"]"
      ]
    },
    {
      "cell_type": "code",
      "execution_count": null,
      "id": "c6866105",
      "metadata": {
        "id": "c6866105"
      },
      "outputs": [],
      "source": [
        "num_words = [len(sentence.split()) for sentence in grouped_doc['clean_text']]"
      ]
    },
    {
      "cell_type": "code",
      "execution_count": null,
      "id": "b4556743",
      "metadata": {
        "id": "b4556743"
      },
      "outputs": [],
      "source": [
        "avg_words = sum(num_words)/len(num_words)"
      ]
    },
    {
      "cell_type": "markdown",
      "id": "9470948d",
      "metadata": {
        "id": "9470948d"
      },
      "source": [
        "## Statistics"
      ]
    },
    {
      "cell_type": "code",
      "execution_count": null,
      "id": "849ab02f",
      "metadata": {
        "id": "849ab02f",
        "colab": {
          "base_uri": "https://localhost:8080/"
        },
        "outputId": "bb5d57b9-8077-4530-aed6-5c8428d7dd1b"
      },
      "outputs": [
        {
          "output_type": "stream",
          "name": "stdout",
          "text": [
            "Total number of words after tokenisation:  108673\n",
            "Average number of words per tweet:  231.71215351812367\n",
            "The maximum number of words in a tweet:  12039\n",
            "The minimum number of words in a tweet:  1\n",
            "The number of tweets:  469\n"
          ]
        }
      ],
      "source": [
        "print(\"Total number of words after tokenisation: \", sum(num_words))\n",
        "print(\"Average number of words per tweet: \", avg_words)\n",
        "print(\"The maximum number of words in a tweet: \", max(num_words))\n",
        "print(\"The minimum number of words in a tweet: \", min(num_words))\n",
        "print(\"The number of tweets: \", len(num_words))"
      ]
    },
    {
      "cell_type": "code",
      "execution_count": null,
      "id": "bd3d08d7",
      "metadata": {
        "id": "bd3d08d7",
        "colab": {
          "base_uri": "https://localhost:8080/",
          "height": 423
        },
        "outputId": "8ede49a8-e875-408b-dcec-143ba04ef7cb"
      },
      "outputs": [
        {
          "output_type": "execute_result",
          "data": {
            "text/plain": [
              "     group                                         clean_text  \\\n",
              "0        0  criterion certainly right restoration unlikely...   \n",
              "1        1  china chinese foreign ministry say weather bal...   \n",
              "2        2  begin understand child operational scheme purp...   \n",
              "3        3  excess deaths skyrocket england wales death ex...   \n",
              "4        4  scotland seychelle syria south africa south ko...   \n",
              "..     ...                                                ...   \n",
              "466    466                                               cool   \n",
              "467    467                                  mean ford ferrari   \n",
              "468    468              fucking split terminate cunt contract   \n",
              "469    469    graham potter start havertz aubameyang ludacris   \n",
              "470    470                        arrangement michael jackson   \n",
              "\n",
              "                                                tokens  \n",
              "0    [criterion, certainly, right, restoration, unl...  \n",
              "1    [china, chinese, foreign, ministry, say, weath...  \n",
              "2    [begin, understand, child, operational, scheme...  \n",
              "3    [excess, deaths, skyrocket, england, wales, de...  \n",
              "4    [scotland, seychelle, syria, south, africa, so...  \n",
              "..                                                 ...  \n",
              "466                                             [cool]  \n",
              "467                              [mean, ford, ferrari]  \n",
              "468        [fucking, split, terminate, cunt, contract]  \n",
              "469  [graham, potter, start, havertz, aubameyang, l...  \n",
              "470                    [arrangement, michael, jackson]  \n",
              "\n",
              "[469 rows x 3 columns]"
            ],
            "text/html": [
              "\n",
              "  <div id=\"df-b76b6b57-669d-4d69-983d-181549b24781\">\n",
              "    <div class=\"colab-df-container\">\n",
              "      <div>\n",
              "<style scoped>\n",
              "    .dataframe tbody tr th:only-of-type {\n",
              "        vertical-align: middle;\n",
              "    }\n",
              "\n",
              "    .dataframe tbody tr th {\n",
              "        vertical-align: top;\n",
              "    }\n",
              "\n",
              "    .dataframe thead th {\n",
              "        text-align: right;\n",
              "    }\n",
              "</style>\n",
              "<table border=\"1\" class=\"dataframe\">\n",
              "  <thead>\n",
              "    <tr style=\"text-align: right;\">\n",
              "      <th></th>\n",
              "      <th>group</th>\n",
              "      <th>clean_text</th>\n",
              "      <th>tokens</th>\n",
              "    </tr>\n",
              "  </thead>\n",
              "  <tbody>\n",
              "    <tr>\n",
              "      <th>0</th>\n",
              "      <td>0</td>\n",
              "      <td>criterion certainly right restoration unlikely...</td>\n",
              "      <td>[criterion, certainly, right, restoration, unl...</td>\n",
              "    </tr>\n",
              "    <tr>\n",
              "      <th>1</th>\n",
              "      <td>1</td>\n",
              "      <td>china chinese foreign ministry say weather bal...</td>\n",
              "      <td>[china, chinese, foreign, ministry, say, weath...</td>\n",
              "    </tr>\n",
              "    <tr>\n",
              "      <th>2</th>\n",
              "      <td>2</td>\n",
              "      <td>begin understand child operational scheme purp...</td>\n",
              "      <td>[begin, understand, child, operational, scheme...</td>\n",
              "    </tr>\n",
              "    <tr>\n",
              "      <th>3</th>\n",
              "      <td>3</td>\n",
              "      <td>excess deaths skyrocket england wales death ex...</td>\n",
              "      <td>[excess, deaths, skyrocket, england, wales, de...</td>\n",
              "    </tr>\n",
              "    <tr>\n",
              "      <th>4</th>\n",
              "      <td>4</td>\n",
              "      <td>scotland seychelle syria south africa south ko...</td>\n",
              "      <td>[scotland, seychelle, syria, south, africa, so...</td>\n",
              "    </tr>\n",
              "    <tr>\n",
              "      <th>...</th>\n",
              "      <td>...</td>\n",
              "      <td>...</td>\n",
              "      <td>...</td>\n",
              "    </tr>\n",
              "    <tr>\n",
              "      <th>466</th>\n",
              "      <td>466</td>\n",
              "      <td>cool</td>\n",
              "      <td>[cool]</td>\n",
              "    </tr>\n",
              "    <tr>\n",
              "      <th>467</th>\n",
              "      <td>467</td>\n",
              "      <td>mean ford ferrari</td>\n",
              "      <td>[mean, ford, ferrari]</td>\n",
              "    </tr>\n",
              "    <tr>\n",
              "      <th>468</th>\n",
              "      <td>468</td>\n",
              "      <td>fucking split terminate cunt contract</td>\n",
              "      <td>[fucking, split, terminate, cunt, contract]</td>\n",
              "    </tr>\n",
              "    <tr>\n",
              "      <th>469</th>\n",
              "      <td>469</td>\n",
              "      <td>graham potter start havertz aubameyang ludacris</td>\n",
              "      <td>[graham, potter, start, havertz, aubameyang, l...</td>\n",
              "    </tr>\n",
              "    <tr>\n",
              "      <th>470</th>\n",
              "      <td>470</td>\n",
              "      <td>arrangement michael jackson</td>\n",
              "      <td>[arrangement, michael, jackson]</td>\n",
              "    </tr>\n",
              "  </tbody>\n",
              "</table>\n",
              "<p>469 rows × 3 columns</p>\n",
              "</div>\n",
              "      <button class=\"colab-df-convert\" onclick=\"convertToInteractive('df-b76b6b57-669d-4d69-983d-181549b24781')\"\n",
              "              title=\"Convert this dataframe to an interactive table.\"\n",
              "              style=\"display:none;\">\n",
              "        \n",
              "  <svg xmlns=\"http://www.w3.org/2000/svg\" height=\"24px\"viewBox=\"0 0 24 24\"\n",
              "       width=\"24px\">\n",
              "    <path d=\"M0 0h24v24H0V0z\" fill=\"none\"/>\n",
              "    <path d=\"M18.56 5.44l.94 2.06.94-2.06 2.06-.94-2.06-.94-.94-2.06-.94 2.06-2.06.94zm-11 1L8.5 8.5l.94-2.06 2.06-.94-2.06-.94L8.5 2.5l-.94 2.06-2.06.94zm10 10l.94 2.06.94-2.06 2.06-.94-2.06-.94-.94-2.06-.94 2.06-2.06.94z\"/><path d=\"M17.41 7.96l-1.37-1.37c-.4-.4-.92-.59-1.43-.59-.52 0-1.04.2-1.43.59L10.3 9.45l-7.72 7.72c-.78.78-.78 2.05 0 2.83L4 21.41c.39.39.9.59 1.41.59.51 0 1.02-.2 1.41-.59l7.78-7.78 2.81-2.81c.8-.78.8-2.07 0-2.86zM5.41 20L4 18.59l7.72-7.72 1.47 1.35L5.41 20z\"/>\n",
              "  </svg>\n",
              "      </button>\n",
              "      \n",
              "  <style>\n",
              "    .colab-df-container {\n",
              "      display:flex;\n",
              "      flex-wrap:wrap;\n",
              "      gap: 12px;\n",
              "    }\n",
              "\n",
              "    .colab-df-convert {\n",
              "      background-color: #E8F0FE;\n",
              "      border: none;\n",
              "      border-radius: 50%;\n",
              "      cursor: pointer;\n",
              "      display: none;\n",
              "      fill: #1967D2;\n",
              "      height: 32px;\n",
              "      padding: 0 0 0 0;\n",
              "      width: 32px;\n",
              "    }\n",
              "\n",
              "    .colab-df-convert:hover {\n",
              "      background-color: #E2EBFA;\n",
              "      box-shadow: 0px 1px 2px rgba(60, 64, 67, 0.3), 0px 1px 3px 1px rgba(60, 64, 67, 0.15);\n",
              "      fill: #174EA6;\n",
              "    }\n",
              "\n",
              "    [theme=dark] .colab-df-convert {\n",
              "      background-color: #3B4455;\n",
              "      fill: #D2E3FC;\n",
              "    }\n",
              "\n",
              "    [theme=dark] .colab-df-convert:hover {\n",
              "      background-color: #434B5C;\n",
              "      box-shadow: 0px 1px 3px 1px rgba(0, 0, 0, 0.15);\n",
              "      filter: drop-shadow(0px 1px 2px rgba(0, 0, 0, 0.3));\n",
              "      fill: #FFFFFF;\n",
              "    }\n",
              "  </style>\n",
              "\n",
              "      <script>\n",
              "        const buttonEl =\n",
              "          document.querySelector('#df-b76b6b57-669d-4d69-983d-181549b24781 button.colab-df-convert');\n",
              "        buttonEl.style.display =\n",
              "          google.colab.kernel.accessAllowed ? 'block' : 'none';\n",
              "\n",
              "        async function convertToInteractive(key) {\n",
              "          const element = document.querySelector('#df-b76b6b57-669d-4d69-983d-181549b24781');\n",
              "          const dataTable =\n",
              "            await google.colab.kernel.invokeFunction('convertToInteractive',\n",
              "                                                     [key], {});\n",
              "          if (!dataTable) return;\n",
              "\n",
              "          const docLinkHtml = 'Like what you see? Visit the ' +\n",
              "            '<a target=\"_blank\" href=https://colab.research.google.com/notebooks/data_table.ipynb>data table notebook</a>'\n",
              "            + ' to learn more about interactive tables.';\n",
              "          element.innerHTML = '';\n",
              "          dataTable['output_type'] = 'display_data';\n",
              "          await google.colab.output.renderOutput(dataTable, element);\n",
              "          const docLink = document.createElement('div');\n",
              "          docLink.innerHTML = docLinkHtml;\n",
              "          element.appendChild(docLink);\n",
              "        }\n",
              "      </script>\n",
              "    </div>\n",
              "  </div>\n",
              "  "
            ]
          },
          "metadata": {},
          "execution_count": 46
        }
      ],
      "source": [
        "grouped_doc"
      ]
    },
    {
      "cell_type": "markdown",
      "id": "2cd20eb3",
      "metadata": {
        "id": "2cd20eb3"
      },
      "source": [
        "## Topic modelling of grouped tweets using LDA"
      ]
    },
    {
      "cell_type": "code",
      "execution_count": null,
      "id": "e916fa27",
      "metadata": {
        "id": "e916fa27"
      },
      "outputs": [],
      "source": [
        "token = grouped_doc['tokens'].tolist()"
      ]
    },
    {
      "cell_type": "code",
      "execution_count": null,
      "id": "e7e1096d",
      "metadata": {
        "id": "e7e1096d"
      },
      "outputs": [],
      "source": [
        "dictionary = corpora.Dictionary(token)\n",
        "corpus = [dictionary.doc2bow(doc) for doc in token]"
      ]
    },
    {
      "cell_type": "code",
      "execution_count": null,
      "id": "5728a882",
      "metadata": {
        "id": "5728a882"
      },
      "outputs": [],
      "source": [
        "coherence_scores = []\n",
        "for num_topics in range(2, 21, 1):\n",
        "    score = compute_coherence_score(corpus, dictionary, num_topics)\n",
        "    coherence_scores.append(score)"
      ]
    },
    {
      "cell_type": "code",
      "execution_count": null,
      "id": "fb29d5f3",
      "metadata": {
        "id": "fb29d5f3",
        "colab": {
          "base_uri": "https://localhost:8080/"
        },
        "outputId": "15d5c154-f0ba-4a54-e0ef-201d6204bade"
      },
      "outputs": [
        {
          "output_type": "stream",
          "name": "stdout",
          "text": [
            "Coherence Scores:\n",
            "Num Topics = 2: Coherence Score = 0.3164\n",
            "Num Topics = 3: Coherence Score = 0.3643\n",
            "Num Topics = 4: Coherence Score = 0.3286\n",
            "Num Topics = 5: Coherence Score = 0.3107\n",
            "Num Topics = 6: Coherence Score = 0.4042\n",
            "Num Topics = 7: Coherence Score = 0.3763\n",
            "Num Topics = 8: Coherence Score = 0.4423\n",
            "Num Topics = 9: Coherence Score = 0.4238\n",
            "Num Topics = 10: Coherence Score = 0.4144\n",
            "Num Topics = 11: Coherence Score = 0.396\n",
            "Num Topics = 12: Coherence Score = 0.4269\n",
            "Num Topics = 13: Coherence Score = 0.4247\n",
            "Num Topics = 14: Coherence Score = 0.4005\n",
            "Num Topics = 15: Coherence Score = 0.4134\n",
            "Num Topics = 16: Coherence Score = 0.3981\n",
            "Num Topics = 17: Coherence Score = 0.3889\n",
            "Num Topics = 18: Coherence Score = 0.3929\n",
            "Num Topics = 19: Coherence Score = 0.3587\n",
            "Num Topics = 20: Coherence Score = 0.3858\n"
          ]
        }
      ],
      "source": [
        "print('Coherence Scores:')\n",
        "for num_topics, score in zip(range(2, 21, 1), coherence_scores):\n",
        "    print('Num Topics = {}: Coherence Score = {}'.format(num_topics, round(score, 4))) "
      ]
    },
    {
      "cell_type": "code",
      "source": [
        "optimal_num_topics = coherence_scores.index(max(coherence_scores)) + 2"
      ],
      "metadata": {
        "id": "x26oEXIYZt_9"
      },
      "id": "x26oEXIYZt_9",
      "execution_count": null,
      "outputs": []
    },
    {
      "cell_type": "code",
      "source": [
        "lda_model = LdaModel(corpus=corpus,\n",
        "                     id2word=dictionary,\n",
        "                     num_topics=13,\n",
        "                     random_state=42,\n",
        "                     passes=10,\n",
        "                     )"
      ],
      "metadata": {
        "id": "l8TjsGNbKRk-"
      },
      "id": "l8TjsGNbKRk-",
      "execution_count": null,
      "outputs": []
    },
    {
      "cell_type": "code",
      "source": [
        "print('LDA Model Topics:')\n",
        "for idx, topic in lda_model.print_topics(-1):\n",
        "    print('Topic: {} \\nWords: {}'.format(idx, topic))"
      ],
      "metadata": {
        "colab": {
          "base_uri": "https://localhost:8080/"
        },
        "id": "aXWANMiqZ5e-",
        "outputId": "ab5a7941-7d69-4279-afc5-1d22915fbf99"
      },
      "id": "aXWANMiqZ5e-",
      "execution_count": null,
      "outputs": [
        {
          "output_type": "stream",
          "name": "stdout",
          "text": [
            "LDA Model Topics:\n",
            "Topic: 0 \n",
            "Words: 0.048*\"https\" + 0.012*\"york\" + 0.010*\"london\" + 0.008*\"like\" + 0.005*\"england\" + 0.004*\"conservative\" + 0.004*\"go\" + 0.004*\"think\" + 0.003*\"know\" + 0.003*\"live\"\n",
            "Topic: 1 \n",
            "Words: 0.030*\"https\" + 0.006*\"sewage\" + 0.005*\"vote\" + 0.005*\"allow\" + 0.005*\"river\" + 0.004*\"dump\" + 0.004*\"conservatives\" + 0.004*\"woman\" + 0.003*\"world\" + 0.003*\"company\"\n",
            "Topic: 2 \n",
            "Words: 0.027*\"https\" + 0.022*\"labour\" + 0.019*\"people\" + 0.017*\"time\" + 0.008*\"party\" + 0.006*\"vote\" + 0.005*\"tory\" + 0.005*\"work\" + 0.005*\"think\" + 0.005*\"city\"\n",
            "Topic: 3 \n",
            "Words: 0.015*\"know\" + 0.009*\"hope\" + 0.007*\"https\" + 0.006*\"dundee\" + 0.004*\"song\" + 0.004*\"ulez\" + 0.003*\"british\" + 0.002*\"dobbies\" + 0.002*\"army\" + 0.002*\"ndebele\"\n",
            "Topic: 4 \n",
            "Words: 0.020*\"worker\" + 0.012*\"corner\" + 0.011*\"world\" + 0.011*\"india\" + 0.010*\"industrial\" + 0.010*\"labour\" + 0.010*\"africa\" + 0.010*\"getting\" + 0.010*\"come\" + 0.009*\"shortage\"\n",
            "Topic: 5 \n",
            "Words: 0.007*\"https\" + 0.006*\"surgeon\" + 0.002*\"usual\" + 0.002*\"plastic\" + 0.002*\"humanity\" + 0.001*\"give\" + 0.001*\"lie\" + 0.001*\"arrest\" + 0.001*\"crossword\" + 0.001*\"puzzle\"\n",
            "Topic: 6 \n",
            "Words: 0.026*\"https\" + 0.021*\"bear\" + 0.016*\"look\" + 0.013*\"rest\" + 0.011*\"book\" + 0.011*\"hell\" + 0.011*\"live\" + 0.011*\"link\" + 0.010*\"horror\" + 0.010*\"long\"\n",
            "Topic: 7 \n",
            "Words: 0.027*\"good\" + 0.021*\"ticket\" + 0.021*\"https\" + 0.011*\"sell\" + 0.009*\"london\" + 0.005*\"interested\" + 0.004*\"look\" + 0.004*\"go\" + 0.004*\"face\" + 0.003*\"work\"\n",
            "Topic: 8 \n",
            "Words: 0.043*\"https\" + 0.014*\"flight\" + 0.010*\"link\" + 0.010*\"play\" + 0.009*\"airport\" + 0.009*\"london\" + 0.008*\"year\" + 0.007*\"heathrow\" + 0.005*\"oxford\" + 0.005*\"plane\"\n",
            "Topic: 9 \n",
            "Words: 0.031*\"manchester\" + 0.020*\"united\" + 0.014*\"https\" + 0.007*\"amazing\" + 0.005*\"greenwood\" + 0.004*\"crystal\" + 0.004*\"palace\" + 0.003*\"service\" + 0.003*\"mufc\" + 0.003*\"good\"\n",
            "Topic: 10 \n",
            "Words: 0.028*\"https\" + 0.009*\"government\" + 0.009*\"kabul\" + 0.009*\"fall\" + 0.008*\"sue\" + 0.008*\"sack\" + 0.008*\"whistleblower\" + 0.007*\"civil\" + 0.006*\"guardian\" + 0.006*\"service\"\n",
            "Topic: 11 \n",
            "Words: 0.035*\"boris\" + 0.031*\"https\" + 0.018*\"johnson\" + 0.014*\"great\" + 0.011*\"rishi\" + 0.009*\"sunak\" + 0.007*\"come\" + 0.005*\"interview\" + 0.005*\"ukraine\" + 0.004*\"tell\"\n",
            "Topic: 12 \n",
            "Words: 0.033*\"https\" + 0.014*\"need\" + 0.011*\"love\" + 0.009*\"right\" + 0.007*\"wales\" + 0.007*\"power\" + 0.005*\"dublin\" + 0.005*\"happy\" + 0.005*\"money\" + 0.004*\"year\"\n"
          ]
        }
      ]
    },
    {
      "cell_type": "code",
      "source": [
        "grouped_doc['topic'] = [max(lda_model.get_document_topics(bow), key=lambda x: x[1])[0] for bow in corpus]"
      ],
      "metadata": {
        "id": "n7sRUtaxVDSB"
      },
      "id": "n7sRUtaxVDSB",
      "execution_count": null,
      "outputs": []
    },
    {
      "cell_type": "code",
      "source": [
        "# Topic Distribution \n",
        "doc_topic_distr = []\n",
        "for i in range(len(corpus)):\n",
        "    bow = corpus[i]\n",
        "    topic_distr = lda_model.get_document_topics(bow, minimum_probability=0.0)\n",
        "    topic_distr = [(topic_id, prob) for topic_id, prob in topic_distr]\n",
        "    doc_topic_distr.append(topic_distr)\n",
        "print(doc_topic_distr)"
      ],
      "metadata": {
        "id": "kJYF52xfYzx3",
        "colab": {
          "base_uri": "https://localhost:8080/"
        },
        "outputId": "69570189-d22f-4978-cc81-8b632a44f83e"
      },
      "id": "kJYF52xfYzx3",
      "execution_count": null,
      "outputs": [
        {
          "output_type": "stream",
          "name": "stdout",
          "text": [
            "[[(0, 0.07996491), (1, 0.0001694356), (2, 0.00016943694), (3, 0.0001694348), (4, 0.00016943515), (5, 0.00016943445), (6, 0.9181713), (7, 0.0001694365), (8, 0.00016943585), (9, 0.00016943536), (10, 0.000169435), (11, 0.00016943648), (12, 0.00016943694)], [(0, 0.9968709), (1, 0.0002607574), (2, 0.00026075848), (3, 0.0002607568), (4, 0.00026075952), (5, 0.00026075647), (6, 0.00026076104), (7, 0.00026075874), (8, 0.000260758), (9, 0.00026075766), (10, 0.00026075693), (11, 0.0002607583), (12, 0.00026075836)], [(0, 0.06819453), (1, 7.996232e-05), (2, 7.996286e-05), (3, 7.996218e-05), (4, 7.996222e-05), (5, 7.9961814e-05), (6, 7.996249e-05), (7, 7.9962854e-05), (8, 7.996251e-05), (9, 7.996222e-05), (10, 7.9962134e-05), (11, 7.996313e-05), (12, 0.93092585)], [(0, 0.99883366), (1, 1.839836e-05), (2, 1.8398452e-05), (3, 1.8398328e-05), (4, 1.8398467e-05), (5, 1.8398281e-05), (6, 1.8398376e-05), (7, 1.8398463e-05), (8, 0.0009639103), (9, 1.8398367e-05), (10, 1.8398332e-05), (11, 1.8398412e-05), (12, 1.8398418e-05)], [(0, 8.60441e-05), (1, 8.604386e-05), (2, 8.604424e-05), (3, 8.6043794e-05), (4, 0.99896747), (5, 8.604378e-05), (6, 8.60438e-05), (7, 8.6043896e-05), (8, 8.604389e-05), (9, 8.604381e-05), (10, 8.6043794e-05), (11, 8.604395e-05), (12, 8.604407e-05)], [(0, 0.99937546), (1, 5.2045743e-05), (2, 5.20463e-05), (3, 5.2045634e-05), (4, 5.2045587e-05), (5, 5.2045532e-05), (6, 5.204571e-05), (7, 5.204592e-05), (8, 5.2045805e-05), (9, 5.2045663e-05), (10, 5.2045623e-05), (11, 5.2045856e-05), (12, 5.2045987e-05)], [(0, 0.00049628655), (1, 0.00049628166), (2, 0.00049628655), (3, 0.0004962805), (4, 0.00049628725), (5, 0.0004962785), (6, 0.00049628003), (7, 0.00049628253), (8, 0.00049628346), (9, 0.99404466), (10, 0.00049628294), (11, 0.0004962821), (12, 0.00049628504)], [(0, 0.9993967), (1, 5.0276907e-05), (2, 5.0277304e-05), (3, 5.027662e-05), (4, 5.0277118e-05), (5, 5.0276612e-05), (6, 5.027679e-05), (7, 5.0276933e-05), (8, 5.027704e-05), (9, 5.027683e-05), (10, 5.0276918e-05), (11, 5.027699e-05), (12, 5.0276973e-05)], [(0, 9.369587e-05), (1, 9.369501e-05), (2, 0.9856428), (3, 9.369466e-05), (4, 9.369523e-05), (5, 9.369451e-05), (6, 9.3695e-05), (7, 9.369565e-05), (8, 9.369506e-05), (9, 0.013326601), (10, 9.3694885e-05), (11, 9.3695286e-05), (12, 9.36954e-05)], [(0, 0.9810648), (1, 0.00013860149), (2, 0.017410621), (3, 0.0001386011), (4, 0.00013860087), (5, 0.0001386007), (6, 0.00013860136), (7, 0.00013860139), (8, 0.00013860172), (9, 0.00013860149), (10, 0.0001386016), (11, 0.00013860273), (12, 0.00013860215)], [(0, 0.0033445347), (1, 0.0033444983), (2, 0.0033445081), (3, 0.0033444886), (4, 0.003344487), (5, 0.0033444834), (6, 0.0033444948), (7, 0.003344514), (8, 0.0033445177), (9, 0.0033445102), (10, 0.0033445025), (11, 0.9598659), (12, 0.0033445202)], [(0, 0.000986215), (1, 0.0009862095), (2, 0.0009862086), (3, 0.0009862044), (4, 0.0009862058), (5, 0.0009861967), (6, 0.0009862074), (7, 0.0009862038), (8, 0.0009862069), (9, 0.000986199), (10, 0.98816556), (11, 0.0009862037), (12, 0.0009862118)], [(0, 0.83597285), (1, 0.00013910256), (2, 0.16249704), (3, 0.000139102), (4, 0.00013910366), (5, 0.00013910171), (6, 0.00013910228), (7, 0.00013910318), (8, 0.00013910481), (9, 0.00013910272), (10, 0.00013910215), (11, 0.00013910387), (12, 0.00013910343)], [(0, 0.0003004866), (1, 0.00030048328), (2, 0.00030048625), (3, 0.00030048232), (4, 0.00030048323), (5, 0.00030048157), (6, 0.00030048392), (7, 0.9846132), (8, 0.0003004841), (9, 0.00030048314), (10, 0.00030048186), (11, 0.012081508), (12, 0.00030048576)], [(0, 0.9809569), (1, 1.5552692e-05), (2, 0.018871995), (3, 1.5552656e-05), (4, 1.5552732e-05), (5, 1.555261e-05), (6, 1.5552696e-05), (7, 1.555273e-05), (8, 1.555273e-05), (9, 1.5552694e-05), (10, 1.5552652e-05), (11, 1.5552785e-05), (12, 1.5552781e-05)], [(0, 0.99992335), (1, 6.3879043e-06), (2, 6.3879334e-06), (3, 6.387887e-06), (4, 6.3878874e-06), (5, 6.3878797e-06), (6, 6.387908e-06), (7, 6.3879147e-06), (8, 6.3879247e-06), (9, 6.387899e-06), (10, 6.3878897e-06), (11, 6.3879147e-06), (12, 6.387926e-06)], [(0, 5.562155e-05), (1, 5.562091e-05), (2, 0.99686986), (3, 5.5620654e-05), (4, 5.56208e-05), (5, 5.5620538e-05), (6, 5.5621e-05), (7, 5.562093e-05), (8, 0.0025183072), (9, 5.562065e-05), (10, 5.5620694e-05), (11, 5.5621076e-05), (12, 5.5620952e-05)], [(0, 0.12948431), (1, 0.020905735), (2, 0.37896445), (3, 0.4678763), (4, 0.00030769367), (5, 0.00030769288), (6, 0.0003076988), (7, 0.00030769658), (8, 0.00030769577), (9, 0.00030769533), (10, 0.00030769454), (11, 0.00030769582), (12, 0.00030769716)], [(0, 5.4867614e-05), (1, 5.4867116e-05), (2, 0.010800063), (3, 5.486702e-05), (4, 5.486691e-05), (5, 5.4866836e-05), (6, 5.4867116e-05), (7, 0.98859644), (8, 5.4867258e-05), (9, 5.4866967e-05), (10, 5.4867003e-05), (11, 5.4867356e-05), (12, 5.4867436e-05)], [(0, 0.23002464), (1, 8.70178e-05), (2, 0.5881797), (3, 8.70176e-05), (4, 8.701726e-05), (5, 8.7017295e-05), (6, 8.7018e-05), (7, 8.701799e-05), (8, 0.18092544), (9, 8.701792e-05), (10, 8.701793e-05), (11, 8.701857e-05), (12, 8.701827e-05)], [(0, 0.9992243), (1, 6.464179e-05), (2, 6.464373e-05), (3, 6.4641536e-05), (4, 6.464167e-05), (5, 6.464143e-05), (6, 6.4641776e-05), (7, 6.4642205e-05), (8, 6.464173e-05), (9, 6.464172e-05), (10, 6.464167e-05), (11, 6.464182e-05), (12, 6.4642125e-05)], [(0, 0.98461527), (1, 0.001282056), (2, 0.0012820624), (3, 0.0012820527), (4, 0.0012820517), (5, 0.0012820519), (6, 0.0012820706), (7, 0.0012820564), (8, 0.0012820727), (9, 0.0012820589), (10, 0.001282076), (11, 0.0012820573), (12, 0.0012820634)], [(0, 0.9948395), (1, 2.18844e-05), (2, 0.0049197446), (3, 2.1884362e-05), (4, 2.1884382e-05), (5, 2.1884298e-05), (6, 2.1884518e-05), (7, 2.188451e-05), (8, 2.188448e-05), (9, 2.1884403e-05), (10, 2.188436e-05), (11, 2.1884538e-05), (12, 2.1884549e-05)], [(0, 0.93155634), (1, 2.6361991e-05), (2, 0.06815372), (3, 2.6361688e-05), (4, 2.6361702e-05), (5, 2.636165e-05), (6, 2.6361766e-05), (7, 2.6361815e-05), (8, 2.6361779e-05), (9, 2.63617e-05), (10, 2.6361726e-05), (11, 2.6361811e-05), (12, 2.6361917e-05)], [(0, 0.98380554), (1, 0.0013495331), (2, 0.0013495386), (3, 0.0013495288), (4, 0.0013495295), (5, 0.00134957), (6, 0.0013495302), (7, 0.0013495431), (8, 0.0013495374), (9, 0.0013495295), (10, 0.0013495304), (11, 0.0013495391), (12, 0.0013495415)], [(0, 0.0013037858), (1, 0.001303783), (2, 0.0013037841), (3, 0.0013037813), (4, 0.0013037816), (5, 0.001303782), (6, 0.0013037825), (7, 0.0013037847), (8, 0.0013037849), (9, 0.0013037818), (10, 0.98435456), (11, 0.0013037845), (12, 0.0013037864)], [(0, 2.2758799e-05), (1, 2.275844e-05), (2, 0.9997269), (3, 2.2758393e-05), (4, 2.2758459e-05), (5, 2.2758355e-05), (6, 2.2758475e-05), (7, 2.2758466e-05), (8, 2.275846e-05), (9, 2.2758386e-05), (10, 2.2758397e-05), (11, 2.2758564e-05), (12, 2.2758533e-05)], [(0, 0.99859625), (1, 0.000107136024), (2, 0.0002252349), (3, 0.00010713591), (4, 0.000107135995), (5, 0.00010713535), (6, 0.00010713604), (7, 0.00010713607), (8, 0.00010713597), (9, 0.00010713573), (10, 0.00010713573), (11, 0.00010713661), (12, 0.00010713644)], [(0, 0.9953846), (1, 0.0003846162), (2, 0.00038461687), (3, 0.00038461553), (4, 0.00038461568), (5, 0.00038461562), (6, 0.0003846168), (7, 0.00038461655), (8, 0.0003846178), (9, 0.00038461562), (10, 0.00038461635), (11, 0.0003846167), (12, 0.00038461838)], [(0, 0.99615383), (1, 0.0003205158), (2, 0.00032051676), (3, 0.00032051443), (4, 0.000320513), (5, 0.00032051335), (6, 0.00032051484), (7, 0.00032051522), (8, 0.00032051431), (9, 0.00032051463), (10, 0.0003205145), (11, 0.0003205163), (12, 0.00032051557)], [(0, 0.9967836), (1, 0.0002680269), (2, 0.00026802838), (3, 0.00026802582), (4, 0.0002680255), (5, 0.00026802497), (6, 0.00026802626), (7, 0.00026802678), (8, 0.00026803455), (9, 0.00026802716), (10, 0.00026802527), (11, 0.00026802727), (12, 0.00026802774)], [(0, 0.9966795), (1, 0.00027670342), (2, 0.00027670627), (3, 0.00027670432), (4, 0.00027670545), (5, 0.00027670187), (6, 0.00027670333), (7, 0.00027670356), (8, 0.0002767056), (9, 0.0002767035), (10, 0.00027670286), (11, 0.00027670435), (12, 0.00027670464)], [(0, 0.0005614904), (1, 0.00056148594), (2, 0.000561488), (3, 0.0005614838), (4, 0.0005614869), (5, 0.0005614835), (6, 0.00056148996), (7, 0.0005614852), (8, 0.9932622), (9, 0.0005614839), (10, 0.00056148384), (11, 0.0005614879), (12, 0.00056148815)], [(0, 0.26738518), (1, 3.1423056e-05), (2, 3.142335e-05), (3, 3.142294e-05), (4, 3.1422886e-05), (5, 3.1422875e-05), (6, 3.1423104e-05), (7, 3.1423097e-05), (8, 3.142315e-05), (9, 3.1422962e-05), (10, 3.142322e-05), (11, 0.73226917), (12, 3.1423206e-05)], [(0, 0.0001049441), (1, 0.00010494351), (2, 0.00010494405), (3, 0.000104943145), (4, 0.000104943465), (5, 0.00010494298), (6, 0.00010494363), (7, 0.00010494343), (8, 0.00010494381), (9, 0.000104943385), (10, 0.00010494338), (11, 0.9987407), (12, 0.00010494382)], [(0, 0.0005494614), (1, 0.0005494551), (2, 0.9934066), (3, 0.0005494533), (4, 0.0005494521), (5, 0.0005494516), (6, 0.00054945325), (7, 0.0005494572), (8, 0.00054945453), (9, 0.0005494558), (10, 0.0005494522), (11, 0.00054945674), (12, 0.00054945727)], [(0, 0.9992726), (1, 6.0617473e-05), (2, 6.061826e-05), (3, 6.0617236e-05), (4, 6.0617196e-05), (5, 6.0617218e-05), (6, 6.061756e-05), (7, 6.061763e-05), (8, 6.0617724e-05), (9, 6.0617396e-05), (10, 6.0617447e-05), (11, 6.0617724e-05), (12, 6.0617873e-05)], [(0, 0.00014850184), (1, 0.00014850088), (2, 0.00014850283), (3, 0.00014850011), (4, 0.00014849994), (5, 0.00014850004), (6, 0.00014850037), (7, 0.0001485009), (8, 0.00014850097), (9, 0.00014850053), (10, 0.00014850017), (11, 0.00014850136), (12, 0.99821794)], [(0, 0.00046905098), (1, 0.00046904662), (2, 0.000469053), (3, 0.00046904484), (4, 0.00046904522), (5, 0.0004690442), (6, 0.00046905276), (7, 0.00046905753), (8, 0.00046904685), (9, 0.00046904563), (10, 0.9943715), (11, 0.0004690484), (12, 0.0004690488)], [(0, 0.00016472186), (1, 0.00016471875), (2, 0.99802333), (3, 0.00016471841), (4, 0.00016471819), (5, 0.00016471776), (6, 0.00016471914), (7, 0.00016472046), (8, 0.00016471927), (9, 0.00016471856), (10, 0.0001647186), (11, 0.00016471927), (12, 0.00016472013)], [(0, 0.0004158099), (1, 0.00041580576), (2, 0.00041580712), (3, 0.0004158036), (4, 0.00041580125), (5, 0.0004158012), (6, 0.00041580325), (7, 0.98747313), (8, 0.007953026), (9, 0.00041580232), (10, 0.00041580663), (11, 0.00041580477), (12, 0.00041580634)], [(0, 0.704403), (1, 0.000119447024), (2, 0.00011944786), (3, 0.2942831), (4, 0.000119447075), (5, 0.00011944604), (6, 0.00011944665), (7, 0.00011944713), (8, 0.000119448574), (9, 0.00011944659), (10, 0.000119446515), (11, 0.000119447825), (12, 0.00011944781)], [(0, 0.99802756), (1, 0.00016436672), (2, 0.00016436796), (3, 0.00016436646), (4, 0.0001643661), (5, 0.00016436579), (6, 0.00016436714), (7, 0.0001643681), (8, 0.00016436681), (9, 0.00016436641), (10, 0.00016436633), (11, 0.00016436701), (12, 0.00016436762)], [(0, 0.9065471), (1, 0.00022758557), (2, 0.06454897), (3, 0.00022758449), (4, 0.00022758334), (5, 0.00022758365), (6, 0.026628083), (7, 0.00022758599), (8, 0.00022758532), (9, 0.00022758594), (10, 0.00022758449), (11, 0.00022758535), (12, 0.00022758608)], [(0, 0.0011834549), (1, 0.98579866), (2, 0.0011834458), (3, 0.0011834353), (4, 0.0011834552), (5, 0.0011834347), (6, 0.0011834366), (7, 0.0011834439), (8, 0.001183447), (9, 0.0011834722), (10, 0.001183435), (11, 0.001183439), (12, 0.0011834457)], [(0, 0.0024038756), (1, 0.0024038956), (2, 0.0024039238), (3, 0.0024038495), (4, 0.002403846), (5, 0.0024038546), (6, 0.002403849), (7, 0.0024038719), (8, 0.0024038493), (9, 0.002403861), (10, 0.97115356), (11, 0.0024038549), (12, 0.0024038653)], [(0, 0.0021644423), (1, 2.6111238e-05), (2, 0.99754834), (3, 2.6111136e-05), (4, 2.6111227e-05), (5, 2.611107e-05), (6, 2.6111225e-05), (7, 2.6111265e-05), (8, 2.6111245e-05), (9, 2.6111147e-05), (10, 2.6111116e-05), (11, 2.6111302e-05), (12, 2.6111464e-05)], [(0, 0.99498326), (1, 0.00041806133), (2, 0.0004180618), (3, 0.00041806127), (4, 0.00041806058), (5, 0.0004180618), (6, 0.00041806203), (7, 0.0004180619), (8, 0.00041806183), (9, 0.00041806078), (10, 0.00041806087), (11, 0.00041806273), (12, 0.00041806194)], [(0, 0.99781775), (1, 0.00018185379), (2, 0.00018185502), (3, 0.00018185233), (4, 0.00018185182), (5, 0.0001818516), (6, 0.00018185326), (7, 0.00018185316), (8, 0.00018185249), (9, 0.00018185256), (10, 0.00018185301), (11, 0.00018185371), (12, 0.00018185377)], [(0, 0.00026802786), (1, 0.00026802567), (2, 0.00026802713), (3, 0.0002680253), (4, 0.9967836), (5, 0.00026802518), (6, 0.0002680256), (7, 0.00026802815), (8, 0.00026802628), (9, 0.00026802582), (10, 0.00026802544), (11, 0.00026802663), (12, 0.0002680268)], [(0, 0.9995232), (1, 3.97333e-05), (2, 3.973368e-05), (3, 3.973322e-05), (4, 3.9733215e-05), (5, 3.9733095e-05), (6, 3.9733783e-05), (7, 3.973349e-05), (8, 3.973336e-05), (9, 3.9733368e-05), (10, 3.9733284e-05), (11, 3.9733455e-05), (12, 3.9733597e-05)], [(0, 9.290324e-05), (1, 9.290276e-05), (2, 9.2902825e-05), (3, 9.290249e-05), (4, 9.290252e-05), (5, 9.290242e-05), (6, 9.290277e-05), (7, 9.290271e-05), (8, 0.99888515), (9, 9.2902905e-05), (10, 9.2902475e-05), (11, 9.2902636e-05), (12, 9.290275e-05)], [(0, 0.8072766), (1, 0.00029360346), (2, 0.00029360462), (3, 0.00029360174), (4, 0.0002936005), (5, 0.00029360093), (6, 0.00029360133), (7, 0.00029360357), (8, 0.18949382), (9, 0.00029360206), (10, 0.0002936013), (11, 0.00029360194), (12, 0.0002936029)], [(0, 5.4985136e-05), (1, 5.4984543e-05), (2, 5.4984757e-05), (3, 5.498446e-05), (4, 5.4984488e-05), (5, 5.498439e-05), (6, 5.498466e-05), (7, 0.9993402), (8, 5.498474e-05), (9, 5.4984772e-05), (10, 5.4984557e-05), (11, 5.4984637e-05), (12, 5.498483e-05)], [(0, 0.55447733), (1, 0.00017208928), (2, 0.0001720905), (3, 0.0001720883), (4, 0.00017208888), (5, 0.00017208813), (6, 0.41881803), (7, 0.024983712), (8, 0.00017209013), (9, 0.00017208874), (10, 0.00017208813), (11, 0.00017208979), (12, 0.00017209032)], [(0, 0.00020790305), (1, 0.00020790167), (2, 0.00020790291), (3, 0.00020790123), (4, 0.00020790046), (5, 0.00020790056), (6, 0.00020790174), (7, 0.00020790171), (8, 0.9975051), (9, 0.00020790087), (10, 0.0002079006), (11, 0.00020790285), (12, 0.0002079029)], [(0, 0.9658118), (1, 0.0028490291), (2, 0.002849029), (3, 0.00284901), (4, 0.0028490117), (5, 0.0028490082), (6, 0.0028490073), (7, 0.0028490333), (8, 0.002849023), (9, 0.0028490087), (10, 0.0028490091), (11, 0.0028490173), (12, 0.0028490769)], [(0, 0.97748417), (1, 0.0008841782), (2, 0.0008841898), (3, 0.0008841777), (4, 0.012789799), (5, 0.00088417495), (6, 0.0008841815), (7, 0.0008841875), (8, 0.00088418025), (9, 0.0008841846), (10, 0.0008841768), (11, 0.0008841819), (12, 0.0008841849)], [(0, 0.000541714), (1, 0.0005417128), (2, 0.0005417131), (3, 0.0005417123), (4, 0.00054171256), (5, 0.00054171286), (6, 0.99349946), (7, 0.0005417128), (8, 0.000541713), (9, 0.0005417123), (10, 0.0005417125), (11, 0.0005417128), (12, 0.0005417133)], [(0, 0.994538), (1, 0.00045517046), (2, 0.00045517104), (3, 0.0004551683), (4, 0.00045516735), (5, 0.0004551669), (6, 0.00045516898), (7, 0.0004551726), (8, 0.0004551693), (9, 0.00045516822), (10, 0.00045516767), (11, 0.0004551689), (12, 0.00045517043)], [(0, 0.00061539107), (1, 0.00061538885), (2, 0.99261534), (3, 0.0006153861), (4, 0.00061539456), (5, 0.000615385), (6, 0.0006153898), (7, 0.00061538734), (8, 0.00061539054), (9, 0.00061538734), (10, 0.0006153873), (11, 0.00061539025), (12, 0.0006153929)], [(0, 0.0002572746), (1, 0.00025727018), (2, 0.9969127), (3, 0.00025726893), (4, 0.0002572687), (5, 0.0002572685), (6, 0.00025726928), (7, 0.00025726977), (8, 0.0002572703), (9, 0.00025727035), (10, 0.00025726922), (11, 0.0002572709), (12, 0.0002572706)], [(0, 0.8622196), (1, 0.0021978107), (2, 0.002197834), (3, 0.0021978084), (4, 0.002197808), (5, 0.0021978086), (6, 0.0021978088), (7, 0.0021978272), (8, 0.0021978132), (9, 0.002197806), (10, 0.0021978102), (11, 0.113604456), (12, 0.002197827)], [(0, 0.00011708432), (1, 0.000117083255), (2, 0.00011708568), (3, 0.00011708312), (4, 0.00011708305), (5, 0.00011708257), (6, 0.00011708296), (7, 0.00011708424), (8, 0.998595), (9, 0.0001170833), (10, 0.000117082905), (11, 0.0001170834), (12, 0.000117084004)], [(0, 0.9658118), (1, 0.002849029), (2, 0.0028490424), (3, 0.002849004), (4, 0.0028490035), (5, 0.0028490035), (6, 0.00284901), (7, 0.0028490152), (8, 0.0028491092), (9, 0.0028490073), (10, 0.0028490054), (11, 0.0028490073), (12, 0.0028490261)], [(0, 0.99112415), (1, 0.0007396488), (2, 0.0007396562), (3, 0.0007396483), (4, 0.0007396677), (5, 0.00073964533), (6, 0.00073965744), (7, 0.0007396531), (8, 0.00073964987), (9, 0.00073964737), (10, 0.00073964865), (11, 0.0007396493), (12, 0.0007396533)], [(0, 0.0038462244), (1, 0.0038461722), (2, 0.5717011), (3, 0.0038461816), (4, 0.003846208), (5, 0.0038461587), (6, 0.0038461667), (7, 0.0038461876), (8, 0.38599077), (9, 0.0038461876), (10, 0.0038461643), (11, 0.0038462554), (12, 0.0038462002)], [(0, 0.9908605), (1, 0.0007616229), (2, 0.0007616259), (3, 0.0007616177), (4, 0.00076163176), (5, 0.00076161616), (6, 0.0007616218), (7, 0.0007616226), (8, 0.0007616197), (9, 0.0007616202), (10, 0.00076161645), (11, 0.0007616251), (12, 0.0007616281)], [(0, 0.98486745), (1, 0.0012610452), (2, 0.0012610494), (3, 0.0012610485), (4, 0.0012610498), (5, 0.0012610351), (6, 0.0012610382), (7, 0.0012610421), (8, 0.0012610408), (9, 0.0012610396), (10, 0.0012610371), (11, 0.0012610445), (12, 0.0012610734)], [(0, 0.99927026), (1, 6.0809136e-05), (2, 6.0809565e-05), (3, 6.0809023e-05), (4, 6.080902e-05), (5, 6.080883e-05), (6, 6.0809354e-05), (7, 6.0809467e-05), (8, 6.0809154e-05), (9, 6.0809118e-05), (10, 6.0809023e-05), (11, 6.0809358e-05), (12, 6.080945e-05)], [(0, 0.30757353), (1, 0.000668904), (2, 0.0006689057), (3, 0.0006688992), (4, 0.00066890166), (5, 0.0006688972), (6, 0.00066889904), (7, 0.000668906), (8, 0.68506855), (9, 0.0006689017), (10, 0.0006689046), (11, 0.0006689027), (12, 0.00066890323)], [(0, 0.9931624), (1, 0.0005698089), (2, 0.00056980713), (3, 0.00056980207), (4, 0.0005698011), (5, 0.000569801), (6, 0.0005698019), (7, 0.0005698046), (8, 0.00056981045), (9, 0.00056980253), (10, 0.00056980556), (11, 0.00056980504), (12, 0.00056980667)], [(0, 0.00014459273), (1, 0.00014459253), (2, 0.00014459266), (3, 0.00014459252), (4, 0.00014459233), (5, 0.00014459233), (6, 0.00014459246), (7, 0.00014459249), (8, 0.99826485), (9, 0.00014459243), (10, 0.00014459246), (11, 0.00014459292), (12, 0.00014459291)], [(0, 0.20574649), (1, 0.00013687529), (2, 0.00013696596), (3, 0.00013687451), (4, 0.00013687529), (5, 0.0001368742), (6, 0.00013687606), (7, 0.00013687553), (8, 0.79274786), (9, 0.0001368748), (10, 0.00013687459), (11, 0.00013687558), (12, 0.00013687588)], [(0, 0.98520976), (1, 4.408234e-05), (2, 0.013149922), (3, 4.4082266e-05), (4, 4.4082346e-05), (5, 4.408213e-05), (6, 4.4082455e-05), (7, 4.408249e-05), (8, 4.408249e-05), (9, 4.408233e-05), (10, 4.4082273e-05), (11, 0.0011995035), (12, 4.4082608e-05)], [(0, 0.00034807413), (1, 0.00034806968), (2, 0.99582314), (3, 0.00034806927), (4, 0.00034806872), (5, 0.00034806883), (6, 0.00034807067), (7, 0.00034807148), (8, 0.0003480703), (9, 0.0003480694), (10, 0.00034807026), (11, 0.0003480713), (12, 0.0003480709)], [(0, 0.35792482), (1, 0.0003052527), (2, 0.00030525457), (3, 0.00030525282), (4, 0.00030525125), (5, 0.0003052521), (6, 0.00030525378), (7, 0.00030525483), (8, 0.00030525282), (9, 0.6387174), (10, 0.000305252), (11, 0.00030525448), (12, 0.0003052547)], [(0, 0.9679654), (1, 0.0015698724), (2, 0.001569882), (3, 0.0015698632), (4, 0.0015698912), (5, 0.0015698614), (6, 0.0015698653), (7, 0.0015698646), (8, 0.0015698767), (9, 0.0015698731), (10, 0.0015698622), (11, 0.0015698742), (12, 0.014766011)], [(0, 0.9963077), (1, 0.00030769376), (2, 0.00030769565), (3, 0.0003076931), (4, 0.0003076933), (5, 0.0003076928), (6, 0.00030769507), (7, 0.0003076983), (8, 0.00030769568), (9, 0.00030769498), (10, 0.0003076932), (11, 0.00030769443), (12, 0.00030769722)], [(0, 0.998725), (1, 0.000106247986), (2, 0.00010624873), (3, 0.000106247964), (4, 0.00010624825), (5, 0.000106247506), (6, 0.000106247986), (7, 0.00010624888), (8, 0.00010624804), (9, 0.000106250416), (10, 0.00010624774), (11, 0.000106248546), (12, 0.000106248495)], [(0, 0.98190033), (1, 0.0015083011), (2, 0.0015083107), (3, 0.001508302), (4, 0.0015082979), (5, 0.0015083002), (6, 0.001508302), (7, 0.0015082998), (8, 0.0015083114), (9, 0.0015082984), (10, 0.0015082979), (11, 0.0015083046), (12, 0.001508332)], [(0, 2.9028115e-05), (1, 2.9027846e-05), (2, 0.9996517), (3, 2.9027759e-05), (4, 2.9027748e-05), (5, 2.9027662e-05), (6, 2.9027822e-05), (7, 2.902794e-05), (8, 2.9027971e-05), (9, 2.9027826e-05), (10, 2.9027748e-05), (11, 2.902795e-05), (12, 2.9027995e-05)], [(0, 0.96153826), (1, 0.0032051324), (2, 0.0032051678), (3, 0.0032051408), (4, 0.0032051334), (5, 0.003205135), (6, 0.0032051424), (7, 0.0032051418), (8, 0.0032051452), (9, 0.0032051615), (10, 0.003205148), (11, 0.0032051415), (12, 0.00320518)], [(0, 0.00019573503), (1, 0.00019573397), (2, 0.00019573547), (3, 0.00019573403), (4, 0.00019573334), (5, 0.00019573321), (6, 0.00019573435), (7, 0.00019573403), (8, 0.00019573422), (9, 0.00019573358), (10, 0.99765116), (11, 0.0001957351), (12, 0.00019573458)], [(0, 0.98534787), (1, 0.0012210095), (2, 0.0012210249), (3, 0.0012210133), (4, 0.0012210034), (5, 0.0012210063), (6, 0.0012210038), (7, 0.0012210158), (8, 0.0012210103), (9, 0.0012210052), (10, 0.0012210035), (11, 0.0012210109), (12, 0.0012210138)], [(0, 0.9984512), (1, 0.00012906654), (2, 0.00012906705), (3, 0.00012906583), (4, 0.0001290662), (5, 0.00012906593), (6, 0.00012906773), (7, 0.00012906641), (8, 0.00012906619), (9, 0.00012906644), (10, 0.00012906622), (11, 0.00012906652), (12, 0.0001290669)], [(0, 0.9983247), (1, 0.0001396074), (2, 0.00013960878), (3, 0.00013960766), (4, 0.00013961017), (5, 0.00013960706), (6, 0.00013960776), (7, 0.00013960736), (8, 0.00013960725), (9, 0.00013960725), (10, 0.00013960664), (11, 0.00013960805), (12, 0.00013960809)], [(0, 0.00040487133), (1, 0.00040486266), (2, 0.00040486647), (3, 0.9951416), (4, 0.00040485925), (5, 0.00040485902), (6, 0.00040486568), (7, 0.00040486702), (8, 0.0004048632), (9, 0.0004048611), (10, 0.0004048614), (11, 0.0004048639), (12, 0.00040486443)], [(0, 0.0010256643), (1, 0.0010256474), (2, 0.0010256523), (3, 0.0010256441), (4, 0.0010256435), (5, 0.0010256429), (6, 0.0010256433), (7, 0.0010256539), (8, 0.0010256555), (9, 0.0010256473), (10, 0.0010256441), (11, 0.0010256503), (12, 0.98769224)], [(0, 0.9969932), (1, 0.00025056515), (2, 0.00025056698), (3, 0.00025056512), (4, 0.00025056483), (5, 0.00025056416), (6, 0.00025056605), (7, 0.0002505665), (8, 0.0002505649), (9, 0.0002505653), (10, 0.0002505648), (11, 0.00025056608), (12, 0.00025056652)], [(0, 0.997464), (1, 0.00021132987), (2, 0.00021133096), (3, 0.00021132828), (4, 0.00021132959), (5, 0.00021132783), (6, 0.00021132817), (7, 0.00021132921), (8, 0.00021132907), (9, 0.00021132834), (10, 0.00021133035), (11, 0.00021133017), (12, 0.00021133093)], [(0, 0.9720304), (1, 0.00026709697), (2, 0.025031555), (3, 0.00026709514), (4, 0.0002670959), (5, 0.0002670948), (6, 0.00026709653), (7, 0.00026709665), (8, 0.000267096), (9, 0.00026709514), (10, 0.00026709496), (11, 0.00026709627), (12, 0.00026709703)], [(0, 0.0012610505), (1, 0.0012610412), (2, 0.0012610457), (3, 0.0012610402), (4, 0.0012610569), (5, 0.0012610371), (6, 0.001261039), (7, 0.0012610421), (8, 0.0012610409), (9, 0.0012610378), (10, 0.98486745), (11, 0.001261047), (12, 0.0012610441)], [(0, 0.0006105105), (1, 0.00061050424), (2, 0.0006105057), (3, 0.00061050453), (4, 0.0006105044), (5, 0.0006105017), (6, 0.0006105024), (7, 0.0006105073), (8, 0.00061050424), (9, 0.00061050244), (10, 0.00061050255), (11, 0.992674), (12, 0.0006105067)], [(0, 0.001183448), (1, 0.0011834407), (2, 0.0011834445), (3, 0.0011834373), (4, 0.0011834337), (5, 0.0011834324), (6, 0.0011834361), (7, 0.0011834415), (8, 0.9857988), (9, 0.0011834368), (10, 0.001183435), (11, 0.0011834414), (12, 0.0011834458)], [(0, 0.006993222), (1, 0.0069930474), (2, 0.006993331), (3, 0.0069930134), (4, 0.0069930074), (5, 0.006993108), (6, 0.0069930344), (7, 0.006993258), (8, 0.006993008), (9, 0.006993036), (10, 0.0069930684), (11, 0.91608274), (12, 0.0069931764)], [(0, 0.0017094146), (1, 0.001709413), (2, 0.0017094255), (3, 0.0017094044), (4, 0.001709402), (5, 0.0017094054), (6, 0.9794871), (7, 0.0017094098), (8, 0.0017094052), (9, 0.0017094036), (10, 0.0017094028), (11, 0.0017094063), (12, 0.0017094146)], [(0, 0.9930596), (1, 0.00057837623), (2, 0.00057837414), (3, 0.00057837), (4, 0.00057836925), (5, 0.0005783703), (6, 0.00057837105), (7, 0.0005783736), (8, 0.0005783756), (9, 0.00057837093), (10, 0.0005783705), (11, 0.00057837414), (12, 0.000578375)], [(0, 0.0004807736), (1, 0.0004807716), (2, 0.00048077363), (3, 0.00048077208), (4, 0.00048076964), (5, 0.0004807698), (6, 0.00048077057), (7, 0.00048077418), (8, 0.00048077313), (9, 0.0004807709), (10, 0.0004807692), (11, 0.00048077162), (12, 0.99423075)], [(0, 0.00029249003), (1, 0.00029248564), (2, 0.9964901), (3, 0.00029248433), (4, 0.00029248395), (5, 0.00029248375), (6, 0.00029248677), (7, 0.00029248526), (8, 0.0002924865), (9, 0.0002924851), (10, 0.00029248468), (11, 0.000292486), (12, 0.00029248738)], [(0, 0.00097372243), (1, 0.00097371486), (2, 0.0009737247), (3, 0.98831534), (4, 0.00097371393), (5, 0.00097371166), (6, 0.0009737126), (7, 0.00097371684), (8, 0.00097371574), (9, 0.0009737384), (10, 0.0009737145), (11, 0.00097371667), (12, 0.00097371824)], [(0, 6.637072e-05), (1, 6.63704e-05), (2, 6.637054e-05), (3, 6.63703e-05), (4, 6.637023e-05), (5, 6.637024e-05), (6, 0.99920356), (7, 6.6370376e-05), (8, 6.6370485e-05), (9, 6.637028e-05), (10, 6.637038e-05), (11, 6.637044e-05), (12, 6.637053e-05)], [(0, 0.9933109), (1, 0.0005574574), (2, 0.0005574193), (3, 0.0005574149), (4, 0.0005574141), (5, 0.00055741385), (6, 0.0005574231), (7, 0.00055742054), (8, 0.0005574173), (9, 0.0005574184), (10, 0.0005574173), (11, 0.00055741833), (12, 0.00055741856)], [(0, 6.519024e-05), (1, 6.51897e-05), (2, 6.519037e-05), (3, 6.518947e-05), (4, 6.518981e-05), (5, 6.518936e-05), (6, 6.5189684e-05), (7, 6.518986e-05), (8, 6.518966e-05), (9, 6.518982e-05), (10, 6.518941e-05), (11, 6.518995e-05), (12, 0.9992177)], [(0, 0.00017132399), (1, 0.00017132227), (2, 0.0001713242), (3, 0.00017132192), (4, 0.00017132182), (5, 0.00017132182), (6, 0.00017132296), (7, 0.00017132319), (8, 0.04963257), (9, 0.00017132235), (10, 0.0001713221), (11, 0.00017132329), (12, 0.9484829)], [(0, 0.0026525864), (1, 0.0026525406), (2, 0.0026525378), (3, 0.0026525266), (4, 0.0026525436), (5, 0.0026525222), (6, 0.002652524), (7, 0.0026525713), (8, 0.0026525687), (9, 0.0026525226), (10, 0.96816945), (11, 0.0026525378), (12, 0.002652543)], [(0, 0.000110365014), (1, 0.000110363784), (2, 0.00011036522), (3, 0.00011036365), (4, 0.00011036405), (5, 0.00011036331), (6, 0.00011036379), (7, 0.00011036436), (8, 0.00011036404), (9, 0.0001103642), (10, 0.00011036351), (11, 0.00011036408), (12, 0.99867564)], [(0, 0.99826485), (1, 0.00014459333), (2, 0.00014459471), (3, 0.00014459297), (4, 0.00014459308), (5, 0.00014459265), (6, 0.00014459381), (7, 0.00014459362), (8, 0.00014459343), (9, 0.00014459304), (10, 0.00014459346), (11, 0.00014459381), (12, 0.00014459401)], [(0, 0.0013986221), (1, 0.001398615), (2, 0.0013986337), (3, 0.0013986187), (4, 0.001398603), (5, 0.0013986059), (6, 0.0013986065), (7, 0.0013986147), (8, 0.001398613), (9, 0.0013986124), (10, 0.0013986054), (11, 0.0013986113), (12, 0.98321664)], [(0, 0.00044985922), (1, 0.00044984772), (2, 0.00044985086), (3, 0.00044984525), (4, 0.0004498465), (5, 0.00044984402), (6, 0.00044984746), (7, 0.00044984728), (8, 0.00044984705), (9, 0.00044984525), (10, 0.00044984545), (11, 0.00044984833), (12, 0.99460185)], [(0, 0.22321425), (1, 0.77545947), (2, 0.00012057138), (3, 0.00012056981), (4, 0.000120570105), (5, 0.00012056937), (6, 0.00012057053), (7, 0.00012057053), (8, 0.0001205702), (9, 0.000120569835), (10, 0.00012056963), (11, 0.00012057102), (12, 0.000120570774)], [(0, 0.0009496799), (1, 0.98860395), (2, 0.0009496848), (3, 0.00094967114), (4, 0.00094966794), (5, 0.0009496683), (6, 0.0009496707), (7, 0.0009496737), (8, 0.00094967557), (9, 0.00094967196), (10, 0.0009496715), (11, 0.0009496743), (12, 0.0009496776)], [(0, 0.9374032), (1, 0.00075415743), (2, 0.00075416063), (3, 0.00075415004), (4, 0.054300997), (5, 0.0007541486), (6, 0.0007541623), (7, 0.000754152), (8, 0.0007541525), (9, 0.00075415306), (10, 0.0007542067), (11, 0.0007541565), (12, 0.00075416354)], [(0, 0.17967099), (1, 6.119637e-05), (2, 6.119685e-05), (3, 6.119611e-05), (4, 6.1196e-05), (5, 6.119591e-05), (6, 6.119613e-05), (7, 6.119667e-05), (8, 6.119672e-05), (9, 0.8196559), (10, 6.1196115e-05), (11, 6.119648e-05), (12, 6.119662e-05)], [(0, 0.00052329537), (1, 0.00052328873), (2, 0.99372053), (3, 0.00052328815), (4, 0.0005232865), (5, 0.0005232974), (6, 0.0005232898), (7, 0.0005232903), (8, 0.0005232905), (9, 0.0005232897), (10, 0.00052328745), (11, 0.00052329036), (12, 0.0005232926)], [(0, 0.00034037136), (1, 0.00034036962), (2, 0.0003403696), (3, 0.0003403679), (4, 0.00034036802), (5, 0.00034036793), (6, 0.9959156), (7, 0.00034036924), (8, 0.00034036988), (9, 0.00034036825), (10, 0.0003403713), (11, 0.00034036924), (12, 0.0003403701)], [(0, 0.55467635), (1, 8.2008475e-05), (2, 0.04801736), (3, 8.200829e-05), (4, 8.200813e-05), (5, 8.200777e-05), (6, 8.200826e-05), (7, 0.3856692), (8, 8.2008504e-05), (9, 8.2008184e-05), (10, 8.200787e-05), (11, 0.010898952), (12, 8.200879e-05)], [(0, 0.98461527), (1, 0.0012820617), (2, 0.0012820726), (3, 0.0012820634), (4, 0.0012820514), (5, 0.0012820547), (6, 0.0012820556), (7, 0.0012820619), (8, 0.001282061), (9, 0.0012820567), (10, 0.0012820546), (11, 0.001282058), (12, 0.001282063)], [(0, 0.025641026), (1, 0.025641026), (2, 0.025641026), (3, 0.025641026), (4, 0.025641026), (5, 0.025641026), (6, 0.025641026), (7, 0.025641026), (8, 0.025641026), (9, 0.025641026), (10, 0.025641026), (11, 0.6923077), (12, 0.025641026)], [(0, 0.9968387), (1, 0.0002634367), (2, 0.0002634379), (3, 0.00026343693), (4, 0.00026343815), (5, 0.00026343556), (6, 0.00026343635), (7, 0.0002634377), (8, 0.0002634377), (9, 0.00026343646), (10, 0.00026343626), (11, 0.00026343702), (12, 0.0002634372)], [(0, 0.00028385394), (1, 0.00028385117), (2, 0.9965937), (3, 0.00028385068), (4, 0.00028385437), (5, 0.0002838495), (6, 0.0002838514), (7, 0.00028385172), (8, 0.00028385056), (9, 0.00028385), (10, 0.00028385068), (11, 0.00028385132), (12, 0.00028385335)], [(0, 0.0019230933), (1, 0.001923084), (2, 0.0019230896), (3, 0.0019230781), (4, 0.0019230826), (5, 0.0019230818), (6, 0.0019230831), (7, 0.0019230843), (8, 0.976923), (9, 0.0019230803), (10, 0.0019230861), (11, 0.0019230843), (12, 0.0019230882)], [(0, 0.0007326131), (1, 0.9912087), (2, 0.0007326126), (3, 0.00073260313), (4, 0.00073260185), (5, 0.00073260214), (6, 0.00073261093), (7, 0.0007326071), (8, 0.0007326071), (9, 0.00073260325), (10, 0.0007326029), (11, 0.00073260575), (12, 0.00073261315)], [(0, 0.00030525515), (1, 0.00030525232), (2, 0.0003052541), (3, 0.0003052509), (4, 0.0003052519), (5, 0.00030525023), (6, 0.00030525262), (7, 0.0003052536), (8, 0.0003052521), (9, 0.00030525084), (10, 0.00030525122), (11, 0.000305254), (12, 0.996337)], [(0, 0.008547046), (1, 0.008547032), (2, 0.008547029), (3, 0.008547015), (4, 0.008547014), (5, 0.008547015), (6, 0.008547029), (7, 0.008547026), (8, 0.0085470425), (9, 0.00854702), (10, 0.8974357), (11, 0.008547033), (12, 0.008547035)], [(0, 0.0005341963), (1, 0.00053419324), (2, 0.9935897), (3, 0.0005341907), (4, 0.0005341897), (5, 0.0005341891), (6, 0.00053419115), (7, 0.00053419266), (8, 0.0005341935), (9, 0.00053419056), (10, 0.0005341902), (11, 0.0005341915), (12, 0.00053419214)], [(0, 0.27590564), (1, 0.00089446123), (2, 0.7142553), (3, 0.0008944594), (4, 0.0008944609), (5, 0.0008944569), (6, 0.0008944594), (7, 0.0008944623), (8, 0.0008944675), (9, 0.0008944771), (10, 0.0008944648), (11, 0.00089446496), (12, 0.00089446496)], [(0, 0.8153839), (1, 0.015384665), (2, 0.015384661), (3, 0.015384627), (4, 0.015384625), (5, 0.0153846275), (6, 0.015384659), (7, 0.01538465), (8, 0.015384686), (9, 0.01538464), (10, 0.015384662), (11, 0.0153846685), (12, 0.015384872)], [(0, 0.0016025993), (1, 0.0016025817), (2, 0.0016025895), (3, 0.0016025729), (4, 0.0016025656), (5, 0.0016025722), (6, 0.0016025708), (7, 0.0016025705), (8, 0.0016025724), (9, 0.0016025726), (10, 0.0016025747), (11, 0.0016025878), (12, 0.9807691)], [(0, 0.0024814308), (1, 0.0024814042), (2, 0.0024814173), (3, 0.002481412), (4, 0.0024813914), (5, 0.0024813914), (6, 0.0024813968), (7, 0.0024814026), (8, 0.0024814068), (9, 0.0024814042), (10, 0.0024813963), (11, 0.002481418), (12, 0.9702231)], [(0, 0.99698335), (1, 0.00025138454), (2, 0.00025138547), (3, 0.00025138326), (4, 0.00025138282), (5, 0.00025138384), (6, 0.00025138402), (7, 0.00025138425), (8, 0.00025138404), (9, 0.0002513843), (10, 0.000251384), (11, 0.00025138402), (12, 0.00025138573)], [(0, 0.0045249886), (1, 0.9457007), (2, 0.0045249886), (3, 0.004524969), (4, 0.0045249267), (5, 0.0045248996), (6, 0.004524905), (7, 0.0045249346), (8, 0.004524945), (9, 0.004524912), (10, 0.004524901), (11, 0.004525015), (12, 0.0045249513)], [(0, 0.9855768), (1, 0.0012019367), (2, 0.0012019423), (3, 0.0012019245), (4, 0.0012019535), (5, 0.0012019244), (6, 0.0012019376), (7, 0.00120193), (8, 0.0012019405), (9, 0.0012019251), (10, 0.0012019357), (11, 0.0012019387), (12, 0.0012019331)], [(0, 0.9917582), (1, 0.00068681454), (2, 0.00068681483), (3, 0.0006868138), (4, 0.00068681344), (5, 0.00068681355), (6, 0.00068681454), (7, 0.00068681425), (8, 0.00068681565), (9, 0.00068681425), (10, 0.0006868198), (11, 0.0006868146), (12, 0.00068681635)], [(0, 0.9993486), (1, 5.4286276e-05), (2, 5.4287888e-05), (3, 5.4286094e-05), (4, 5.4287066e-05), (5, 5.4286083e-05), (6, 5.4286415e-05), (7, 5.4286273e-05), (8, 5.42864e-05), (9, 5.4286164e-05), (10, 5.4286098e-05), (11, 5.4286418e-05), (12, 5.4286524e-05)], [(0, 0.9984666), (1, 0.00012778024), (2, 0.00012778143), (3, 0.00012778022), (4, 0.0001277803), (5, 0.00012777958), (6, 0.00012777973), (7, 0.00012778051), (8, 0.00012778018), (9, 0.00012778003), (10, 0.00012777968), (11, 0.0001277806), (12, 0.0001277807)], [(0, 0.9835164), (1, 0.0013736322), (2, 0.0013736385), (3, 0.00137363), (4, 0.0013736297), (5, 0.0013736304), (6, 0.0013736332), (7, 0.0013736445), (8, 0.0013736342), (9, 0.0013736296), (10, 0.0013736289), (11, 0.0013736364), (12, 0.0013736408)], [(0, 0.9981389), (1, 0.00015508781), (2, 0.00015509286), (3, 0.00015508757), (4, 0.00015508737), (5, 0.0001550872), (6, 0.00015508768), (7, 0.0001550886), (8, 0.00015508795), (9, 0.00015508854), (10, 0.00015508787), (11, 0.00015508926), (12, 0.00015508896)], [(0, 0.0180567), (1, 0.00021791426), (2, 0.00021791628), (3, 0.00021791403), (4, 0.0002179138), (5, 0.0002179129), (6, 0.0002179152), (7, 0.00021791493), (8, 0.00021791483), (9, 0.0002179138), (10, 0.00021791381), (11, 0.9795462), (12, 0.00021791528)], [(0, 0.97832793), (1, 0.00083612965), (2, 0.0008361294), (3, 0.0008361232), (4, 0.00083612173), (5, 0.00083612505), (6, 0.00083612464), (7, 0.0008361286), (8, 0.0008361239), (9, 0.0008361249), (10, 0.01247461), (11, 0.0008361343), (12, 0.0008361286)], [(0, 0.0033445235), (1, 0.003344499), (2, 0.0033445132), (3, 0.0033444967), (4, 0.0033444818), (5, 0.0033444837), (6, 0.0033444846), (7, 0.003344519), (8, 0.0033445044), (9, 0.0033445049), (10, 0.0033444967), (11, 0.0033445044), (12, 0.959866)], [(0, 0.07589713), (1, 0.001303791), (2, 0.0013038049), (3, 0.0013037887), (4, 0.07827511), (5, 0.0013037834), (6, 0.0013037864), (7, 0.0013038028), (8, 0.0013037927), (9, 0.0013037892), (10, 0.0013037866), (11, 0.8327898), (12, 0.001303799)], [(0, 0.98601395), (1, 0.0011655062), (2, 0.0011655113), (3, 0.0011655036), (4, 0.0011655028), (5, 0.0011655039), (6, 0.0011655068), (7, 0.0011655114), (8, 0.0011655153), (9, 0.0011655039), (10, 0.0011655043), (11, 0.0011655055), (12, 0.0011655078)], [(0, 0.00081833976), (1, 0.0008183346), (2, 0.0008183389), (3, 0.0008183349), (4, 0.0008183314), (5, 0.00081833435), (6, 0.00081834017), (7, 0.0008183371), (8, 0.00081834814), (9, 0.0008183334), (10, 0.0008183325), (11, 0.00081833656), (12, 0.99018)], [(0, 0.0038462677), (1, 0.0038461885), (2, 0.003846269), (3, 0.0038461913), (4, 0.9538455), (5, 0.0038461653), (6, 0.0038461827), (7, 0.0038462232), (8, 0.0038461897), (9, 0.0038461979), (10, 0.0038461753), (11, 0.0038462258), (12, 0.0038462605)], [(0, 0.0005872211), (1, 0.0005872056), (2, 0.0005872087), (3, 0.0005872022), (4, 0.00058720395), (5, 0.0005872002), (6, 0.000587202), (7, 0.0005872144), (8, 0.9929535), (9, 0.00058720144), (10, 0.0005872034), (11, 0.00058720645), (12, 0.00058721)], [(0, 0.9785329), (1, 0.0017889168), (2, 0.0017889242), (3, 0.0017889208), (4, 0.0017889121), (5, 0.0017889107), (6, 0.0017889184), (7, 0.0017889302), (8, 0.0017889291), (9, 0.0017889142), (10, 0.0017889121), (11, 0.0017889235), (12, 0.0017889284)], [(0, 0.5836076), (1, 0.00020350234), (2, 0.09100575), (3, 0.0002035016), (4, 0.00020350439), (5, 0.00020350082), (6, 0.00020350351), (7, 0.32335162), (8, 0.00020350351), (9, 0.00020350315), (10, 0.0002035011), (11, 0.0002035034), (12, 0.00020350343)], [(0, 0.96153814), (1, 0.0032051455), (2, 0.0032052128), (3, 0.0032051436), (4, 0.0032051324), (5, 0.0032051597), (6, 0.0032051362), (7, 0.0032051636), (8, 0.0032051427), (9, 0.0032051436), (10, 0.003205131), (11, 0.0032051543), (12, 0.0032051597)], [(0, 0.0007616284), (1, 0.0007616253), (2, 0.0007616272), (3, 0.0007616176), (4, 0.00076162256), (5, 0.9908605), (6, 0.0007616237), (7, 0.00076162553), (8, 0.00076161977), (9, 0.0007616192), (10, 0.0007616175), (11, 0.0007616226), (12, 0.00076162454)], [(0, 0.0010683913), (1, 0.001068389), (2, 0.0010683916), (3, 0.0010683817), (4, 0.0010683765), (5, 0.0010683797), (6, 0.0010683952), (7, 0.0010683853), (8, 0.0010683814), (9, 0.0010683895), (10, 0.0010684077), (11, 0.0010683895), (12, 0.98717934)], [(0, 0.99137306), (1, 0.00071891054), (2, 0.0007189133), (3, 0.0007189129), (4, 0.0007189076), (5, 0.00071890745), (6, 0.00071891065), (7, 0.00071891275), (8, 0.0007189166), (9, 0.0007189078), (10, 0.00071890815), (11, 0.0007189122), (12, 0.0007189164)], [(0, 0.0048077977), (1, 0.004807737), (2, 0.0048077777), (3, 0.004807721), (4, 0.0048076925), (5, 0.0048076925), (6, 0.0048078527), (7, 0.0048077614), (8, 0.7433704), (9, 0.004807721), (10, 0.0048076957), (11, 0.0048077125), (12, 0.20374444)], [(0, 0.99419445), (1, 0.00048379507), (2, 0.00048380854), (3, 0.00048379463), (4, 0.00048379478), (5, 0.000483794), (6, 0.00048379882), (7, 0.0004837999), (8, 0.00048379615), (9, 0.00048379606), (10, 0.0004837951), (11, 0.0004837966), (12, 0.00048379737)], [(0, 0.7179095), (1, 0.0013736477), (2, 0.2472233), (3, 0.0013736308), (4, 0.0013736273), (5, 0.0013736311), (6, 0.0013736489), (7, 0.021130795), (8, 0.0013736434), (9, 0.0013736386), (10, 0.0013736284), (11, 0.0013736461), (12, 0.0013736376)], [(0, 0.010989082), (1, 0.010989049), (2, 0.010989043), (3, 0.01098902), (4, 0.010989018), (5, 0.01098902), (6, 0.010989042), (7, 0.0109890355), (8, 0.010989071), (9, 0.010989028), (10, 0.010989045), (11, 0.010989051), (12, 0.8681315)], [(0, 0.0003663051), (1, 0.00036630244), (2, 0.0003663041), (3, 0.00036630174), (4, 0.00036630154), (5, 0.00036630093), (6, 0.0003663019), (7, 0.00036630261), (8, 0.0003663023), (9, 0.00036630512), (10, 0.00036630212), (11, 0.9956044), (12, 0.00036630395)], [(0, 0.6197141), (1, 0.00020458458), (2, 0.00020458638), (3, 0.00020458364), (4, 0.00020458379), (5, 0.00020458309), (6, 0.00020458414), (7, 0.00020458577), (8, 0.0002045845), (9, 0.00020458523), (10, 0.0002045841), (11, 0.00020458612), (12, 0.3780355)], [(0, 0.99735504), (1, 0.00022041185), (2, 0.00022041249), (3, 0.00022041048), (4, 0.0002204113), (5, 0.0002204104), (6, 0.00022041317), (7, 0.00022041274), (8, 0.00022041221), (9, 0.00022041082), (10, 0.00022041082), (11, 0.00022041176), (12, 0.00022041178)], [(0, 0.0036630956), (1, 0.003663024), (2, 0.00366304), (3, 0.0036630149), (4, 0.003663006), (5, 0.003663008), (6, 0.003663015), (7, 0.0036630293), (8, 0.0036630211), (9, 0.0036630083), (10, 0.0036630104), (11, 0.00366303), (12, 0.9560437)], [(0, 0.0008944682), (1, 0.00089446205), (2, 0.00089446636), (3, 0.9892665), (4, 0.00089445617), (5, 0.0008944567), (6, 0.0008944598), (7, 0.000894463), (8, 0.00089446205), (9, 0.00089445786), (10, 0.0008944584), (11, 0.0008944622), (12, 0.00089446275)], [(0, 0.0007189296), (1, 0.00071891205), (2, 0.0007189203), (3, 0.0007189143), (4, 0.0007189134), (5, 0.000718908), (6, 0.00071891857), (7, 0.00071892113), (8, 0.00071891776), (9, 0.0007189121), (10, 0.0007189093), (11, 0.991373), (12, 0.00071891927)], [(0, 0.0011148454), (1, 0.0011148367), (2, 0.0011148436), (3, 0.0011148312), (4, 0.0011148313), (5, 0.0011148375), (6, 0.0011148312), (7, 0.0011148372), (8, 0.9866219), (9, 0.0011148324), (10, 0.0011148297), (11, 0.0011148407), (12, 0.00111484)], [(0, 0.001972409), (1, 0.0019723931), (2, 0.9763312), (3, 0.0019723952), (4, 0.0019723875), (5, 0.0019723875), (6, 0.0019723964), (7, 0.0019724618), (8, 0.001972403), (9, 0.0019723894), (10, 0.0019723915), (11, 0.0019724013), (12, 0.0019724001)], [(0, 0.9938461), (1, 0.0005128225), (2, 0.0005128241), (3, 0.00051282224), (4, 0.0005128208), (5, 0.00051282125), (6, 0.00051282294), (7, 0.00051282527), (8, 0.0005128231), (9, 0.0005128225), (10, 0.0005128221), (11, 0.0005128243), (12, 0.0005128258)], [(0, 0.00050943176), (1, 0.00050942914), (2, 0.0005094337), (3, 0.0005094265), (4, 0.0005094306), (5, 0.00050942536), (6, 0.0005094266), (7, 0.0005094276), (8, 0.0005094295), (9, 0.0005094265), (10, 0.0005094268), (11, 0.00050942914), (12, 0.9938869)], [(0, 0.19680499), (1, 0.0006807426), (2, 0.1870697), (3, 0.00068073825), (4, 0.0006807382), (5, 0.00068073714), (6, 0.6093179), (7, 0.000680742), (8, 0.0006807417), (9, 0.0006807386), (10, 0.00068073603), (11, 0.00068074255), (12, 0.00068074395)], [(0, 0.95986605), (1, 0.003344491), (2, 0.0033445044), (3, 0.0033444837), (4, 0.0033444841), (5, 0.0033444825), (6, 0.0033444858), (7, 0.0033445037), (8, 0.0033445172), (9, 0.0033444948), (10, 0.0033444886), (11, 0.0033444967), (12, 0.0033444983)], [(0, 0.00062036223), (1, 0.0006203525), (2, 0.99255574), (3, 0.00062035146), (4, 0.00062034925), (5, 0.00062034844), (6, 0.0006203509), (7, 0.0006203537), (8, 0.000620352), (9, 0.0006203504), (10, 0.0006203499), (11, 0.000620355), (12, 0.0006203566)], [(0, 0.9936339), (1, 0.000530507), (2, 0.0005305125), (3, 0.0005305094), (4, 0.0005305053), (5, 0.0005305056), (6, 0.0005305065), (7, 0.0005305086), (8, 0.000530515), (9, 0.0005305066), (10, 0.0005305052), (11, 0.0005305079), (12, 0.0005305097)], [(0, 0.9954076), (1, 0.00038270553), (2, 0.0003827073), (3, 0.0003827024), (4, 0.00038270265), (5, 0.00038270227), (6, 0.00038270367), (7, 0.0003827035), (8, 0.00038270457), (9, 0.00038270277), (10, 0.00038270358), (11, 0.00038270405), (12, 0.0003827072)], [(0, 0.22172919), (1, 7.692382e-05), (2, 7.692452e-05), (3, 7.692351e-05), (4, 7.69233e-05), (5, 7.692326e-05), (6, 7.692379e-05), (7, 7.692405e-05), (8, 7.692409e-05), (9, 7.692373e-05), (10, 7.6923665e-05), (11, 0.77742463), (12, 7.6924436e-05)], [(0, 0.0011148446), (1, 0.0011148402), (2, 0.0011148425), (3, 0.001114832), (4, 0.0011148305), (5, 0.0011148319), (6, 0.98662204), (7, 0.0011148426), (8, 0.0011148335), (9, 0.0011148297), (10, 0.0011148308), (11, 0.0011148371), (12, 0.0011148375)], [(0, 0.00080972956), (1, 0.0008097224), (2, 0.0008097275), (3, 0.00080971816), (4, 0.00080971746), (5, 0.0008097172), (6, 0.00080972014), (7, 0.0008097225), (8, 0.00080973236), (9, 0.0008097206), (10, 0.9902833), (11, 0.00080978154), (12, 0.0008097295)], [(0, 0.9960886), (1, 0.00032594762), (2, 0.00032595007), (3, 0.0003259462), (4, 0.00032594608), (5, 0.00032594622), (6, 0.0003259489), (7, 0.0003259484), (8, 0.00032594777), (9, 0.00032594637), (10, 0.00032594678), (11, 0.0003259491), (12, 0.0003259496)], [(0, 0.9851116), (1, 0.0012406975), (2, 0.001240707), (3, 0.0012406966), (4, 0.0012406985), (5, 0.0012406997), (6, 0.0012406975), (7, 0.0012407016), (8, 0.0012407008), (9, 0.0012407004), (10, 0.0012407092), (11, 0.0012407029), (12, 0.0012407076)], [(0, 0.0010537785), (1, 0.00105375), (2, 0.0010537553), (3, 0.0010537433), (4, 0.0010537427), (5, 0.0010537425), (6, 0.0010537559), (7, 0.98735493), (8, 0.0010537553), (9, 0.0010537434), (10, 0.0010537467), (11, 0.0010537541), (12, 0.0010537524)], [(0, 0.99349946), (1, 0.0005417425), (2, 0.0005417192), (3, 0.000541715), (4, 0.0005417149), (5, 0.0005417125), (6, 0.0005417184), (7, 0.000541715), (8, 0.000541717), (9, 0.0005417153), (10, 0.00054171454), (11, 0.00054171664), (12, 0.000541716)], [(0, 0.00045249716), (1, 0.00045249105), (2, 0.0004524947), (3, 0.00045248977), (4, 0.0004524896), (5, 0.00045248942), (6, 0.00045249096), (7, 0.0004524954), (8, 0.00045249454), (9, 0.0004524905), (10, 0.00045249003), (11, 0.99457014), (12, 0.00045249503)], [(0, 0.9670326), (1, 0.002747269), (2, 0.0027473327), (3, 0.002747295), (4, 0.0027472584), (5, 0.0027472551), (6, 0.0027472742), (7, 0.0027472787), (8, 0.0027472826), (9, 0.002747267), (10, 0.0027472684), (11, 0.0027472808), (12, 0.0027472973)], [(0, 0.9868131), (1, 0.0010989266), (2, 0.0010989113), (3, 0.001098902), (4, 0.0010989043), (5, 0.0010989036), (6, 0.001098908), (7, 0.0010989053), (8, 0.0010989073), (9, 0.0010989042), (10, 0.001098907), (11, 0.0010989094), (12, 0.0010989084)], [(0, 0.0020243034), (1, 0.0020243095), (2, 0.0020242983), (3, 0.0020242936), (4, 0.0020242918), (5, 0.002024292), (6, 0.0020242934), (7, 0.0020242971), (8, 0.002024296), (9, 0.0020242953), (10, 0.9757084), (11, 0.0020242985), (12, 0.002024323)], [(0, 0.99509), (1, 0.0004091687), (2, 0.00040917165), (3, 0.00040916627), (4, 0.00040916976), (5, 0.0004091662), (6, 0.00040916697), (7, 0.0004091679), (8, 0.0004091677), (9, 0.00040916714), (10, 0.00040916746), (11, 0.0004091696), (12, 0.0004091687)], [(0, 0.0096155275), (1, 0.009615407), (2, 0.00961545), (3, 0.009615385), (4, 0.009615385), (5, 0.009615385), (6, 0.009615385), (7, 0.009615429), (8, 0.009615561), (9, 0.009615385), (10, 0.009615475), (11, 0.009615495), (12, 0.88461477)], [(0, 0.0020790272), (1, 0.4813939), (2, 0.49573693), (3, 0.0020790095), (4, 0.0020790084), (5, 0.0020790147), (6, 0.0020790105), (7, 0.0020790305), (8, 0.0020790077), (9, 0.0020790077), (10, 0.002079009), (11, 0.0020790205), (12, 0.0020790165)], [(0, 0.0009990286), (1, 0.000999005), (2, 0.0009990087), (3, 0.0009990042), (4, 0.0009990018), (5, 0.0009990016), (6, 0.0009990033), (7, 0.000999012), (8, 0.0009990085), (9, 0.0009990026), (10, 0.0009990071), (11, 0.0009990068), (12, 0.98801196)], [(0, 0.9799327), (1, 0.0016722608), (2, 0.0016722671), (3, 0.0016722464), (4, 0.0016722464), (5, 0.0016722442), (6, 0.0016722615), (7, 0.0016722572), (8, 0.0016722546), (9, 0.0016722601), (10, 0.001672366), (11, 0.0016723543), (12, 0.0016722637)], [(0, 0.995562), (1, 0.00036982697), (2, 0.00036982755), (3, 0.00036982464), (4, 0.00036982785), (5, 0.00036982392), (6, 0.00036982525), (7, 0.00036982502), (8, 0.00036982694), (9, 0.00036982432), (10, 0.00036982348), (11, 0.0003698427), (12, 0.00036982656)], [(0, 0.43953758), (1, 0.00017972884), (2, 0.00017973044), (3, 0.00017972777), (4, 0.00017972778), (5, 0.00017972774), (6, 0.00017972881), (7, 0.00017972893), (8, 0.00017972964), (9, 0.00017972771), (10, 0.00017972806), (11, 0.00017972919), (12, 0.5584854)], [(0, 0.0064103035), (1, 0.006410265), (2, 0.00641031), (3, 0.0064102686), (4, 0.9230764), (5, 0.006410256), (6, 0.0064102635), (7, 0.006410326), (8, 0.0064102593), (9, 0.006410278), (10, 0.006410268), (11, 0.006410287), (12, 0.006410481)], [(0, 0.0036631036), (1, 0.0036630216), (2, 0.0036630752), (3, 0.0036630468), (4, 0.0036630149), (5, 0.0036630116), (6, 0.0036630111), (7, 0.0036630312), (8, 0.95604354), (9, 0.0036630556), (10, 0.0036630179), (11, 0.0036630388), (12, 0.0036630556)], [(0, 0.98874295), (1, 0.0009380909), (2, 0.00093809736), (3, 0.00093808863), (4, 0.00093808904), (5, 0.0009380872), (6, 0.00093808735), (7, 0.0009380956), (8, 0.0009380926), (9, 0.000938088), (10, 0.00093808904), (11, 0.0009380958), (12, 0.00093810505)], [(0, 0.0026525299), (1, 0.0026525226), (2, 0.0026525257), (3, 0.0026525243), (4, 0.0026525203), (5, 0.0026525203), (6, 0.0026525222), (7, 0.9681697), (8, 0.0026525233), (9, 0.0026525217), (10, 0.0026525224), (11, 0.0026525245), (12, 0.0026525245)], [(0, 0.9230768), (1, 0.0064102705), (2, 0.006410269), (3, 0.0064102598), (4, 0.0064102593), (5, 0.0064102598), (6, 0.006410269), (7, 0.006410266), (8, 0.0064102765), (9, 0.0064102635), (10, 0.0064102695), (11, 0.006410271), (12, 0.0064102723)], [(0, 0.00068682217), (1, 0.0006868171), (2, 0.000686822), (3, 0.9917582), (4, 0.0006868145), (5, 0.00068681437), (6, 0.00068681606), (7, 0.0006868185), (8, 0.0006868182), (9, 0.00068681565), (10, 0.0006868154), (11, 0.0006868209), (12, 0.00068682234)], [(0, 0.0040486166), (1, 0.004048594), (2, 0.004048593), (3, 0.004048585), (4, 0.0040485826), (5, 0.0040485826), (6, 0.0040485826), (7, 0.004048626), (8, 0.0040486176), (9, 0.0040485915), (10, 0.004048584), (11, 0.95141685), (12, 0.0040485905)], [(0, 0.002652541), (1, 0.0026525261), (2, 0.0026526437), (3, 0.0026525245), (4, 0.0026525198), (5, 0.0026525266), (6, 0.0026525198), (7, 0.0026525315), (8, 0.0026525245), (9, 0.0026525268), (10, 0.96816957), (11, 0.00265253), (12, 0.002652535)], [(0, 0.9825832), (1, 0.0014513849), (2, 0.0014513936), (3, 0.0014513808), (4, 0.0014514239), (5, 0.0014513824), (6, 0.001451479), (7, 0.0014513847), (8, 0.001451386), (9, 0.001451386), (10, 0.0014513825), (11, 0.0014514081), (12, 0.0014513921)], [(0, 0.9868131), (1, 0.0010989062), (2, 0.0010989116), (3, 0.0010989059), (4, 0.0010989024), (5, 0.0010989015), (6, 0.0010989065), (7, 0.0010989102), (8, 0.0010989081), (9, 0.0010989042), (10, 0.0010989109), (11, 0.0010989062), (12, 0.0010989157)], [(0, 0.9987179), (1, 0.000106838175), (2, 0.00010683827), (3, 0.000106838175), (4, 0.000106839616), (5, 0.00010683768), (6, 0.00010683816), (7, 0.000106838364), (8, 0.00010683922), (9, 0.0001068429), (10, 0.000106838124), (11, 0.00010683817), (12, 0.00010683839)], [(0, 0.00059630885), (1, 0.00059632136), (2, 0.00059630914), (3, 0.000596305), (4, 0.0005963123), (5, 0.0005963046), (6, 0.00059630437), (7, 0.000596306), (8, 0.00059630745), (9, 0.99284434), (10, 0.0005963051), (11, 0.00059630966), (12, 0.0005963071)], [(0, 0.99211043), (1, 0.0006574678), (2, 0.00065747235), (3, 0.00065746467), (4, 0.0006574724), (5, 0.0006574636), (6, 0.00065746653), (7, 0.00065746665), (8, 0.00065746607), (9, 0.0006574648), (10, 0.000657465), (11, 0.00065747125), (12, 0.0006574684)], [(0, 0.0018315357), (1, 0.0018315329), (2, 0.0018315428), (3, 0.0018315116), (4, 0.0018315061), (5, 0.0018315082), (6, 0.0018315075), (7, 0.9780217), (8, 0.0018315116), (9, 0.0018315745), (10, 0.0018315113), (11, 0.0018315251), (12, 0.0018315356)], [(0, 0.7289517), (1, 0.0014793084), (2, 0.0014793088), (3, 0.0014793026), (4, 0.001479331), (5, 0.0014792948), (6, 0.001479293), (7, 0.0014793039), (8, 0.0014793089), (9, 0.0014793065), (10, 0.001479355), (11, 0.25477588), (12, 0.0014793081)], [(0, 0.0021978498), (1, 0.0021978184), (2, 0.0021978416), (3, 0.002197813), (4, 0.97362614), (5, 0.0021978072), (6, 0.0021978107), (7, 0.0021978219), (8, 0.0021978382), (9, 0.002197813), (10, 0.0021978081), (11, 0.0021978286), (12, 0.002197828)], [(0, 0.3307456), (1, 0.00066890114), (2, 0.112729564), (3, 0.0006689025), (4, 0.00066889793), (5, 0.000668897), (6, 0.00066890224), (7, 0.000668904), (8, 0.0006689027), (9, 0.0006688988), (10, 0.00066889817), (11, 0.54983586), (12, 0.0006689042)], [(0, 0.8507815), (1, 0.0018315132), (2, 0.0018315325), (3, 0.0018315075), (4, 0.0018315028), (5, 0.0018315127), (6, 0.12907188), (7, 0.0018315096), (8, 0.0018315156), (9, 0.001831512), (10, 0.0018315059), (11, 0.0018315376), (12, 0.0018315129)], [(0, 0.9970223), (1, 0.00024814092), (2, 0.00024814182), (3, 0.00024813993), (4, 0.00024813943), (5, 0.00024813935), (6, 0.0002481409), (7, 0.00024814147), (8, 0.0002481406), (9, 0.0002481406), (10, 0.00024814054), (11, 0.00024814138), (12, 0.00024814153)], [(0, 0.0009862016), (1, 0.9881656), (2, 0.0009861985), (3, 0.0009861977), (4, 0.0009861953), (5, 0.0009861948), (6, 0.0009861948), (7, 0.0009861962), (8, 0.000986205), (9, 0.0009861948), (10, 0.0009861959), (11, 0.000986198), (12, 0.0009861988)], [(0, 0.00025727382), (1, 0.00025726948), (2, 0.0002572708), (3, 0.00025726864), (4, 0.0002572683), (5, 0.00025726805), (6, 0.00025726965), (7, 0.00025726997), (8, 0.0002572702), (9, 0.0002572715), (10, 0.0002572684), (11, 0.00025727018), (12, 0.9969127)], [(0, 0.0010834406), (1, 0.0010834301), (2, 0.0010834439), (3, 0.0010834279), (4, 0.0010834262), (5, 0.0010834265), (6, 0.0010834271), (7, 0.0010834297), (8, 0.0010834315), (9, 0.0010834291), (10, 0.0010834275), (11, 0.0010834328), (12, 0.98699886)], [(0, 0.0054946425), (1, 0.005494552), (2, 0.9340655), (3, 0.00549451), (4, 0.0054945094), (5, 0.0054945103), (6, 0.0054945215), (7, 0.005494541), (8, 0.0054945317), (9, 0.005494542), (10, 0.0054945336), (11, 0.0054945247), (12, 0.00549454)], [(0, 0.15654086), (1, 0.0006105059), (2, 0.0006105118), (3, 0.00061050494), (4, 0.00061050133), (5, 0.00061050156), (6, 0.8367436), (7, 0.0006105083), (8, 0.0006105054), (9, 0.0006105023), (10, 0.0006105025), (11, 0.0006105059), (12, 0.000610509)], [(0, 0.0006747743), (1, 0.00067477504), (2, 0.00067477423), (3, 0.00067476643), (4, 0.00067477295), (5, 0.0006747647), (6, 0.00067476893), (7, 0.00067477097), (8, 0.00067476986), (9, 0.0006747687), (10, 0.0006747703), (11, 0.9919027), (12, 0.0006747744)], [(0, 0.00038656135), (1, 0.0003865507), (2, 0.00038655306), (3, 0.00038654945), (4, 0.00038654992), (5, 0.9953614), (6, 0.00038655062), (7, 0.00038655204), (8, 0.00038655152), (9, 0.00038654986), (10, 0.00038654995), (11, 0.0003865523), (12, 0.00038655245)], [(0, 0.0008183433), (1, 0.0008183365), (2, 0.9901799), (3, 0.0008183334), (4, 0.00081834116), (5, 0.00081833435), (6, 0.0008183359), (7, 0.00081833586), (8, 0.00081834436), (9, 0.0008183346), (10, 0.00081833615), (11, 0.000818337), (12, 0.00081834587)], [(0, 0.7692297), (1, 0.019230843), (2, 0.019231077), (3, 0.019230925), (4, 0.019230781), (5, 0.01923077), (6, 0.0192308), (7, 0.01923095), (8, 0.01923083), (9, 0.019230787), (10, 0.019230796), (11, 0.019230906), (12, 0.019230867)], [(0, 0.8153841), (1, 0.015384669), (2, 0.015384662), (3, 0.015384627), (4, 0.015384625), (5, 0.0153846275), (6, 0.015384659), (7, 0.01538465), (8, 0.015384731), (9, 0.01538464), (10, 0.015384664), (11, 0.015384677), (12, 0.015384679)], [(0, 0.0021367841), (1, 0.0021367706), (2, 0.9743588), (3, 0.0021367609), (4, 0.002136821), (5, 0.002136757), (6, 0.0021367576), (7, 0.002136774), (8, 0.0021367664), (9, 0.0021367604), (10, 0.0021367585), (11, 0.0021367676), (12, 0.0021367713)], [(0, 0.98224837), (1, 0.0014793009), (2, 0.0014793411), (3, 0.0014792938), (4, 0.0014792933), (5, 0.0014792911), (6, 0.0014792935), (7, 0.0014792952), (8, 0.0014792953), (9, 0.0014793028), (10, 0.0014792928), (11, 0.0014792938), (12, 0.0014793107)], [(0, 0.9774858), (1, 0.0018761836), (2, 0.0018761994), (3, 0.0018761806), (4, 0.0018761761), (5, 0.0018761783), (6, 0.0018761797), (7, 0.0018762266), (8, 0.0018761797), (9, 0.0018761783), (10, 0.0018762012), (11, 0.0018761923), (12, 0.0018761903)], [(0, 0.0001141298), (1, 0.000114129645), (2, 0.00011412977), (3, 0.000114129405), (4, 0.00011412971), (5, 0.00011412934), (6, 0.000114129565), (7, 0.000114129594), (8, 0.00011412958), (9, 0.00011412939), (10, 0.000114129456), (11, 0.00011412958), (12, 0.9986304)], [(0, 0.0029586055), (1, 0.0029586006), (2, 0.0029585978), (3, 0.002958601), (4, 0.0029585804), (5, 0.0029585804), (6, 0.0029585888), (7, 0.002958586), (8, 0.9644969), (9, 0.0029585809), (10, 0.0029585862), (11, 0.0029585934), (12, 0.0029585941)], [(0, 0.96449685), (1, 0.0029585971), (2, 0.0029586095), (3, 0.0029586127), (4, 0.002958587), (5, 0.0029585843), (6, 0.0029585848), (7, 0.002958608), (8, 0.0029585857), (9, 0.002958583), (10, 0.0029585932), (11, 0.0029585937), (12, 0.0029586041)], [(0, 0.00023963732), (1, 0.99712443), (2, 0.00023963732), (3, 0.00023963599), (4, 0.00023963588), (5, 0.0002396359), (6, 0.0002396363), (7, 0.00023963641), (8, 0.00023963692), (9, 0.00023963618), (10, 0.00023963623), (11, 0.00023963678), (12, 0.00023963708)], [(0, 0.0384616), (1, 0.03846154), (2, 0.03846154), (3, 0.03846154), (4, 0.03846154), (5, 0.03846154), (6, 0.03846154), (7, 0.038462203), (8, 0.03846154), (9, 0.5384608), (10, 0.03846154), (11, 0.03846154), (12, 0.03846154)], [(0, 0.0006993123), (1, 0.0006993054), (2, 0.0006993183), (3, 0.0006993032), (4, 0.00069932255), (5, 0.0006993038), (6, 0.0006993221), (7, 0.00069930806), (8, 0.0006993064), (9, 0.0006993033), (10, 0.00069930346), (11, 0.0006993064), (12, 0.99160826)], [(0, 0.0030769757), (1, 0.003076934), (2, 0.0030769734), (3, 0.0030769333), (4, 0.03524493), (5, 0.0030769345), (6, 0.0030769436), (7, 0.0030769513), (8, 0.003076955), (9, 0.0030769352), (10, 0.0030769568), (11, 0.3916029), (12, 0.54238266)], [(0, 0.002564228), (1, 0.0025641173), (2, 0.0025641532), (3, 0.0025641148), (4, 0.002564107), (5, 0.0025641096), (6, 0.0025641075), (7, 0.9692305), (8, 0.002564119), (9, 0.0025641115), (10, 0.0025641092), (11, 0.0025641266), (12, 0.0025641392)], [(0, 0.99854857), (1, 0.00012094917), (2, 0.00012095052), (3, 0.00012094875), (4, 0.00012094867), (5, 0.000120948695), (6, 0.000120949386), (7, 0.00012094935), (8, 0.00012094935), (9, 0.00012094933), (10, 0.00012094859), (11, 0.00012094962), (12, 0.00012094982)], [(0, 0.0064104125), (1, 0.0064103208), (2, 0.0064103412), (3, 0.006410282), (4, 0.9230761), (5, 0.0064102705), (6, 0.0064103203), (7, 0.006410332), (8, 0.0064103487), (9, 0.006410297), (10, 0.006410317), (11, 0.006410326), (12, 0.006410341)], [(0, 0.98662204), (1, 0.0011148312), (2, 0.0011148391), (3, 0.0011148287), (4, 0.0011148297), (5, 0.0011148283), (6, 0.0011148304), (7, 0.0011148378), (8, 0.0011148333), (9, 0.0011148297), (10, 0.0011148378), (11, 0.0011148369), (12, 0.0011148377)], [(0, 0.002197835), (1, 0.0021978226), (2, 0.0021978277), (3, 0.97362614), (4, 0.0021978037), (5, 0.0021978044), (6, 0.002197812), (7, 0.0021978177), (8, 0.0021978214), (9, 0.0021978226), (10, 0.0021978144), (11, 0.0021978226), (12, 0.0021978307)], [(0, 0.0038462249), (1, 0.0038462034), (2, 0.95384586), (3, 0.0038461606), (4, 0.0038461548), (5, 0.0038461622), (6, 0.0038461753), (7, 0.0038461674), (8, 0.003846163), (9, 0.0038461615), (10, 0.0038461715), (11, 0.0038461827), (12, 0.0038461753)], [(0, 0.00074683875), (1, 0.0007468327), (2, 0.99103796), (3, 0.0007468283), (4, 0.00074684183), (5, 0.00074682833), (6, 0.0007468322), (7, 0.00074683), (8, 0.0007468355), (9, 0.0007468281), (10, 0.0007468303), (11, 0.0007468309), (12, 0.0007468341)], [(0, 0.0006689155), (1, 0.00066890154), (2, 0.9919732), (3, 0.00066889863), (4, 0.0006688993), (5, 0.0006688977), (6, 0.00066890195), (7, 0.00066890026), (8, 0.00066890026), (9, 0.0006688985), (10, 0.00066889916), (11, 0.00066890055), (12, 0.00066890096)], [(0, 0.0007692433), (1, 0.0007692358), (2, 0.0007692502), (3, 0.0007692353), (4, 0.0007692354), (5, 0.00076923234), (6, 0.0007692353), (7, 0.000769234), (8, 0.0007692356), (9, 0.00076923764), (10, 0.00076923287), (11, 0.0007692375), (12, 0.9907692)], [(0, 0.945701), (1, 0.004524929), (2, 0.0045249723), (3, 0.0045249066), (4, 0.004524896), (5, 0.0045249197), (6, 0.0045249), (7, 0.0045249066), (8, 0.004524907), (9, 0.004524897), (10, 0.0045249043), (11, 0.004524914), (12, 0.0045249285)], [(0, 0.0003076975), (1, 0.9963077), (2, 0.00030769693), (3, 0.00030769414), (4, 0.00030769376), (5, 0.00030769297), (6, 0.00030769387), (7, 0.000307696), (8, 0.00030769448), (9, 0.00030769437), (10, 0.00030769347), (11, 0.00030769545), (12, 0.00030769597)], [(0, 0.0011481266), (1, 0.0011481132), (2, 0.001148126), (3, 0.0011481186), (4, 0.0011481113), (5, 0.0011481094), (6, 0.0011481103), (7, 0.0011481196), (8, 0.98622257), (9, 0.0011481171), (10, 0.0011481084), (11, 0.0011481147), (12, 0.0011481225)], [(0, 0.0028491048), (1, 0.002849041), (2, 0.0028490582), (3, 0.96581155), (4, 0.0028490035), (5, 0.002849006), (6, 0.0028490152), (7, 0.0028490268), (8, 0.002849095), (9, 0.00284903), (10, 0.002849009), (11, 0.0028490303), (12, 0.002849042)], [(0, 0.0025641087), (1, 0.002564107), (2, 0.0025641078), (3, 0.0025641024), (4, 0.9692307), (5, 0.0025641024), (6, 0.0025641082), (7, 0.0025641078), (8, 0.002564105), (9, 0.0025641036), (10, 0.0025641024), (11, 0.0025641052), (12, 0.0025641082)], [(0, 0.00012000716), (1, 0.00012000545), (2, 0.00012000619), (3, 0.00012000512), (4, 0.00012000599), (5, 0.000120004945), (6, 0.000120005454), (7, 0.0001200058), (8, 0.00012000557), (9, 0.00012000533), (10, 0.00012000531), (11, 0.000120005716), (12, 0.9985599)], [(0, 0.979933), (1, 0.0016722442), (2, 0.0016722541), (3, 0.0016722489), (4, 0.0016722415), (5, 0.001672245), (6, 0.0016722518), (7, 0.001672248), (8, 0.0016722464), (9, 0.0016722443), (10, 0.0016722423), (11, 0.0016722437), (12, 0.0016722472)], [(0, 0.00854706), (1, 0.008547025), (2, 0.008547035), (3, 0.008547022), (4, 0.008547013), (5, 0.008547013), (6, 0.008547273), (7, 0.00854702), (8, 0.8974355), (9, 0.008547016), (10, 0.008547024), (11, 0.008547026), (12, 0.008547027)], [(0, 0.9941205), (1, 0.00048995967), (2, 0.0004899624), (3, 0.0004899574), (4, 0.00048995786), (5, 0.00048995734), (6, 0.00048996694), (7, 0.00048995984), (8, 0.0004899601), (9, 0.0004899588), (10, 0.00048995804), (11, 0.00048996013), (12, 0.0004899609)], [(0, 0.0015699066), (1, 0.0015698704), (2, 0.0015698833), (3, 0.0015698671), (4, 0.0015698615), (5, 0.0015698615), (6, 0.0015698677), (7, 0.0015698825), (8, 0.0015698752), (9, 0.0015698774), (10, 0.9811615), (11, 0.0015698714), (12, 0.0015698838)], [(0, 0.00048380223), (1, 0.00048379684), (2, 0.99419445), (3, 0.00048379463), (4, 0.00048379376), (5, 0.000483794), (6, 0.0004837964), (7, 0.0004837981), (8, 0.0004837974), (9, 0.0004837966), (10, 0.0004837947), (11, 0.00048380136), (12, 0.00048379647)], [(0, 0.004273596), (1, 0.0042735236), (2, 0.45862046), (3, 0.0042735315), (4, 0.004273504), (5, 0.004273504), (6, 0.49437034), (7, 0.0042737117), (8, 0.0042735455), (9, 0.004273511), (10, 0.0042735417), (11, 0.0042735822), (12, 0.004273608)], [(0, 0.0017889263), (1, 0.0017889144), (2, 0.0017889494), (3, 0.0017889139), (4, 0.0017889087), (5, 0.0017889113), (6, 0.0017889106), (7, 0.0017889151), (8, 0.0017889137), (9, 0.0017889148), (10, 0.0017889118), (11, 0.0017889196), (12, 0.978533)], [(0, 0.0038462009), (1, 0.0038461885), (2, 0.95384586), (3, 0.0038461566), (4, 0.0038461562), (5, 0.0038461569), (6, 0.0038461653), (7, 0.003846196), (8, 0.0038462584), (9, 0.00384616), (10, 0.003846166), (11, 0.0038461678), (12, 0.0038461857)], [(0, 0.019230936), (1, 0.019230843), (2, 0.55553055), (3, 0.01923077), (4, 0.01923077), (5, 0.01923077), (6, 0.01923084), (7, 0.019230822), (8, 0.01923077), (9, 0.01923077), (10, 0.01923077), (11, 0.019230818), (12, 0.2329306)], [(0, 0.93406576), (1, 0.005494523), (2, 0.005494528), (3, 0.0054945205), (4, 0.0054945075), (5, 0.005494508), (6, 0.005494514), (7, 0.005494515), (8, 0.005494555), (9, 0.0054945103), (10, 0.0054945196), (11, 0.005494551), (12, 0.00549453)], [(0, 0.0022624796), (1, 0.0022624636), (2, 0.0022624715), (3, 0.0022624591), (4, 0.97285044), (5, 0.0022624503), (6, 0.0022624591), (7, 0.002262459), (8, 0.0022624687), (9, 0.0022624554), (10, 0.0022624664), (11, 0.0022624657), (12, 0.0022624712)], [(0, 0.009615432), (1, 0.8846151), (2, 0.009615411), (3, 0.0096153915), (4, 0.009615391), (5, 0.009615392), (6, 0.00961541), (7, 0.0096154045), (8, 0.009615425), (9, 0.009615399), (10, 0.009615411), (11, 0.009615415), (12, 0.009615416)], [(0, 0.0028490357), (1, 0.0028490105), (2, 0.5829464), (3, 0.0028490059), (4, 0.0028490033), (5, 0.0028490052), (6, 0.0028490087), (7, 0.0028490182), (8, 0.38571435), (9, 0.0028490152), (10, 0.0028490066), (11, 0.0028490424), (12, 0.0028490336)], [(0, 0.08413405), (1, 0.7136848), (2, 0.19990532), (3, 0.00022758459), (4, 0.00022758446), (5, 0.00022758367), (6, 0.00022758676), (7, 0.00022758727), (8, 0.00022758548), (9, 0.00022758545), (10, 0.00022758471), (11, 0.00022758708), (12, 0.00022758642)], [(0, 0.005128266), (1, 0.0051282365), (2, 0.005128328), (3, 0.0051282058), (4, 0.0051282058), (5, 0.0051282058), (6, 0.0051282174), (7, 0.005128327), (8, 0.0051282165), (9, 0.005128209), (10, 0.0051282058), (11, 0.005128268), (12, 0.9384611)], [(0, 0.0018762009), (1, 0.0018761848), (2, 0.0018761922), (3, 0.0018761794), (4, 0.0018761758), (5, 0.0018761752), (6, 0.9774858), (7, 0.0018761932), (8, 0.0018761816), (9, 0.0018761756), (10, 0.0018761822), (11, 0.001876203), (12, 0.0018761952)], [(0, 0.0032051844), (1, 0.96153814), (2, 0.0032051755), (3, 0.0032051464), (4, 0.0032051418), (5, 0.0032051401), (6, 0.0032051443), (7, 0.0032051653), (8, 0.003205149), (9, 0.0032051476), (10, 0.0032051406), (11, 0.0032051725), (12, 0.003205164)], [(0, 0.0008097255), (1, 0.99028337), (2, 0.0008097248), (3, 0.0008097183), (4, 0.0008097177), (5, 0.0008097177), (6, 0.00080972165), (7, 0.00080972136), (8, 0.0008097209), (9, 0.00080972177), (10, 0.00080972567), (11, 0.0008097208), (12, 0.00080972177)], [(0, 0.83439815), (1, 0.005128238), (2, 0.005128242), (3, 0.005128211), (4, 0.005128263), (5, 0.0051282104), (6, 0.00512822), (7, 0.0051282267), (8, 0.005128232), (9, 0.0051282104), (10, 0.005128215), (11, 0.10919138), (12, 0.005128243)], [(0, 0.0015384832), (1, 0.0015384692), (2, 0.0015384805), (3, 0.0015384665), (4, 0.0015384625), (5, 0.0015384643), (6, 0.001538468), (7, 0.0015384681), (8, 0.0015384682), (9, 0.0015384788), (10, 0.9815383), (11, 0.0015384664), (12, 0.0015384706)], [(0, 0.0012610495), (1, 0.0012610455), (2, 0.001261055), (3, 0.0012610367), (4, 0.001261035), (5, 0.0012610353), (6, 0.0012610416), (7, 0.98486745), (8, 0.0012610421), (9, 0.0012610394), (10, 0.0012610384), (11, 0.0012610413), (12, 0.001261047)], [(0, 0.0013736541), (1, 0.98351634), (2, 0.0013736456), (3, 0.0013736319), (4, 0.0013736277), (5, 0.0013736279), (6, 0.0013736327), (7, 0.0013736355), (8, 0.0013736328), (9, 0.0013736333), (10, 0.0013736298), (11, 0.0013736367), (12, 0.0013736415)], [(0, 0.012820733), (1, 0.012820549), (2, 0.012820705), (3, 0.84615296), (4, 0.012820523), (5, 0.012820513), (6, 0.012820569), (7, 0.012820567), (8, 0.0128206415), (9, 0.012820558), (10, 0.012820513), (11, 0.012820624), (12, 0.01282056)], [(0, 0.0022624636), (1, 0.0022624487), (2, 0.07170142), (3, 0.0022624447), (4, 0.0022624538), (5, 0.0022624452), (6, 0.0022624577), (7, 0.6763443), (8, 0.1039439), (9, 0.0022624498), (10, 0.002262448), (11, 0.12764837), (12, 0.0022624584)], [(0, 0.0033445647), (1, 0.0033445093), (2, 0.0033445884), (3, 0.0033445011), (4, 0.0033444841), (5, 0.003344487), (6, 0.0033445007), (7, 0.0033445165), (8, 0.0033445116), (9, 0.95986575), (10, 0.0033445037), (11, 0.003344523), (12, 0.00334454)], [(0, 0.9924953), (1, 0.0006253951), (2, 0.0006253995), (3, 0.0006253954), (4, 0.00062539167), (5, 0.00062539196), (6, 0.00062539306), (7, 0.0006253974), (8, 0.0006253968), (9, 0.00062539935), (10, 0.0006253931), (11, 0.0006253965), (12, 0.0006253979)], [(0, 0.97115356), (1, 0.0024038602), (2, 0.0024038593), (3, 0.0024038507), (4, 0.002403875), (5, 0.0024038488), (6, 0.0024038486), (7, 0.0024038916), (8, 0.002403867), (9, 0.0024038528), (10, 0.002403879), (11, 0.0024039368), (12, 0.002403872)], [(0, 0.0017889427), (1, 0.0017889376), (2, 0.0017889416), (3, 0.001788921), (4, 0.0017889136), (5, 0.0017889142), (6, 0.0017889184), (7, 0.060574725), (8, 0.001788923), (9, 0.0017889206), (10, 0.0017889189), (11, 0.0017889305), (12, 0.9197471)], [(0, 0.9598659), (1, 0.0033445559), (2, 0.003344518), (3, 0.0033444876), (4, 0.003344486), (5, 0.0033444867), (6, 0.0033445298), (7, 0.0033445025), (8, 0.0033444876), (9, 0.0033444893), (10, 0.003344502), (11, 0.0033445095), (12, 0.0033445086)], [(0, 0.0013495437), (1, 0.0013495382), (2, 0.034594923), (3, 0.0013495304), (4, 0.0013495362), (5, 0.0013495283), (6, 0.0013495316), (7, 0.0013495374), (8, 0.001349546), (9, 0.001349531), (10, 0.0013495303), (11, 0.9505602), (12, 0.0013495443)], [(0, 0.0010537544), (1, 0.98735505), (2, 0.0010537489), (3, 0.0010537456), (4, 0.0010537414), (5, 0.0010537418), (6, 0.0010537514), (7, 0.0010537518), (8, 0.0010537631), (9, 0.0010537447), (10, 0.0010537463), (11, 0.0010537506), (12, 0.0010537491)], [(0, 0.019230971), (1, 0.019230895), (2, 0.019230884), (3, 0.019230796), (4, 0.019230792), (5, 0.019230798), (6, 0.019230878), (7, 0.0192313), (8, 0.019230949), (9, 0.01923083), (10, 0.019230887), (11, 0.0192309), (12, 0.7692291)], [(0, 0.0040486376), (1, 0.0040485994), (2, 0.004048617), (3, 0.0040486045), (4, 0.004048591), (5, 0.004048588), (6, 0.9514166), (7, 0.004048686), (8, 0.0040486315), (9, 0.0040485915), (10, 0.0040485924), (11, 0.0040485985), (12, 0.0040486185)], [(0, 0.0021367827), (1, 0.0021367641), (2, 0.9743588), (3, 0.0021367557), (4, 0.0021367564), (5, 0.002136755), (6, 0.0021367606), (7, 0.0021367616), (8, 0.0021367809), (9, 0.0021367571), (10, 0.002136768), (11, 0.0021367657), (12, 0.002136818)], [(0, 0.0016025825), (1, 0.001602573), (2, 0.0016025776), (3, 0.0016025649), (4, 0.0016025918), (5, 0.0016025672), (6, 0.0016025705), (7, 0.0016025692), (8, 0.001602572), (9, 0.0016025695), (10, 0.9807691), (11, 0.0016025729), (12, 0.0016025751)], [(0, 0.0034965605), (1, 0.003496518), (2, 0.0034966446), (3, 0.0034965118), (4, 0.0034965053), (5, 0.003496518), (6, 0.0034965102), (7, 0.0034965437), (8, 0.0034965263), (9, 0.9580416), (10, 0.0034965074), (11, 0.003496521), (12, 0.003496535)], [(0, 0.006993109), (1, 0.006993042), (2, 0.006993114), (3, 0.006993008), (4, 0.006993115), (5, 0.006993008), (6, 0.00699306), (7, 0.006993038), (8, 0.0069930498), (9, 0.91608334), (10, 0.006993008), (11, 0.0069930824), (12, 0.0069930735)], [(0, 0.001039516), (1, 0.9875258), (2, 0.0010395173), (3, 0.0010395052), (4, 0.0010395027), (5, 0.0010395031), (6, 0.0010395133), (7, 0.00103951), (8, 0.001039515), (9, 0.0010395052), (10, 0.0010395149), (11, 0.001039518), (12, 0.0010395101)], [(0, 0.0016722633), (1, 0.0016722523), (2, 0.0016722707), (3, 0.0016722529), (4, 0.0016722425), (5, 0.0016722431), (6, 0.0016722474), (7, 0.0016722508), (8, 0.0016722506), (9, 0.0016722436), (10, 0.001672246), (11, 0.0016722644), (12, 0.97993296)], [(0, 0.0026525697), (1, 0.002652531), (2, 0.86032623), (3, 0.0026525343), (4, 0.0026525212), (5, 0.002652521), (6, 0.0026525275), (7, 0.002652544), (8, 0.0026525666), (9, 0.11049581), (10, 0.0026525366), (11, 0.0026525557), (12, 0.0026525347)], [(0, 0.0064104185), (1, 0.006410356), (2, 0.0064104195), (3, 0.006410297), (4, 0.92307574), (5, 0.0064102863), (6, 0.006410333), (7, 0.0064103496), (8, 0.006410423), (9, 0.0064103124), (10, 0.006410318), (11, 0.006410361), (12, 0.006410402)], [(0, 0.9864253), (1, 0.0011312311), (2, 0.0011312346), (3, 0.0011312233), (4, 0.0011312246), (5, 0.0011312353), (6, 0.0011312269), (7, 0.001131234), (8, 0.0011312317), (9, 0.0011312321), (10, 0.0011312235), (11, 0.0011312286), (12, 0.0011312419)], [(0, 0.03846203), (1, 0.03846154), (2, 0.538461), (3, 0.03846154), (4, 0.03846154), (5, 0.03846154), (6, 0.03846154), (7, 0.03846154), (8, 0.03846154), (9, 0.03846154), (10, 0.03846154), (11, 0.03846154), (12, 0.03846154)], [(0, 0.0017482723), (1, 0.97902083), (2, 0.0017482791), (3, 0.001748255), (4, 0.0017482522), (5, 0.001748253), (6, 0.0017482572), (7, 0.0017482624), (8, 0.0017482671), (9, 0.0017482615), (10, 0.0017482556), (11, 0.0017482645), (12, 0.0017483075)], [(0, 0.0017889636), (1, 0.0017889171), (2, 0.0017889256), (3, 0.0017889257), (4, 0.001788914), (5, 0.0017889128), (6, 0.0017889232), (7, 0.0017889355), (8, 0.001788915), (9, 0.0017889186), (10, 0.0017889147), (11, 0.0017889218), (12, 0.9785329)], [(0, 0.96581185), (1, 0.002849011), (2, 0.0028490294), (3, 0.002849008), (4, 0.0028490035), (5, 0.002849006), (6, 0.0028490094), (7, 0.002849017), (8, 0.0028490124), (9, 0.0028490159), (10, 0.0028490066), (11, 0.0028490247), (12, 0.0028490433)], [(0, 0.0017889625), (1, 0.0017889177), (2, 0.0017889373), (3, 0.001788926), (4, 0.0017889189), (5, 0.0017889123), (6, 0.0017889228), (7, 0.0017889204), (8, 0.9785329), (9, 0.0017889207), (10, 0.0017889175), (11, 0.0017889249), (12, 0.001788922)], [(0, 0.0024814496), (1, 0.0024814224), (2, 0.13277444), (3, 0.0024814012), (4, 0.0024814464), (5, 0.7187923), (6, 0.0024813996), (7, 0.0024814464), (8, 0.002481412), (9, 0.12361897), (10, 0.0024814247), (11, 0.002481429), (12, 0.0024814266)], [(0, 0.001098916), (1, 0.0010989117), (2, 0.9868131), (3, 0.0010989064), (4, 0.0010989018), (5, 0.0010989017), (6, 0.0010989091), (7, 0.001098913), (8, 0.0010989052), (9, 0.0010989056), (10, 0.0010989046), (11, 0.0010989057), (12, 0.0010989124)], [(0, 0.9822484), (1, 0.0014792918), (2, 0.0014793028), (3, 0.0014792923), (4, 0.0014792942), (5, 0.0014792918), (6, 0.001479294), (7, 0.0014792962), (8, 0.0014793082), (9, 0.0014792961), (10, 0.001479298), (11, 0.0014792958), (12, 0.0014793067)], [(0, 0.9909501), (1, 0.0007541532), (2, 0.00075417367), (3, 0.000754157), (4, 0.0007541509), (5, 0.00075414847), (6, 0.0007541492), (7, 0.0007541575), (8, 0.0007541527), (9, 0.0007541508), (10, 0.0007541525), (11, 0.000754153), (12, 0.00075416063)], [(0, 0.96581185), (1, 0.002849008), (2, 0.0028490296), (3, 0.0028490184), (4, 0.0028490038), (5, 0.0028490084), (6, 0.002849038), (7, 0.0028490194), (8, 0.002849014), (9, 0.0028490066), (10, 0.0028490073), (11, 0.002849014), (12, 0.0028490121)], [(0, 0.001602588), (1, 0.0016025731), (2, 0.0016025915), (3, 0.0016025729), (4, 0.0016025676), (5, 0.0016025656), (6, 0.9807691), (7, 0.0016025761), (8, 0.0016025722), (9, 0.0016025682), (10, 0.0016025719), (11, 0.0016025766), (12, 0.0016025796)], [(0, 0.9838056), (1, 0.001349533), (2, 0.00134954), (3, 0.0013495316), (4, 0.0013495281), (5, 0.0013495316), (6, 0.0013495312), (7, 0.0013495324), (8, 0.0013495333), (9, 0.0013495294), (10, 0.0013495326), (11, 0.0013495339), (12, 0.0013495439)], [(0, 0.0019231165), (1, 0.97692287), (2, 0.001923098), (3, 0.0019230854), (4, 0.0019230854), (5, 0.0019230793), (6, 0.0019230846), (7, 0.0019230883), (8, 0.0019230878), (9, 0.0019231073), (10, 0.0019230867), (11, 0.0019230942), (12, 0.0019230999)], [(0, 0.66595817), (1, 0.0036630237), (2, 0.0036630342), (3, 0.0036630135), (4, 0.0036630055), (5, 0.003663006), (6, 0.003663051), (7, 0.0036630118), (8, 0.003663015), (9, 0.0036630076), (10, 0.0036630135), (11, 0.29374868), (12, 0.0036630293)], [(0, 0.025641838), (1, 0.025641197), (2, 0.025641328), (3, 0.025641171), (4, 0.025641026), (5, 0.025641026), (6, 0.02564122), (7, 0.025641384), (8, 0.025641588), (9, 0.025642397), (10, 0.69230276), (11, 0.02564145), (12, 0.0256416)], [(0, 0.9906759), (1, 0.0007770087), (2, 0.00077701255), (3, 0.00077700213), (4, 0.00077700365), (5, 0.00077700394), (6, 0.00077700644), (7, 0.0007770065), (8, 0.00077700603), (9, 0.0007770016), (10, 0.0007770059), (11, 0.00077700923), (12, 0.0007770069)], [(0, 0.010989079), (1, 0.8681314), (2, 0.010989059), (3, 0.01098902), (4, 0.010989019), (5, 0.010989021), (6, 0.010989044), (7, 0.010989037), (8, 0.010989064), (9, 0.01098903), (10, 0.010989047), (11, 0.010989074), (12, 0.0109890895)], [(0, 0.066572174), (1, 0.00062539714), (2, 0.00062539795), (3, 0.0006253932), (4, 0.0006253949), (5, 0.0006253919), (6, 0.00062539586), (7, 0.059051093), (8, 0.0006254001), (9, 0.00062540855), (10, 0.00062539906), (11, 0.86812276), (12, 0.0006253984)], [(0, 0.53846115), (1, 0.03846154), (2, 0.03846154), (3, 0.03846154), (4, 0.03846154), (5, 0.03846154), (6, 0.03846154), (7, 0.03846154), (8, 0.03846154), (9, 0.03846154), (10, 0.03846154), (11, 0.03846154), (12, 0.038461942)], [(0, 0.93451303), (1, 0.0026525701), (2, 0.0026525557), (3, 0.0026525264), (4, 0.0026525215), (5, 0.0026525208), (6, 0.03630906), (7, 0.0026525382), (8, 0.002652539), (9, 0.0026525285), (10, 0.0026525431), (11, 0.0026525317), (12, 0.0026525515)], [(0, 0.0015083293), (1, 0.0015083101), (2, 0.0015083305), (3, 0.0015083024), (4, 0.0015083009), (5, 0.0015083003), (6, 0.0015083372), (7, 0.001508373), (8, 0.0015083094), (9, 0.0015083046), (10, 0.98190016), (11, 0.0015083305), (12, 0.00150832)], [(0, 0.00202433), (1, 0.0020243258), (2, 0.0020243148), (3, 0.0020243071), (4, 0.0020242918), (5, 0.0020242964), (6, 0.0020243027), (7, 0.0020243116), (8, 0.0020243134), (9, 0.0020243071), (10, 0.0020242948), (11, 0.0020243097), (12, 0.9757083)], [(0, 0.45204523), (1, 0.001636666), (2, 0.0016366764), (3, 0.0016366645), (4, 0.001636662), (5, 0.0016366616), (6, 0.0016366635), (7, 0.0016366672), (8, 0.5299514), (9, 0.0016366679), (10, 0.0016366625), (11, 0.0016366676), (12, 0.0016366654)], [(0, 0.0022624657), (1, 0.0022624629), (2, 0.97285056), (3, 0.0022624484), (4, 0.002262449), (5, 0.0022624445), (6, 0.0022624487), (7, 0.0022624626), (8, 0.0022624526), (9, 0.0022624459), (10, 0.0022624529), (11, 0.0022624596), (12, 0.0022624605)], [(0, 0.0010834446), (1, 0.0010834321), (2, 0.02957847), (3, 0.0010834286), (4, 0.0010834252), (5, 0.001083426), (6, 0.0010834325), (7, 0.0010834335), (8, 0.0010834463), (9, 0.0010834272), (10, 0.0010834296), (11, 0.95850384), (12, 0.0010834398)], [(0, 0.008547044), (1, 0.8974356), (2, 0.008547144), (3, 0.008547009), (4, 0.008547009), (5, 0.008547009), (6, 0.008547009), (7, 0.008547009), (8, 0.008547023), (9, 0.008547009), (10, 0.008547009), (11, 0.008547034), (12, 0.0085470565)], [(0, 0.0012407172), (1, 0.0012407096), (2, 0.0012407312), (3, 0.9851115), (4, 0.0012406958), (5, 0.0012406982), (6, 0.0012407164), (7, 0.0012407019), (8, 0.0012407058), (9, 0.0012406985), (10, 0.0012407119), (11, 0.0012407096), (12, 0.001240709)], [(0, 0.0038461785), (1, 0.0038461648), (2, 0.0038461734), (3, 0.9538461), (4, 0.0038461543), (5, 0.0038461643), (6, 0.0038461604), (7, 0.0038461604), (8, 0.0038461734), (9, 0.003846155), (10, 0.0038461566), (11, 0.003846158), (12, 0.00384617)], [(0, 0.9423073), (1, 0.004807812), (2, 0.0048078573), (3, 0.0048076976), (4, 0.0048076953), (5, 0.0048076934), (6, 0.004807698), (7, 0.0048077097), (8, 0.004807707), (9, 0.0048076943), (10, 0.004807713), (11, 0.0048077153), (12, 0.004807714)], [(0, 0.0023310431), (1, 0.002331014), (2, 0.0023310354), (3, 0.002331006), (4, 0.0023310052), (5, 0.0023310063), (6, 0.002331011), (7, 0.9720278), (8, 0.0023310117), (9, 0.0023310063), (10, 0.0023310066), (11, 0.0023310513), (12, 0.0023310485)], [(0, 0.98380554), (1, 0.0013495355), (2, 0.0013495423), (3, 0.0013495304), (4, 0.0013495382), (5, 0.0013495286), (6, 0.0013495567), (7, 0.0013495412), (8, 0.0013495423), (9, 0.0013495324), (10, 0.0013495306), (11, 0.0013495367), (12, 0.0013495486)], [(0, 0.025641294), (1, 0.025641026), (2, 0.025641426), (3, 0.025641032), (4, 0.025641026), (5, 0.025641026), (6, 0.025641026), (7, 0.69230694), (8, 0.025641026), (9, 0.02564113), (10, 0.025641026), (11, 0.025641026), (12, 0.025641026)], [(0, 0.0032051706), (1, 0.0032051501), (2, 0.96153826), (3, 0.003205139), (4, 0.0032051296), (5, 0.0032051299), (6, 0.0032051418), (7, 0.0032051457), (8, 0.0032051718), (9, 0.0032051373), (10, 0.003205138), (11, 0.0032051424), (12, 0.003205153)], [(0, 0.98258334), (1, 0.0014513861), (2, 0.0014513955), (3, 0.001451395), (4, 0.0014513801), (5, 0.0014513794), (6, 0.0014513825), (7, 0.0014513967), (8, 0.001451384), (9, 0.001451394), (10, 0.0014513851), (11, 0.0014513865), (12, 0.0014513928)], [(0, 0.0010395154), (1, 0.98752594), (2, 0.0010395134), (3, 0.0010395031), (4, 0.0010395036), (5, 0.001039504), (6, 0.0010395047), (7, 0.0010395086), (8, 0.0010395077), (9, 0.0010395033), (10, 0.0010395045), (11, 0.0010395098), (12, 0.0010395108)], [(0, 0.95986605), (1, 0.0033444902), (2, 0.0033445128), (3, 0.0033444948), (4, 0.0033444825), (5, 0.003344486), (6, 0.003344526), (7, 0.003344497), (8, 0.003344495), (9, 0.0033444942), (10, 0.0033444904), (11, 0.003344505), (12, 0.0033444925)], [(0, 0.97094274), (1, 0.0009737145), (2, 0.0009737262), (3, 0.00097371155), (4, 0.01834642), (5, 0.000973715), (6, 0.00097371516), (7, 0.00097371545), (8, 0.00097371574), (9, 0.0009737146), (10, 0.0009737159), (11, 0.0009737156), (12, 0.00097372005)], [(0, 0.9962928), (1, 0.00030892997), (2, 0.00030893032), (3, 0.0003089287), (4, 0.00030892846), (5, 0.00030892837), (6, 0.00030892968), (7, 0.0003089303), (8, 0.00030893032), (9, 0.0003089284), (10, 0.00030892942), (11, 0.0003089294), (12, 0.00030892977)], [(0, 0.93406546), (1, 0.005494518), (2, 0.005494561), (3, 0.0054945075), (4, 0.0054945573), (5, 0.0054945075), (6, 0.005494566), (7, 0.005494528), (8, 0.0054945922), (9, 0.005494524), (10, 0.0054945275), (11, 0.0054945303), (12, 0.005494613)], [(0, 0.0006357393), (1, 0.00063573266), (2, 0.00063573883), (3, 0.0006357309), (4, 0.00063573447), (5, 0.0006357293), (6, 0.0006357316), (7, 0.0006357336), (8, 0.0006357317), (9, 0.0006357304), (10, 0.00063572987), (11, 0.0006357309), (12, 0.9923712)], [(0, 0.0033445468), (1, 0.95986575), (2, 0.0033445295), (3, 0.0033446285), (4, 0.0033444827), (5, 0.0033444993), (6, 0.0033444895), (7, 0.0033445377), (8, 0.0033445202), (9, 0.0033445102), (10, 0.0033444997), (11, 0.0033445037), (12, 0.0033445342)], [(0, 0.001398616), (1, 0.0013986081), (2, 0.0013986155), (3, 0.0013986051), (4, 0.0013986093), (5, 0.0013986053), (6, 0.0013986082), (7, 0.9832167), (8, 0.0013986118), (9, 0.0013986072), (10, 0.001398605), (11, 0.0013986074), (12, 0.0013986106)], [(0, 0.0010121629), (1, 0.0010121524), (2, 0.0010121592), (3, 0.9878541), (4, 0.001012147), (5, 0.0010121485), (6, 0.0010121488), (7, 0.0010121585), (8, 0.0010121822), (9, 0.0010121505), (10, 0.001012147), (11, 0.0010121554), (12, 0.0010121565)], [(0, 0.8865325), (1, 0.0025641243), (2, 0.0025641355), (3, 0.0025641196), (4, 0.0025641078), (5, 0.002564108), (6, 0.0025641343), (7, 0.0025641194), (8, 0.0025641646), (9, 0.08526219), (10, 0.00256411), (11, 0.002564119), (12, 0.002564129)], [(0, 0.0384616), (1, 0.03846154), (2, 0.03846154), (3, 0.03846154), (4, 0.03846154), (5, 0.03846154), (6, 0.03846154), (7, 0.03846154), (8, 0.03846154), (9, 0.5384615), (10, 0.03846154), (11, 0.03846154), (12, 0.03846154)], [(0, 0.012820614), (1, 0.012820533), (2, 0.012820562), (3, 0.012820521), (4, 0.012820514), (5, 0.012820514), (6, 0.012820514), (7, 0.012820529), (8, 0.012820532), (9, 0.8461535), (10, 0.012820531), (11, 0.012820628), (12, 0.01282054)], [(0, 0.003496571), (1, 0.0034965514), (2, 0.0034965368), (3, 0.0034965381), (4, 0.003496505), (5, 0.0034965144), (6, 0.0034965118), (7, 0.9580416), (8, 0.0034965267), (9, 0.0034965193), (10, 0.003496544), (11, 0.0034965388), (12, 0.0034965314)], [(0, 0.1737854), (1, 0.009615388), (2, 0.72044504), (3, 0.009615386), (4, 0.009615407), (5, 0.009615396), (6, 0.009615386), (7, 0.009615551), (8, 0.009615418), (9, 0.009615417), (10, 0.009615386), (11, 0.009615436), (12, 0.009615396)], [(0, 0.8974355), (1, 0.008547035), (2, 0.0085470425), (3, 0.0085470285), (4, 0.008547013), (5, 0.00854705), (6, 0.008547021), (7, 0.008547037), (8, 0.008547071), (9, 0.008547021), (10, 0.008547023), (11, 0.008547154), (12, 0.008547051)], [(0, 0.0009267983), (1, 0.00092680595), (2, 0.0009267975), (3, 0.000926788), (4, 0.00092678773), (5, 0.0009267869), (6, 0.00092679), (7, 0.0009267927), (8, 0.00092679204), (9, 0.0009267891), (10, 0.00092678826), (11, 0.0009267917), (12, 0.9888784)], [(0, 0.98435456), (1, 0.0013037842), (2, 0.0013037894), (3, 0.0013037917), (4, 0.0013037815), (5, 0.0013037818), (6, 0.0013037837), (7, 0.001303788), (8, 0.0013037941), (9, 0.0013037833), (10, 0.0013037842), (11, 0.0013037869), (12, 0.0013037922)], [(0, 0.0045249215), (1, 0.0045248982), (2, 0.004524953), (3, 0.004524887), (4, 0.004524887), (5, 0.00452489), (6, 0.004524887), (7, 0.94570106), (8, 0.004524899), (9, 0.004524986), (10, 0.004524887), (11, 0.0045249127), (12, 0.0045249094)], [(0, 0.005494573), (1, 0.005494524), (2, 0.0054945545), (3, 0.005494507), (4, 0.005494507), (5, 0.005494507), (6, 0.005494521), (7, 0.0054945312), (8, 0.9340656), (9, 0.0054945634), (10, 0.005494511), (11, 0.0054945624), (12, 0.005494539)], [(0, 0.015384627), (1, 0.015384616), (2, 0.015384724), (3, 0.015384616), (4, 0.015384616), (5, 0.015384616), (6, 0.015384616), (7, 0.015384617), (8, 0.015384616), (9, 0.8153845), (10, 0.015384616), (11, 0.015384616), (12, 0.015384642)], [(0, 0.88221395), (1, 0.0034965458), (2, 0.003496533), (3, 0.0034965053), (4, 0.079324245), (5, 0.0034965824), (6, 0.0034965086), (7, 0.0034965563), (8, 0.0034965202), (9, 0.0034965076), (10, 0.0034965079), (11, 0.0034965188), (12, 0.0034965633)], [(0, 0.94570094), (1, 0.0045249094), (2, 0.004524993), (3, 0.0045249173), (4, 0.0045248885), (5, 0.0045248987), (6, 0.004524916), (7, 0.004524924), (8, 0.0045249104), (9, 0.004524908), (10, 0.0045249006), (11, 0.0045249527), (12, 0.00452495)], [(0, 0.0033445477), (1, 0.0033445281), (2, 0.9598659), (3, 0.0033444844), (4, 0.0033444962), (5, 0.003344483), (6, 0.0033445095), (7, 0.00334452), (8, 0.0033444925), (9, 0.003344495), (10, 0.0033444876), (11, 0.0033445067), (12, 0.0033445365)], [(0, 0.025641026), (1, 0.025641026), (2, 0.025641026), (3, 0.025641026), (4, 0.025641026), (5, 0.6923077), (6, 0.025641026), (7, 0.025641026), (8, 0.025641026), (9, 0.025641026), (10, 0.025641026), (11, 0.025641026), (12, 0.025641026)], [(0, 0.8846146), (1, 0.009615425), (2, 0.009615484), (3, 0.009615388), (4, 0.009615387), (5, 0.009615388), (6, 0.009615399), (7, 0.009615619), (8, 0.009615408), (9, 0.009615587), (10, 0.0096154), (11, 0.009615421), (12, 0.009615441)], [(0, 0.0048077926), (1, 0.0048077386), (2, 0.18906733), (3, 0.0048077106), (4, 0.0048077055), (5, 0.004807693), (6, 0.0048077), (7, 0.0048077404), (8, 0.75804764), (9, 0.004807744), (10, 0.0048077344), (11, 0.0048077507), (12, 0.004807754)], [(0, 0.009615467), (1, 0.0096154595), (2, 0.009615451), (3, 0.009615385), (4, 0.009615385), (5, 0.009615385), (6, 0.009615385), (7, 0.00961546), (8, 0.009615509), (9, 0.009615437), (10, 0.009615459), (11, 0.8846147), (12, 0.009615504)], [(0, 0.9905808), (1, 0.00078493165), (2, 0.0007849346), (3, 0.0007849311), (4, 0.00078493875), (5, 0.0007849299), (6, 0.00078493066), (7, 0.0007849328), (8, 0.00078493304), (9, 0.0007849482), (10, 0.00078493066), (11, 0.0007849356), (12, 0.0007849369)], [(0, 0.005494598), (1, 0.0054945266), (2, 0.0054945736), (3, 0.005494514), (4, 0.005494507), (5, 0.0054945108), (6, 0.0054945163), (7, 0.005494546), (8, 0.0054945364), (9, 0.005494516), (10, 0.0054945415), (11, 0.9340656), (12, 0.005494555)], [(0, 0.0034965603), (1, 0.0034965114), (2, 0.00349662), (3, 0.0034965046), (4, 0.0034965104), (5, 0.0034965067), (6, 0.0034965412), (7, 0.9580416), (8, 0.0034965335), (9, 0.0034965104), (10, 0.0034965174), (11, 0.0034965298), (12, 0.003496548)], [(0, 0.0025641494), (1, 0.0025641248), (2, 0.0025641345), (3, 0.0025641157), (4, 0.00256411), (5, 0.0025641078), (6, 0.0025641818), (7, 0.122483134), (8, 0.0025641213), (9, 0.0025641138), (10, 0.002564114), (11, 0.002564116), (12, 0.8493115)], [(0, 0.95141673), (1, 0.0040486315), (2, 0.0040486488), (3, 0.004048588), (4, 0.0040485854), (5, 0.0040485924), (6, 0.004048598), (7, 0.004048644), (8, 0.0040486106), (9, 0.004048616), (10, 0.004048597), (11, 0.004048608), (12, 0.0040486045)], [(0, 0.015384616), (1, 0.015384616), (2, 0.015384616), (3, 0.015384616), (4, 0.015384616), (5, 0.015384616), (6, 0.015384616), (7, 0.015384616), (8, 0.015384616), (9, 0.81538457), (10, 0.015384616), (11, 0.015384616), (12, 0.015384616)], [(0, 0.019230964), (1, 0.01923077), (2, 0.019231023), (3, 0.01923077), (4, 0.019230923), (5, 0.01923077), (6, 0.01923077), (7, 0.01923077), (8, 0.019230813), (9, 0.01923077), (10, 0.01923077), (11, 0.019230835), (12, 0.76923007)], [(0, 0.8681308), (1, 0.010989101), (2, 0.010989174), (3, 0.010989018), (4, 0.010989017), (5, 0.010989018), (6, 0.010989151), (7, 0.010989455), (8, 0.010989044), (9, 0.010989022), (10, 0.010989034), (11, 0.010989082), (12, 0.01098905)], [(0, 0.0015083227), (1, 0.0015083194), (2, 0.0015083312), (3, 0.0015083083), (4, 0.0015082961), (5, 0.001508297), (6, 0.001508306), (7, 0.0015083097), (8, 0.9819002), (9, 0.0015083087), (10, 0.001508319), (11, 0.0015083178), (12, 0.0015083179)], [(0, 0.01923077), (1, 0.01923077), (2, 0.01923077), (3, 0.01923077), (4, 0.01923077), (5, 0.01923077), (6, 0.01923077), (7, 0.01923077), (8, 0.76923066), (9, 0.01923077), (10, 0.01923077), (11, 0.019230891), (12, 0.01923077)], [(0, 0.038461674), (1, 0.03846154), (2, 0.038461655), (3, 0.03846154), (4, 0.03846154), (5, 0.03846154), (6, 0.03846154), (7, 0.038462233), (8, 0.03846154), (9, 0.03846154), (10, 0.03846154), (11, 0.5384606), (12, 0.03846154)], [(0, 0.012820743), (1, 0.0128206685), (2, 0.012820696), (3, 0.012820514), (4, 0.012820514), (5, 0.012820514), (6, 0.012820585), (7, 0.012820617), (8, 0.84615284), (9, 0.01282059), (10, 0.012820514), (11, 0.012820514), (12, 0.012820674)], [(0, 0.0031156584), (1, 0.0028490336), (2, 0.9655451), (3, 0.0028490121), (4, 0.0028490068), (5, 0.0028490184), (6, 0.0028490126), (7, 0.0028490408), (8, 0.0028490284), (9, 0.0028490114), (10, 0.002849052), (11, 0.0028490296), (12, 0.002849041)], [(0, 0.01923086), (1, 0.019230863), (2, 0.019230882), (3, 0.76923025), (4, 0.019230893), (5, 0.01923077), (6, 0.01923077), (7, 0.01923077), (8, 0.019230915), (9, 0.01923077), (10, 0.01923077), (11, 0.01923077), (12, 0.01923077)], [(0, 0.007692518), (1, 0.0076923645), (2, 0.9076916), (3, 0.007692418), (4, 0.0076923147), (5, 0.0076923273), (6, 0.00769234), (7, 0.0076923384), (8, 0.0076923706), (9, 0.007692326), (10, 0.007692342), (11, 0.007692347), (12, 0.0076923943)], [(0, 0.0014793167), (1, 0.0014793007), (2, 0.0014793047), (3, 0.0014792909), (4, 0.0014792939), (5, 0.001479296), (6, 0.016543828), (7, 0.0014792953), (8, 0.0014792948), (9, 0.0014792925), (10, 0.0014792957), (11, 0.0014793021), (12, 0.9671839)], [(0, 0.002197907), (1, 0.0021978163), (2, 0.97362596), (3, 0.00219797), (4, 0.0021978158), (5, 0.0021978086), (6, 0.0021978163), (7, 0.002197818), (8, 0.0021978205), (9, 0.0021978098), (10, 0.0021978146), (11, 0.0021978267), (12, 0.0021978433)], [(0, 0.32507733), (1, 0.015384741), (2, 0.5056907), (3, 0.015384632), (4, 0.015384629), (5, 0.015384634), (6, 0.015384683), (7, 0.015384701), (8, 0.015384758), (9, 0.015384654), (10, 0.01538503), (11, 0.015384706), (12, 0.015384803)], [(0, 0.010989236), (1, 0.010989176), (2, 0.0109891845), (3, 0.010989096), (4, 0.010989012), (5, 0.010989051), (6, 0.010989177), (7, 0.010989092), (8, 0.010989118), (9, 0.010989029), (10, 0.010989012), (11, 0.0109891435), (12, 0.8681307)], [(0, 0.015385169), (1, 0.015384783), (2, 0.015384801), (3, 0.015384719), (4, 0.015384616), (5, 0.015384616), (6, 0.015384637), (7, 0.81538314), (8, 0.015384616), (9, 0.015384617), (10, 0.015384696), (11, 0.015384762), (12, 0.015384831)], [(0, 0.0022624843), (1, 0.002262459), (2, 0.0022625434), (3, 0.0022624468), (4, 0.0022624435), (5, 0.0022624484), (6, 0.97285044), (7, 0.002262449), (8, 0.002262455), (9, 0.0022624577), (10, 0.0022624484), (11, 0.002262471), (12, 0.0022624726)], [(0, 0.69068444), (1, 0.009615436), (2, 0.00961548), (3, 0.009615399), (4, 0.0096153915), (5, 0.009615402), (6, 0.009615419), (7, 0.009615445), (8, 0.20354585), (9, 0.009615417), (10, 0.009615425), (11, 0.009615436), (12, 0.009615461)], [(0, 0.7705426), (1, 0.0012019326), (2, 0.21623619), (3, 0.001201927), (4, 0.0012019257), (5, 0.0012019245), (6, 0.0012019278), (7, 0.0012019281), (8, 0.0012019271), (9, 0.0012019264), (10, 0.001201935), (11, 0.0012019344), (12, 0.0012019378)], [(0, 0.9815383), (1, 0.0015384726), (2, 0.0015384996), (3, 0.0015384707), (4, 0.0015384671), (5, 0.0015384686), (6, 0.0015384727), (7, 0.0015384678), (8, 0.0015384732), (9, 0.0015384727), (10, 0.0015384682), (11, 0.0015384686), (12, 0.0015384848)], [(0, 0.0032051883), (1, 0.0032051657), (2, 0.0032051788), (3, 0.003205135), (4, 0.00320515), (5, 0.0032051378), (6, 0.961538), (7, 0.0032051643), (8, 0.0032052211), (9, 0.0032051378), (10, 0.0032051352), (11, 0.0032052349), (12, 0.0032051634)], [(0, 0.979933), (1, 0.0016722474), (2, 0.0016722637), (3, 0.0016722461), (4, 0.0016722411), (5, 0.0016722428), (6, 0.0016722443), (7, 0.0016722586), (8, 0.001672253), (9, 0.0016722447), (10, 0.0016722525), (11, 0.0016722544), (12, 0.0016722534)], [(0, 0.03846154), (1, 0.03846154), (2, 0.03846154), (3, 0.03846154), (4, 0.03846154), (5, 0.03846154), (6, 0.03846154), (7, 0.03846154), (8, 0.5384615), (9, 0.03846154), (10, 0.03846154), (11, 0.03846154), (12, 0.03846154)], [(0, 0.019230865), (1, 0.019230817), (2, 0.01923077), (3, 0.019230941), (4, 0.01923077), (5, 0.01923077), (6, 0.01923077), (7, 0.01923077), (8, 0.01923077), (9, 0.7692303), (10, 0.01923077), (11, 0.0192308), (12, 0.019230884)], [(0, 0.8974352), (1, 0.008547079), (2, 0.008547034), (3, 0.008547012), (4, 0.008547093), (5, 0.008547012), (6, 0.00854702), (7, 0.008547245), (8, 0.008547052), (9, 0.008547072), (10, 0.008547102), (11, 0.008547022), (12, 0.008547084)], [(0, 0.03846154), (1, 0.03846154), (2, 0.03846154), (3, 0.03846154), (4, 0.03846154), (5, 0.03846154), (6, 0.03846154), (7, 0.5384615), (8, 0.03846154), (9, 0.03846154), (10, 0.03846154), (11, 0.03846154), (12, 0.03846154)], [(0, 0.019230792), (1, 0.019230774), (2, 0.019230781), (3, 0.01923077), (4, 0.01923077), (5, 0.01923077), (6, 0.01923077), (7, 0.019230776), (8, 0.019230783), (9, 0.019230789), (10, 0.01923077), (11, 0.01923077), (12, 0.7692307)], [(0, 0.0069932933), (1, 0.006993164), (2, 0.006993185), (3, 0.0069930404), (4, 0.91608214), (5, 0.006993063), (6, 0.006993167), (7, 0.0069931154), (8, 0.00699324), (9, 0.0069931108), (10, 0.006993155), (11, 0.0069931718), (12, 0.006993205)], [(0, 0.97202784), (1, 0.0023310103), (2, 0.0023310285), (3, 0.002331006), (4, 0.002331003), (5, 0.0023310038), (6, 0.0023310124), (7, 0.0023310387), (8, 0.002331013), (9, 0.0023310091), (10, 0.0023310082), (11, 0.0023310205), (12, 0.0023310308)], [(0, 0.0016025975), (1, 0.0016025748), (2, 0.0016025883), (3, 0.0016025705), (4, 0.001602565), (5, 0.0016025697), (6, 0.0016025911), (7, 0.001602581), (8, 0.001602579), (9, 0.0016025773), (10, 0.0016025675), (11, 0.9807691), (12, 0.0016025874)], [(0, 0.003846197), (1, 0.003846166), (2, 0.0038461867), (3, 0.0038461722), (4, 0.0038461555), (5, 0.003846155), (6, 0.0038461667), (7, 0.003846208), (8, 0.9538456), (9, 0.0038461783), (10, 0.0038461878), (11, 0.0038461671), (12, 0.0038464826)], [(0, 0.0069930493), (1, 0.006993031), (2, 0.006993029), (3, 0.0069934363), (4, 0.0069930106), (5, 0.006993012), (6, 0.0069930283), (7, 0.0069930237), (8, 0.0069930474), (9, 0.006993018), (10, 0.0069930297), (11, 0.0069930325), (12, 0.9160833)], [(0, 0.96703285), (1, 0.0027472768), (2, 0.0027472775), (3, 0.0027472544), (4, 0.0027472533), (5, 0.0027472556), (6, 0.0027472589), (7, 0.0027472668), (8, 0.0027472698), (9, 0.0027472556), (10, 0.002747257), (11, 0.0027472605), (12, 0.0027472633)], [(0, 0.0007849344), (1, 0.00078493165), (2, 0.0007849346), (3, 0.0007849301), (4, 0.00078492967), (5, 0.0007849304), (6, 0.0007849316), (7, 0.0007849316), (8, 0.00078493304), (9, 0.9905808), (10, 0.0007849319), (11, 0.0007849324), (12, 0.00078493316)], [(0, 0.0034965544), (1, 0.0034965307), (2, 0.0034965614), (3, 0.003496529), (4, 0.0034965223), (5, 0.0034965046), (6, 0.003496516), (7, 0.9580417), (8, 0.0034965212), (9, 0.0034965114), (10, 0.003496504), (11, 0.0034965314), (12, 0.0034965419)], [(0, 0.0042735334), (1, 0.004273509), (2, 0.0042735725), (3, 0.0042735054), (4, 0.10385882), (5, 0.0042735073), (6, 0.0042735087), (7, 0.0042735254), (8, 0.004273528), (9, 0.0042735073), (10, 0.004273509), (11, 0.004273531), (12, 0.8491324)], [(0, 0.006993216), (1, 0.006993094), (2, 0.0069931303), (3, 0.0069930423), (4, 0.0069930363), (5, 0.9160828), (6, 0.006993096), (7, 0.006993091), (8, 0.0069930973), (9, 0.0069931014), (10, 0.006993067), (11, 0.006993102), (12, 0.0069931303)], [(0, 0.0019724125), (1, 0.0019724036), (2, 0.0019724017), (3, 0.0019723899), (4, 0.0019723899), (5, 0.9763312), (6, 0.001972417), (7, 0.0019723973), (8, 0.0019724069), (9, 0.001972393), (10, 0.0019723992), (11, 0.0019724013), (12, 0.0019724043)], [(0, 0.0015083214), (1, 0.0015083057), (2, 0.0015083165), (3, 0.0015083016), (4, 0.0015083007), (5, 0.0015083018), (6, 0.0015083037), (7, 0.0015083047), (8, 0.0015083028), (9, 0.001508307), (10, 0.0015083097), (11, 0.0015083093), (12, 0.98190033)], [(0, 0.019231265), (1, 0.019231), (2, 0.019231277), (3, 0.019230912), (4, 0.019230792), (5, 0.01923077), (6, 0.019230945), (7, 0.39477652), (8, 0.3936826), (9, 0.019230846), (10, 0.019230822), (11, 0.019231101), (12, 0.019231176)], [(0, 0.009615532), (1, 0.009615423), (2, 0.8846144), (3, 0.009615432), (4, 0.0096153915), (5, 0.009615392), (6, 0.009615509), (7, 0.009615469), (8, 0.009615495), (9, 0.009615505), (10, 0.009615493), (11, 0.009615499), (12, 0.009615482)], [(0, 0.003846258), (1, 0.0038461662), (2, 0.0038461934), (3, 0.0038461622), (4, 0.0038461548), (5, 0.0038461566), (6, 0.0038461606), (7, 0.0038461797), (8, 0.0038461736), (9, 0.0038461585), (10, 0.0038461604), (11, 0.0038461953), (12, 0.95384586)], [(0, 0.015384865), (1, 0.015384814), (2, 0.60234445), (3, 0.015384637), (4, 0.015384632), (5, 0.015384639), (6, 0.015384699), (7, 0.015384929), (8, 0.015384751), (9, 0.015384662), (10, 0.015384706), (11, 0.22842331), (12, 0.015384896)], [(0, 0.8974348), (1, 0.0085470965), (2, 0.008547353), (3, 0.008547027), (4, 0.008547025), (5, 0.008547018), (6, 0.008547164), (7, 0.008547115), (8, 0.0085470285), (9, 0.008547088), (10, 0.008547247), (11, 0.008547025), (12, 0.008547033)], [(0, 0.015384739), (1, 0.0153846685), (2, 0.01538493), (3, 0.015384616), (4, 0.015384689), (5, 0.015384616), (6, 0.015384616), (7, 0.0153846545), (8, 0.015384646), (9, 0.015384616), (10, 0.8153838), (11, 0.015384661), (12, 0.015384707)], [(0, 0.0069930786), (1, 0.91608346), (2, 0.006993071), (3, 0.0069930092), (4, 0.006993009), (5, 0.006993036), (6, 0.0069930577), (7, 0.0069930656), (8, 0.0069930446), (9, 0.006993014), (10, 0.006993042), (11, 0.0069930493), (12, 0.006993051)], [(0, 0.0003544891), (1, 0.00035448483), (2, 0.00035448535), (3, 0.00035448454), (4, 0.00035448436), (5, 0.00035448436), (6, 0.00035448623), (7, 0.00035448556), (8, 0.9957462), (9, 0.00035448477), (10, 0.0003544871), (11, 0.00035449266), (12, 0.00035448596)], [(0, 0.0025641457), (1, 0.9692305), (2, 0.002564145), (3, 0.002564111), (4, 0.0025641073), (5, 0.002564111), (6, 0.0025641103), (7, 0.00256413), (8, 0.0025641143), (9, 0.0025641131), (10, 0.0025641753), (11, 0.0025641243), (12, 0.0025641306)], [(0, 0.015385213), (1, 0.81538266), (2, 0.015384734), (3, 0.015384652), (4, 0.015384619), (5, 0.015384617), (6, 0.015384692), (7, 0.015385032), (8, 0.015384978), (9, 0.015384627), (10, 0.015384632), (11, 0.0153848035), (12, 0.01538475)], [(0, 0.0012019437), (1, 0.0012019353), (2, 0.0012019388), (3, 0.0012019317), (4, 0.001201927), (5, 0.0012019275), (6, 0.0012019352), (7, 0.0012019335), (8, 0.0012019317), (9, 0.0012019324), (10, 0.0012019286), (11, 0.0012019315), (12, 0.9855768)], [(0, 0.98321664), (1, 0.0013986327), (2, 0.0013986211), (3, 0.0013986022), (4, 0.0013986017), (5, 0.0013986026), (6, 0.001398612), (7, 0.0013986158), (8, 0.0013986117), (9, 0.0013986034), (10, 0.0013986037), (11, 0.0013986127), (12, 0.0013986145)], [(0, 0.0036630502), (1, 0.003663019), (2, 0.9560438), (3, 0.003663013), (4, 0.0036630055), (5, 0.003663006), (6, 0.0036630211), (7, 0.0036630111), (8, 0.0036630293), (9, 0.0036630142), (10, 0.0036630111), (11, 0.0036630137), (12, 0.0036630381)], [(0, 0.0076923417), (1, 0.0076923086), (2, 0.007692342), (3, 0.007692308), (4, 0.007692308), (5, 0.007692342), (6, 0.9076921), (7, 0.007692311), (8, 0.007692308), (9, 0.007692308), (10, 0.0076923124), (11, 0.0076923156), (12, 0.007692419)], [(0, 0.010989119), (1, 0.01098903), (2, 0.20472018), (3, 0.010989103), (4, 0.010989115), (5, 0.67440003), (6, 0.010989069), (7, 0.010989094), (8, 0.010989015), (9, 0.010989052), (10, 0.010989031), (11, 0.0109890625), (12, 0.0109890625)], [(0, 0.0033445435), (1, 0.0033445838), (2, 0.0033445507), (3, 0.0033444976), (4, 0.0033446217), (5, 0.0033444893), (6, 0.0033444995), (7, 0.003344509), (8, 0.0033445186), (9, 0.0033445216), (10, 0.0033445682), (11, 0.95986557), (12, 0.0033445244)], [(0, 0.009615495), (1, 0.009615413), (2, 0.009615556), (3, 0.009615442), (4, 0.009615408), (5, 0.009615419), (6, 0.009615385), (7, 0.009615432), (8, 0.009615413), (9, 0.88461477), (10, 0.009615385), (11, 0.009615516), (12, 0.009615419)], [(0, 0.90769184), (1, 0.0076923384), (2, 0.007692367), (3, 0.0076923124), (4, 0.007692312), (5, 0.0076923124), (6, 0.0076923342), (7, 0.007692322), (8, 0.0076925172), (9, 0.0076923184), (10, 0.0076923273), (11, 0.0076923505), (12, 0.007692358)], [(0, 0.8681312), (1, 0.010989022), (2, 0.010989025), (3, 0.010989013), (4, 0.010989013), (5, 0.010989013), (6, 0.010989013), (7, 0.010989013), (8, 0.010989013), (9, 0.010989189), (10, 0.010989043), (11, 0.01098935), (12, 0.010989115)], [(0, 0.008547133), (1, 0.008547122), (2, 0.008547102), (3, 0.008547009), (4, 0.008547009), (5, 0.008547032), (6, 0.008547182), (7, 0.008547157), (8, 0.89743507), (9, 0.00854703), (10, 0.008547009), (11, 0.008547075), (12, 0.008547027)], [(0, 0.0045249346), (1, 0.0045249276), (2, 0.004524925), (3, 0.0045248982), (4, 0.004524889), (5, 0.0045248894), (6, 0.004524899), (7, 0.0045249057), (8, 0.004524925), (9, 0.004524917), (10, 0.0045249), (11, 0.94570106), (12, 0.0045249173)], [(0, 0.0038461827), (1, 0.003846158), (2, 0.0038461708), (3, 0.0038461606), (4, 0.0038461543), (5, 0.0038461548), (6, 0.953846), (7, 0.0038461746), (8, 0.003846164), (9, 0.003846156), (10, 0.0038461816), (11, 0.0038461618), (12, 0.0038461767)], [(0, 0.019230926), (1, 0.01923077), (2, 0.019230818), (3, 0.01923077), (4, 0.01923077), (5, 0.01923077), (6, 0.01923077), (7, 0.01923077), (8, 0.7692301), (9, 0.01923077), (10, 0.01923077), (11, 0.01923077), (12, 0.019231241)], [(0, 0.004273605), (1, 0.004273517), (2, 0.004273561), (3, 0.0042735143), (4, 0.004273521), (5, 0.0042735133), (6, 0.0042735185), (7, 0.004273569), (8, 0.004273554), (9, 0.94871753), (10, 0.0042735166), (11, 0.00427353), (12, 0.004273553)], [(0, 0.025641797), (1, 0.025641026), (2, 0.025641335), (3, 0.025641026), (4, 0.025641026), (5, 0.025641026), (6, 0.6923063), (7, 0.025641026), (8, 0.025641026), (9, 0.025641026), (10, 0.025641026), (11, 0.025641026), (12, 0.025641365)], [(0, 0.0069930684), (1, 0.0069930204), (2, 0.006993054), (3, 0.0069930092), (4, 0.006993009), (5, 0.0069930092), (6, 0.006993028), (7, 0.006993024), (8, 0.006993046), (9, 0.0069930656), (10, 0.006993018), (11, 0.0069930973), (12, 0.9160835)], [(0, 0.019230787), (1, 0.01923077), (2, 0.019230794), (3, 0.01923077), (4, 0.7692306), (5, 0.01923077), (6, 0.01923077), (7, 0.01923084), (8, 0.019230839), (9, 0.01923077), (10, 0.01923077), (11, 0.01923077), (12, 0.01923077)], [(0, 0.0069931005), (1, 0.006993042), (2, 0.006993087), (3, 0.0069930167), (4, 0.0069930106), (5, 0.0069930125), (6, 0.0069930134), (7, 0.0069930777), (8, 0.006993037), (9, 0.9160834), (10, 0.006993014), (11, 0.0069930446), (12, 0.006993097)], [(0, 0.010989919), (1, 0.0109891575), (2, 0.86813015), (3, 0.010989028), (4, 0.010989025), (5, 0.01098903), (6, 0.010989082), (7, 0.010989067), (8, 0.010989128), (9, 0.010989049), (10, 0.010989087), (11, 0.010989097), (12, 0.010989165)], [(0, 0.025641026), (1, 0.025641026), (2, 0.025641026), (3, 0.025641026), (4, 0.025641026), (5, 0.025641026), (6, 0.025641026), (7, 0.025641026), (8, 0.6923077), (9, 0.025641026), (10, 0.025641026), (11, 0.025641026), (12, 0.025641026)], [(0, 0.009615551), (1, 0.00961546), (2, 0.009615598), (3, 0.88461435), (4, 0.009615409), (5, 0.009615407), (6, 0.009615462), (7, 0.009615433), (8, 0.009615439), (9, 0.009615389), (10, 0.009615402), (11, 0.00961564), (12, 0.0096154995)], [(0, 0.009615389), (1, 0.009615384), (2, 0.0096153915), (3, 0.009615384), (4, 0.009615384), (5, 0.009615428), (6, 0.009615384), (7, 0.009615384), (8, 0.009615384), (9, 0.88461524), (10, 0.009615384), (11, 0.009615384), (12, 0.009615408)], [(0, 0.005494756), (1, 0.005494532), (2, 0.93406534), (3, 0.0054945545), (4, 0.0054945075), (5, 0.005494508), (6, 0.005494517), (7, 0.0054945643), (8, 0.0054945494), (9, 0.0054945266), (10, 0.0054945285), (11, 0.005494527), (12, 0.0054945974)], [(0, 0.015384677), (1, 0.015384616), (2, 0.015384616), (3, 0.015384616), (4, 0.015384616), (5, 0.015384616), (6, 0.015384616), (7, 0.015384616), (8, 0.015384616), (9, 0.015384616), (10, 0.8153845), (11, 0.015384616), (12, 0.015384647)], [(0, 0.00549456), (1, 0.005494515), (2, 0.005494568), (3, 0.0054945215), (4, 0.0054945364), (5, 0.93406564), (6, 0.0054945094), (7, 0.0054945326), (8, 0.005494528), (9, 0.0054945173), (10, 0.0054945103), (11, 0.0054945378), (12, 0.0054945415)], [(0, 0.0076924143), (1, 0.0076923287), (2, 0.007692387), (3, 0.0076923547), (4, 0.00769231), (5, 0.007692311), (6, 0.0076923333), (7, 0.0076923473), (8, 0.007692353), (9, 0.0076923156), (10, 0.9076918), (11, 0.0076923557), (12, 0.0076923766)], [(0, 0.019231016), (1, 0.019230919), (2, 0.76922923), (3, 0.0192308), (4, 0.019230794), (5, 0.019230803), (6, 0.0192309), (7, 0.019230872), (8, 0.019230986), (9, 0.01923084), (10, 0.019230912), (11, 0.019230928), (12, 0.019230938)], [(0, 0.9384611), (1, 0.005128248), (2, 0.0051282546), (3, 0.0051282165), (4, 0.005128238), (5, 0.005128211), (6, 0.005128225), (7, 0.005128264), (8, 0.0051282407), (9, 0.0051282123), (10, 0.005128219), (11, 0.005128253), (12, 0.0051282896)], [(0, 0.6923069), (1, 0.025641024), (2, 0.025641358), (3, 0.025641024), (4, 0.02564126), (5, 0.025641024), (6, 0.025641192), (7, 0.025641024), (8, 0.025641024), (9, 0.025641024), (10, 0.025641024), (11, 0.025641024), (12, 0.025641102)], [(0, 0.9598659), (1, 0.0033444995), (2, 0.0033445167), (3, 0.0033444976), (4, 0.0033444827), (5, 0.003344483), (6, 0.0033444879), (7, 0.003344575), (8, 0.0033445582), (9, 0.003344496), (10, 0.0033444904), (11, 0.0033445025), (12, 0.0033444972)], [(0, 0.01923078), (1, 0.019230964), (2, 0.019230772), (3, 0.019230768), (4, 0.019230768), (5, 0.019230768), (6, 0.019230768), (7, 0.019230768), (8, 0.7692305), (9, 0.019230768), (10, 0.019230768), (11, 0.01923078), (12, 0.019230785)], [(0, 0.015384672), (1, 0.1779891), (2, 0.015384844), (3, 0.015384616), (4, 0.015384616), (5, 0.015384649), (6, 0.015384656), (7, 0.015384646), (8, 0.015384627), (9, 0.015384616), (10, 0.01538464), (11, 0.6527797), (12, 0.015384634)], [(0, 0.009615533), (1, 0.009615435), (2, 0.009615439), (3, 0.009615391), (4, 0.00961539), (5, 0.009615476), (6, 0.009615407), (7, 0.0096154325), (8, 0.009615466), (9, 0.009615397), (10, 0.009615409), (11, 0.8846147), (12, 0.009615497)], [(0, 0.025641045), (1, 0.025641344), (2, 0.025641024), (3, 0.025641024), (4, 0.025641024), (5, 0.025641024), (6, 0.69230735), (7, 0.025641024), (8, 0.025641024), (9, 0.025641024), (10, 0.025641024), (11, 0.025641024), (12, 0.025641024)], [(0, 0.00961548), (1, 0.0096154045), (2, 0.009615473), (3, 0.009615385), (4, 0.009615385), (5, 0.009615385), (6, 0.009615385), (7, 0.00961539), (8, 0.009615389), (9, 0.009615454), (10, 0.009615385), (11, 0.009615411), (12, 0.88461506)], [(0, 0.025641253), (1, 0.02564125), (2, 0.0256415), (3, 0.025641026), (4, 0.69230586), (5, 0.025641026), (6, 0.02564122), (7, 0.025641026), (8, 0.025641026), (9, 0.025641026), (10, 0.025641026), (11, 0.025641063), (12, 0.02564166)], [(0, 0.7398284), (1, 0.006410264), (2, 0.006410273), (3, 0.0064102584), (4, 0.006410258), (5, 0.0064102584), (6, 0.0064102635), (7, 0.006410262), (8, 0.0064102677), (9, 0.00641026), (10, 0.006410264), (11, 0.18965869), (12, 0.0064102653)], [(0, 0.01923116), (1, 0.019230826), (2, 0.019230925), (3, 0.019230856), (4, 0.01923077), (5, 0.01923077), (6, 0.019230802), (7, 0.019230809), (8, 0.019230887), (9, 0.019230774), (10, 0.01923077), (11, 0.7692297), (12, 0.019230995)], [(0, 0.0069931345), (1, 0.91608346), (2, 0.0069931033), (3, 0.0069930106), (4, 0.0069930116), (5, 0.0069930204), (6, 0.006993036), (7, 0.0069930507), (8, 0.0069930432), (9, 0.006993033), (10, 0.006993025), (11, 0.006993069), (12, 0.006993065)], [(0, 0.019230988), (1, 0.01923078), (2, 0.01923101), (3, 0.019230846), (4, 0.019230768), (5, 0.019230768), (6, 0.019230768), (7, 0.01923087), (8, 0.01923083), (9, 0.76922965), (10, 0.019230768), (11, 0.01923106), (12, 0.019230824)], [(0, 0.038462367), (1, 0.03846161), (2, 0.5384569), (3, 0.038462292), (4, 0.03846185), (5, 0.038461994), (6, 0.038461544), (7, 0.038461957), (8, 0.038461708), (9, 0.038462263), (10, 0.038461544), (11, 0.038462028), (12, 0.038461994)], [(0, 0.03846161), (1, 0.5384615), (2, 0.03846154), (3, 0.03846154), (4, 0.03846154), (5, 0.03846154), (6, 0.03846154), (7, 0.03846154), (8, 0.03846154), (9, 0.03846154), (10, 0.03846154), (11, 0.03846154), (12, 0.03846154)], [(0, 0.010989162), (1, 0.010989039), (2, 0.010989132), (3, 0.010989052), (4, 0.8681311), (5, 0.010989011), (6, 0.010989037), (7, 0.010989132), (8, 0.0109890485), (9, 0.010989011), (10, 0.010989107), (11, 0.01098903), (12, 0.01098915)], [(0, 0.0027472947), (1, 0.0027472607), (2, 0.0027472735), (3, 0.0027472668), (4, 0.0027472612), (5, 0.002747259), (6, 0.0027472663), (7, 0.0027472735), (8, 0.0027472677), (9, 0.002747257), (10, 0.0027472628), (11, 0.0027472668), (12, 0.9670328)], [(0, 0.0019724097), (1, 0.0019724055), (2, 0.0019724106), (3, 0.0019723966), (4, 0.0019724758), (5, 0.0019723903), (6, 0.0019724045), (7, 0.0019723969), (8, 0.97633106), (9, 0.0019723913), (10, 0.0019723924), (11, 0.0019724204), (12, 0.001972405)], [(0, 0.44452664), (1, 0.3439338), (2, 0.019230874), (3, 0.019230792), (4, 0.019230789), (5, 0.019230794), (6, 0.01923087), (7, 0.019230912), (8, 0.019231), (9, 0.019230824), (10, 0.019230878), (11, 0.019230891), (12, 0.019230898)], [(0, 0.0030769606), (1, 0.0030769347), (2, 0.9630767), (3, 0.0030769245), (4, 0.0030769433), (5, 0.0030769245), (6, 0.0030769322), (7, 0.003076948), (8, 0.0030769424), (9, 0.003076948), (10, 0.0030769368), (11, 0.0030769499), (12, 0.0030769436)], [(0, 0.012820755), (1, 0.012820635), (2, 0.8461527), (3, 0.012820513), (4, 0.012820591), (5, 0.012820593), (6, 0.012820513), (7, 0.012820542), (8, 0.0128206955), (9, 0.012820642), (10, 0.012820513), (11, 0.012820657), (12, 0.012820628)], [(0, 0.025641311), (1, 0.025641024), (2, 0.6923067), (3, 0.025641024), (4, 0.025641024), (5, 0.025641024), (6, 0.025641024), (7, 0.025641106), (8, 0.025641024), (9, 0.025641024), (10, 0.025641024), (11, 0.025641289), (12, 0.025641363)], [(0, 0.0038461734), (1, 0.0038461662), (2, 0.00384617), (3, 0.003846155), (4, 0.0038461604), (5, 0.0038461636), (6, 0.0038461636), (7, 0.003846169), (8, 0.0038461597), (9, 0.0038461587), (10, 0.0038461622), (11, 0.953846), (12, 0.0038461827)], [(0, 0.37636968), (1, 0.01282056), (2, 0.012820773), (3, 0.012820531), (4, 0.012820513), (5, 0.012820513), (6, 0.48260382), (7, 0.012820575), (8, 0.012820539), (9, 0.012820672), (10, 0.0128205605), (11, 0.01282065), (12, 0.012820632)], [(0, 0.01538478), (1, 0.015384706), (2, 0.8153836), (3, 0.015384637), (4, 0.015384632), (5, 0.015384637), (6, 0.015384695), (7, 0.015384699), (8, 0.015384793), (9, 0.015384659), (10, 0.015384699), (11, 0.015384751), (12, 0.015384716)], [(0, 0.025641028), (1, 0.025641028), (2, 0.025641028), (3, 0.025641028), (4, 0.025641028), (5, 0.025641028), (6, 0.025641028), (7, 0.6923077), (8, 0.025641028), (9, 0.025641028), (10, 0.025641028), (11, 0.025641028), (12, 0.025641028)], [(0, 0.9160835), (1, 0.006993034), (2, 0.006993112), (3, 0.006993009), (4, 0.006993008), (5, 0.006993009), (6, 0.0069930414), (7, 0.0069930195), (8, 0.0069930847), (9, 0.0069930106), (10, 0.0069930446), (11, 0.0069930744), (12, 0.0069930255)], [(0, 0.009615568), (1, 0.0096154185), (2, 0.009615668), (3, 0.88461435), (4, 0.009615403), (5, 0.009615446), (6, 0.009615404), (7, 0.009615489), (8, 0.009615461), (9, 0.0096154725), (10, 0.009615385), (11, 0.009615451), (12, 0.009615498)], [(0, 0.025641024), (1, 0.6923069), (2, 0.025641024), (3, 0.025641024), (4, 0.025641024), (5, 0.025641024), (6, 0.025641024), (7, 0.025641866), (8, 0.025641024), (9, 0.025641024), (10, 0.025641024), (11, 0.025641024), (12, 0.025641024)], [(0, 0.008547056), (1, 0.00854704), (2, 0.008547091), (3, 0.008547009), (4, 0.008547009), (5, 0.8974356), (6, 0.008547018), (7, 0.008547032), (8, 0.00854702), (9, 0.008547031), (10, 0.008547009), (11, 0.008547051), (12, 0.008547048)], [(0, 0.019230962), (1, 0.019230805), (2, 0.76922876), (3, 0.01923083), (4, 0.01923084), (5, 0.019231077), (6, 0.019230835), (7, 0.019230856), (8, 0.019231249), (9, 0.019230818), (10, 0.01923077), (11, 0.01923118), (12, 0.019231016)], [(0, 0.86813116), (1, 0.010989082), (2, 0.010989062), (3, 0.010989087), (4, 0.010989017), (5, 0.010989018), (6, 0.010989032), (7, 0.010989062), (8, 0.010989051), (9, 0.01098926), (10, 0.010989034), (11, 0.010989041), (12, 0.010989118)], [(0, 0.019231083), (1, 0.019230867), (2, 0.0192311), (3, 0.01923079), (4, 0.019230787), (5, 0.019230792), (6, 0.019230854), (7, 0.019230837), (8, 0.76922935), (9, 0.019230817), (10, 0.019230861), (11, 0.01923096), (12, 0.019230876)], [(0, 0.03846154), (1, 0.03846154), (2, 0.03846154), (3, 0.03846154), (4, 0.03846154), (5, 0.03846154), (6, 0.03846154), (7, 0.03846154), (8, 0.03846154), (9, 0.03846154), (10, 0.53846157), (11, 0.03846154), (12, 0.03846154)], [(0, 0.019231027), (1, 0.01923138), (2, 0.01923111), (3, 0.019230807), (4, 0.01923077), (5, 0.01923077), (6, 0.01923077), (7, 0.019230986), (8, 0.019230856), (9, 0.01923077), (10, 0.019230949), (11, 0.4191591), (12, 0.3693007)], [(0, 0.92307657), (1, 0.006410273), (2, 0.006410273), (3, 0.0064102584), (4, 0.0064102584), (5, 0.006410259), (6, 0.0064102635), (7, 0.006410484), (8, 0.0064102905), (9, 0.0064102905), (10, 0.006410264), (11, 0.0064102644), (12, 0.006410267)], [(0, 0.015384814), (1, 0.015384634), (2, 0.8153841), (3, 0.015384677), (4, 0.015384617), (5, 0.015384649), (6, 0.015384664), (7, 0.015384646), (8, 0.015384629), (9, 0.015384644), (10, 0.015384617), (11, 0.015384625), (12, 0.015384729)], [(0, 0.015384791), (1, 0.015384646), (2, 0.015384753), (3, 0.015384702), (4, 0.0153846145), (5, 0.81538373), (6, 0.0153846145), (7, 0.015384721), (8, 0.015384692), (9, 0.0153846145), (10, 0.015384758), (11, 0.015384665), (12, 0.01538468)], [(0, 0.5384595), (1, 0.03846154), (2, 0.038462363), (3, 0.03846154), (4, 0.03846154), (5, 0.03846154), (6, 0.03846154), (7, 0.038461946), (8, 0.03846154), (9, 0.038461775), (10, 0.03846154), (11, 0.03846154), (12, 0.03846209)], [(0, 0.56676036), (1, 0.01923091), (2, 0.019230908), (3, 0.01923088), (4, 0.22170024), (5, 0.01923077), (6, 0.0192308), (7, 0.019230831), (8, 0.019230898), (9, 0.01923077), (10, 0.019230813), (11, 0.019230863), (12, 0.019230995)], [(0, 0.012820757), (1, 0.01282062), (2, 0.012820802), (3, 0.012820662), (4, 0.012820513), (5, 0.012820513), (6, 0.8461519), (7, 0.012820722), (8, 0.01282072), (9, 0.012820943), (10, 0.012820591), (11, 0.012820672), (12, 0.012820574)], [(0, 0.010989157), (1, 0.010989073), (2, 0.8681312), (3, 0.010989016), (4, 0.010989091), (5, 0.01098902), (6, 0.010989011), (7, 0.010989101), (8, 0.010989109), (9, 0.010989023), (10, 0.010989011), (11, 0.010989017), (12, 0.010989114)], [(0, 0.019230967), (1, 0.019230844), (2, 0.7692295), (3, 0.019230768), (4, 0.019230768), (5, 0.019230768), (6, 0.019230768), (7, 0.019230945), (8, 0.01923092), (9, 0.019230768), (10, 0.019230768), (11, 0.019230768), (12, 0.019231413)]]\n"
          ]
        }
      ]
    },
    {
      "cell_type": "code",
      "source": [
        "topic_dist = [lda_model.get_document_topics(doc) for doc in corpus]\n",
        "\n",
        "# Convert topic distribution to a numpy array\n",
        "topic_dist_np = np.zeros((len(topic_dist), lda_model.num_topics))\n",
        "for i, doc_topics in enumerate(topic_dist):\n",
        "    for topic, prob in doc_topics:\n",
        "        topic_dist_np[i, topic] = prob\n",
        "\n",
        "# Generating the heatmap\n",
        "fig, ax = plt.subplots(figsize=(10, 6))\n",
        "sns.heatmap(topic_dist_np, cmap='Blues', ax=ax)\n",
        "ax.set_xlabel('Topic')\n",
        "ax.set_ylabel('Document')\n",
        "ax.set_title('Topic Distribution Heatmap')\n",
        "plt.show()"
      ],
      "metadata": {
        "colab": {
          "base_uri": "https://localhost:8080/",
          "height": 404
        },
        "id": "SJYgK-VsHeNZ",
        "outputId": "81d7cd4e-4bb9-473c-f132-ba2445b37546"
      },
      "id": "SJYgK-VsHeNZ",
      "execution_count": null,
      "outputs": [
        {
          "output_type": "display_data",
          "data": {
            "text/plain": [
              "<Figure size 720x432 with 2 Axes>"
            ],
            "image/png": "[encoded data removed]"
          },
          "metadata": {
            "needs_background": "light"
          }
        }
      ]
    },
    {
      "cell_type": "code",
      "source": [
        "topic_counts = np.sum(topic_dist_np, axis=0)\n",
        "plt.bar(range(lda_model.num_topics), topic_counts)\n",
        "plt.xticks(rotation=90)\n",
        "plt.xlabel('Topic')\n",
        "plt.ylabel('Number of Tweets')\n",
        "plt.title('Distribution of Topics in Tweets')\n",
        "plt.show()"
      ],
      "metadata": {
        "colab": {
          "base_uri": "https://localhost:8080/",
          "height": 298
        },
        "id": "zwmDF-BYXGrD",
        "outputId": "ecc7856c-a67b-42ff-a9be-e2373aa6ef12"
      },
      "id": "zwmDF-BYXGrD",
      "execution_count": null,
      "outputs": [
        {
          "output_type": "display_data",
          "data": {
            "text/plain": [
              "<Figure size 432x288 with 1 Axes>"
            ],
            "image/png": "[encoded data removed]"
          },
          "metadata": {
            "needs_background": "light"
          }
        }
      ]
    }
  ],
  "metadata": {
    "kernelspec": {
      "display_name": "Python 3 (ipykernel)",
      "language": "python",
      "name": "python3"
    },
    "language_info": {
      "codemirror_mode": {
        "name": "ipython",
        "version": 3
      },
      "file_extension": ".py",
      "mimetype": "text/x-python",
      "name": "python",
      "nbconvert_exporter": "python",
      "pygments_lexer": "ipython3",
      "version": "3.9.12"
    },
    "colab": {
      "provenance": []
    }
  },
  "nbformat": 4,
  "nbformat_minor": 5
}